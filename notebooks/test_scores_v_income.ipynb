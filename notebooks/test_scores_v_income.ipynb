{
 "cells": [
  {
   "cell_type": "markdown",
   "metadata": {
    "colab_type": "text",
    "id": "L7nniCemQCCG"
   },
   "source": [
    "# Import Libs"
   ]
  },
  {
   "cell_type": "code",
   "execution_count": null,
   "metadata": {
    "colab": {},
    "colab_type": "code",
    "id": "_vZzV4q7Pn6K"
   },
   "outputs": [],
   "source": [
    "import numpy as np\n",
    "import pandas as pd\n",
    "import seaborn as sns\n",
    "import altair as alt\n",
    "import matplotlib.pyplot as plt\n",
    "import warnings\n",
    "import folium\n",
    "warnings.filterwarnings('ignore')"
   ]
  },
  {
   "cell_type": "code",
   "execution_count": null,
   "metadata": {
    "colab": {
     "base_uri": "https://localhost:8080/",
     "height": 122
    },
    "colab_type": "code",
    "executionInfo": {
     "elapsed": 78715,
     "status": "ok",
     "timestamp": 1559170820177,
     "user": {
      "displayName": "Spencer Tibbitts",
      "photoUrl": "",
      "userId": "04799193853875039711"
     },
     "user_tz": 240
    },
    "id": "B3zEWSmtcnzF",
    "outputId": "a6795bc8-9ea0-437a-c62d-839300cd6a69"
   },
   "outputs": [],
   "source": [
    "filename = '../data/raw/CriticalPath_Data_EM_Confidential.xlsx'\n",
    "\n",
    "data = pd.read_excel(filename)"
   ]
  },
  {
   "cell_type": "markdown",
   "metadata": {
    "colab_type": "text",
    "id": "ptC8fi_9V8Z5"
   },
   "source": [
    "# Evaluate Wages v. Test Scores"
   ]
  },
  {
   "cell_type": "markdown",
   "metadata": {
    "colab_type": "text",
    "id": "PUw4y_SKWEzU"
   },
   "source": [
    "## Parental Wages"
   ]
  },
  {
   "cell_type": "code",
   "execution_count": null,
   "metadata": {
    "colab": {
     "base_uri": "https://localhost:8080/",
     "height": 4229
    },
    "colab_type": "code",
    "executionInfo": {
     "elapsed": 6990,
     "status": "ok",
     "timestamp": 1559062474305,
     "user": {
      "displayName": "Spencer Tibbitts",
      "photoUrl": "",
      "userId": "04799193853875039711"
     },
     "user_tz": 240
    },
    "id": "3-F_zv3mRVeC",
    "outputId": "bbbb738a-e8ad-4e9c-8c40-898540710bf8"
   },
   "outputs": [],
   "source": [
    "for col in ['Father_Wages','Mther_Wages','Net_worth_parents_investments','Parent_income_AGI','Parent_cash','Net_worth_parents_bus']:\n",
    "\n",
    "  sns.lmplot(fit_reg=True,data=data[data['Enrolled']==80],y=col,x='MAXSATVerbalMath',size=5)\n",
    "  plt.ylim(np.nanpercentile(data[col],2.5),\n",
    "            np.nanpercentile(data[col],97.5))\n",
    "  \n",
    "  sns.lmplot(fit_reg=True,data=data[data['Enrolled']==80],y=col,x='ACTComposite',size=5)\n",
    "  plt.ylim(np.nanpercentile(data[col],2.5),\n",
    "            np.nanpercentile(data[col],97.5))"
   ]
  },
  {
   "cell_type": "markdown",
   "metadata": {
    "colab_type": "text",
    "id": "quy7XV2XWKGR"
   },
   "source": [
    "## Student Wages"
   ]
  },
  {
   "cell_type": "code",
   "execution_count": null,
   "metadata": {
    "colab": {
     "base_uri": "https://localhost:8080/",
     "height": 2129
    },
    "colab_type": "code",
    "executionInfo": {
     "elapsed": 3415,
     "status": "ok",
     "timestamp": 1559062601889,
     "user": {
      "displayName": "Spencer Tibbitts",
      "photoUrl": "",
      "userId": "04799193853875039711"
     },
     "user_tz": 240
    },
    "id": "jRmAx0buWH4L",
    "outputId": "ee5ec6f8-a3d3-4c39-c8f5-f94519ee6e09"
   },
   "outputs": [],
   "source": [
    "for col in ['Student_Wages','Student_income_AGI','Net_worth_students_investments']:\n",
    "\n",
    "  sns.lmplot(fit_reg=True,data=data[data['Enrolled']==80],y=col,x='MAXSATVerbalMath',size=5)\n",
    "  plt.ylim(np.nanpercentile(data[col],2.5),\n",
    "            np.nanpercentile(data[col],97.5))\n",
    "  \n",
    "  sns.lmplot(fit_reg=True,data=data[data['Enrolled']==80],y=col,x='ACTComposite',size=5)\n",
    "  plt.ylim(np.nanpercentile(data[col],2.5),\n",
    "            np.nanpercentile(data[col],97.5))"
   ]
  }
 ],
 "metadata": {
  "colab": {
   "collapsed_sections": [
    "ptC8fi_9V8Z5"
   ],
   "name": "Test_Scores_v_Income.ipynb",
   "provenance": [],
   "version": "0.3.2"
  },
  "kernelspec": {
   "display_name": "Python 3",
   "language": "python",
   "name": "python3"
  },
  "language_info": {
   "codemirror_mode": {
    "name": "ipython",
    "version": 3
   },
   "file_extension": ".py",
   "mimetype": "text/x-python",
   "name": "python",
   "nbconvert_exporter": "python",
   "pygments_lexer": "ipython3",
   "version": "3.5.2"
  }
 },
 "nbformat": 4,
 "nbformat_minor": 1
}
