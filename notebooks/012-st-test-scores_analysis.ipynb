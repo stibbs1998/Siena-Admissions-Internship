{
 "cells": [
  {
   "cell_type": "markdown",
   "metadata": {},
   "source": [
    "### Test Score Analysis\n",
    "\n",
    "This notebook was created to take an in-depth look into students test scores to see if there is anything worth taking away."
   ]
  },
  {
   "cell_type": "markdown",
   "metadata": {
    "colab_type": "text",
    "id": "L7nniCemQCCG"
   },
   "source": [
    "Import necessary libraries."
   ]
  },
  {
   "cell_type": "code",
   "execution_count": null,
   "metadata": {
    "colab": {},
    "colab_type": "code",
    "id": "_vZzV4q7Pn6K"
   },
   "outputs": [],
   "source": [
    "import numpy as np\n",
    "import pandas as pd\n",
    "import seaborn as sns\n",
    "import altair as alt\n",
    "alt.renderers.enable('notebook')\n",
    "\n",
    "import matplotlib.pyplot as plt\n",
    "import warnings\n",
    "import folium\n",
    "warnings.filterwarnings('ignore')\n",
    "\n",
    "import sys\n",
    "sys.path.insert(0, '../src/visualization/')\n",
    "import visualize as vis"
   ]
  },
  {
   "cell_type": "markdown",
   "metadata": {},
   "source": [
    "Read in the .csv file as a DataFrame."
   ]
  },
  {
   "cell_type": "code",
   "execution_count": null,
   "metadata": {
    "colab": {
     "base_uri": "https://localhost:8080/",
     "height": 122
    },
    "colab_type": "code",
    "executionInfo": {
     "elapsed": 78715,
     "status": "ok",
     "timestamp": 1559170820177,
     "user": {
      "displayName": "Spencer Tibbitts",
      "photoUrl": "",
      "userId": "04799193853875039711"
     },
     "user_tz": 240
    },
    "id": "B3zEWSmtcnzF",
    "outputId": "a6795bc8-9ea0-437a-c62d-839300cd6a69"
   },
   "outputs": [],
   "source": [
    "filename = '../data/processed/CriticalPath_Data_EM_Confidential_lessNoise.csv'\n",
    "df =  pd.read_csv(filename).drop(columns=['Unnamed: 0'])"
   ]
  },
  {
   "cell_type": "markdown",
   "metadata": {
    "colab_type": "text",
    "id": "ptC8fi_9V8Z5"
   },
   "source": [
    "The following visualizations are trying to determine if their is a correlation between wages and SAT/ACT scores."
   ]
  },
  {
   "cell_type": "markdown",
   "metadata": {
    "colab_type": "text",
    "id": "PUw4y_SKWEzU"
   },
   "source": [
    "ScatterPlots: Parental financial information vs. `MAXSATVerbalMath` and `ACTComposite`."
   ]
  },
  {
   "cell_type": "code",
   "execution_count": null,
   "metadata": {
    "colab": {
     "base_uri": "https://localhost:8080/",
     "height": 4229
    },
    "colab_type": "code",
    "executionInfo": {
     "elapsed": 6990,
     "status": "ok",
     "timestamp": 1559062474305,
     "user": {
      "displayName": "Spencer Tibbitts",
      "photoUrl": "",
      "userId": "04799193853875039711"
     },
     "user_tz": 240
    },
    "id": "3-F_zv3mRVeC",
    "outputId": "bbbb738a-e8ad-4e9c-8c40-898540710bf8",
    "scrolled": true
   },
   "outputs": [],
   "source": [
    "for col in ['Father_Wages','Mther_Wages','Net_worth_parents_investments','Parent_income_AGI','Parent_cash','Net_worth_parents_bus']:\n",
    "\n",
    "    sns.lmplot(data=df,y=col,x='MAXSATVerbalMath',size=5,hue='Admission_status',\n",
    "               scatter_kws={\"alpha\":0.2})\n",
    "    plt.ylim(np.nanpercentile(df[col],10),\n",
    "            np.nanpercentile(df[col],90))\n",
    "    \n",
    "    \n",
    "    sns.lmplot(fit_reg=True,data=df,y=col,x='ACTComposite',size=5, scatter_kws={\"alpha\":0.2},\n",
    "               hue='Admission_status')\n",
    "    plt.ylim(np.nanpercentile(df[col],10),\n",
    "            np.nanpercentile(df[col],90))"
   ]
  },
  {
   "cell_type": "markdown",
   "metadata": {
    "colab_type": "text",
    "id": "quy7XV2XWKGR"
   },
   "source": [
    "ScatterPlots: Student financial information vs. `MAXSATVerbalMath` and `ACTComposite`."
   ]
  },
  {
   "cell_type": "code",
   "execution_count": null,
   "metadata": {
    "colab": {
     "base_uri": "https://localhost:8080/",
     "height": 2129
    },
    "colab_type": "code",
    "executionInfo": {
     "elapsed": 3415,
     "status": "ok",
     "timestamp": 1559062601889,
     "user": {
      "displayName": "Spencer Tibbitts",
      "photoUrl": "",
      "userId": "04799193853875039711"
     },
     "user_tz": 240
    },
    "id": "jRmAx0buWH4L",
    "outputId": "ee5ec6f8-a3d3-4c39-c8f5-f94519ee6e09",
    "scrolled": true
   },
   "outputs": [],
   "source": [
    "for col in ['Student_Wages','Student_income_AGI','Net_worth_students_investments']:\n",
    "\n",
    "    sns.lmplot(fit_reg=True,data=df,y=col,x='MAXSATVerbalMath',size=5,hue='Admission_status')\n",
    "    plt.ylim(np.nanpercentile(df[col],2.5),\n",
    "            np.nanpercentile(df[col],97.5))\n",
    "\n",
    "    sns.lmplot(fit_reg=True,data=df,y=col,x='ACTComposite',size=5,hue='Admission_status')\n",
    "    plt.ylim(np.nanpercentile(df[col],2.5),\n",
    "            np.nanpercentile(df[col],97.5))"
   ]
  },
  {
   "cell_type": "markdown",
   "metadata": {},
   "source": [
    "Now plot the distribution of grades based on School of Science/Business/Liberal Arts."
   ]
  },
  {
   "cell_type": "code",
   "execution_count": null,
   "metadata": {},
   "outputs": [],
   "source": [
    "def grade_dist(exam):\n",
    "    f, axes = plt.subplots(figsize=(10,6))\n",
    "    sns.distplot(df[df['CollegeCode']=='SD'][exam].dropna(),\n",
    "                 color='skyblue',label='School of Science',hist_kws={\"alpha\":0.5});\n",
    "    sns.distplot(df[df['CollegeCode']=='AD'][exam].dropna(),\n",
    "                 color='red',label='School of Liberal Arts',hist_kws={\"alpha\":0.4});\n",
    "    sns.distplot(df[df['CollegeCode']=='BD'][exam].dropna(),\n",
    "                 color='yellow',label='School of Business',hist_kws={\"alpha\":0.3});\n",
    "    plt.legend(loc='best');\n",
    "    plt.ylabel('Kernel Density Estimate')\n",
    "    plt.title(exam+' by College Code')\n",
    "    return f, axes\n",
    "    \n",
    "grade_dist('MAXSATVerbalMath'), grade_dist('ACTComposite');"
   ]
  },
  {
   "cell_type": "markdown",
   "metadata": {},
   "source": [
    "Lets find out what percentage of students report their test scores."
   ]
  },
  {
   "cell_type": "code",
   "execution_count": null,
   "metadata": {},
   "outputs": [],
   "source": [
    "def score_report(reported_scores,test):\n",
    "    \n",
    "    source = pd.DataFrame.from_dict({\"Department\":['School of Liberal Arts','School of Business',\n",
    "                                                   'School of Science'],\n",
    "                           \"Percentage Reported\":reported_scores})\n",
    "\n",
    "    return alt.Chart(source).mark_bar(color='green').encode(\n",
    "        x=alt.X('Percentage Reported:Q',axis=alt.Axis(format='%',title='Reported')),\n",
    "        y=alt.Y(\"Department:O\",axis=alt.Axis(title='',ticks=False)),\n",
    "        color=\"Department:O\"        \n",
    "    ).properties(height=300,width=200,title=f\"{test} Reporting by Department\")"
   ]
  },
  {
   "cell_type": "code",
   "execution_count": null,
   "metadata": {},
   "outputs": [],
   "source": [
    "sat_scores = []\n",
    "\n",
    "for dept in df['CollegeCode'].unique():\n",
    "    sat_scores.append((len(df[df['CollegeCode']==dept]['MAXSATVerbalMath'].dropna())+\n",
    "                    len(df[df['CollegeCode']==dept]['SAT_combined'].dropna())\n",
    "                    )/len(df[df['CollegeCode']==dept]) )\n",
    "\n",
    "act_scores = []\n",
    "for dept in df['CollegeCode'].unique():\n",
    "    act_scores.append((len(df[df['CollegeCode']==dept]['ACTComposite'].dropna())\n",
    "                    )/len(df[df['CollegeCode']==dept]['ACTComposite']) )\n",
    "\n",
    "\n",
    "(score_report(sat_scores, \"SAT\")) | (score_report(act_scores,\"ACT\"))"
   ]
  },
  {
   "cell_type": "markdown",
   "metadata": {},
   "source": [
    "Is there an anti-correlation between athletes and submitted SAT Scores??\n",
    "\n",
    "Contrary to stereotypes there actually **shouldn't** be, due to NCAA Clearing House rules."
   ]
  },
  {
   "cell_type": "code",
   "execution_count": null,
   "metadata": {},
   "outputs": [],
   "source": [
    "ath_df = df[df['Recruited_athlete']==df['Recruited_athlete']]\n",
    "\n",
    "sat_scores = []\n",
    "\n",
    "for dept in ath_df['CollegeCode'].unique():\n",
    "    sat_scores.append((len(ath_df[ath_df['CollegeCode']==dept]['MAXSATVerbalMath'].dropna())+\n",
    "                    len(ath_df[ath_df['CollegeCode']==dept]['SAT_combined'].dropna())\n",
    "                    )/len(ath_df[ath_df['CollegeCode']==dept]) )\n",
    "\n",
    "act_scores = []\n",
    "for dept in ath_df['CollegeCode'].unique():\n",
    "    act_scores.append((len(ath_df[ath_df['CollegeCode']==dept]['ACTComposite'].dropna())\n",
    "                    )/len(ath_df[ath_df['CollegeCode']==dept]['ACTComposite']) )\n",
    "\n",
    "\n",
    "(score_report(sat_scores, \"SAT\")) | (score_report(act_scores,\"ACT\"))"
   ]
  }
 ],
 "metadata": {
  "colab": {
   "collapsed_sections": [
    "ptC8fi_9V8Z5"
   ],
   "name": "Test_Scores_v_Income.ipynb",
   "provenance": [],
   "version": "0.3.2"
  },
  "kernelspec": {
   "display_name": "Python 3",
   "language": "python",
   "name": "python3"
  },
  "language_info": {
   "codemirror_mode": {
    "name": "ipython",
    "version": 3
   },
   "file_extension": ".py",
   "mimetype": "text/x-python",
   "name": "python",
   "nbconvert_exporter": "python",
   "pygments_lexer": "ipython3",
   "version": "3.7.3"
  }
 },
 "nbformat": 4,
 "nbformat_minor": 4
}
