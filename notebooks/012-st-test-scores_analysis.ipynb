{
 "cells": [
  {
   "cell_type": "markdown",
   "metadata": {
    "colab_type": "text",
    "id": "L7nniCemQCCG"
   },
   "source": [
    "# Import Libs"
   ]
  },
  {
   "cell_type": "code",
   "execution_count": null,
   "metadata": {
    "colab": {},
    "colab_type": "code",
    "id": "_vZzV4q7Pn6K"
   },
   "outputs": [],
   "source": [
    "import numpy as np\n",
    "import pandas as pd\n",
    "import seaborn as sns\n",
    "import altair as alt\n",
    "alt.renderers.enable('notebook')\n",
    "\n",
    "import matplotlib.pyplot as plt\n",
    "import warnings\n",
    "import folium\n",
    "warnings.filterwarnings('ignore')"
   ]
  },
  {
   "cell_type": "code",
   "execution_count": null,
   "metadata": {
    "colab": {
     "base_uri": "https://localhost:8080/",
     "height": 122
    },
    "colab_type": "code",
    "executionInfo": {
     "elapsed": 78715,
     "status": "ok",
     "timestamp": 1559170820177,
     "user": {
      "displayName": "Spencer Tibbitts",
      "photoUrl": "",
      "userId": "04799193853875039711"
     },
     "user_tz": 240
    },
    "id": "B3zEWSmtcnzF",
    "outputId": "a6795bc8-9ea0-437a-c62d-839300cd6a69"
   },
   "outputs": [],
   "source": [
    "filename = '../data/processed/CriticalPath_Data_EM_Confidential_lessNoise.csv'\n",
    "\n",
    "data = pd.read_csv(filename).drop(columns=['Unnamed: 0'])\n",
    "\n",
    "mapper = {70: \"Accepted - not Enrolled\", 80: \"Enrolled\"}\n",
    "\n",
    "for status in data['Admission_status'].unique():\n",
    "    if status!=70 and status!=80:\n",
    "#         print(status)\n",
    "        mapper[status] = \"Applied\"\n",
    "        \n",
    "\n",
    "data['Admission_status'] = data['Admission_status'].map(mapper)"
   ]
  },
  {
   "cell_type": "markdown",
   "metadata": {
    "colab_type": "text",
    "id": "ptC8fi_9V8Z5"
   },
   "source": [
    "# Evaluate Wages v. Test Scores"
   ]
  },
  {
   "cell_type": "markdown",
   "metadata": {
    "colab_type": "text",
    "id": "PUw4y_SKWEzU"
   },
   "source": [
    "## Parental Wages"
   ]
  },
  {
   "cell_type": "code",
   "execution_count": null,
   "metadata": {
    "colab": {
     "base_uri": "https://localhost:8080/",
     "height": 4229
    },
    "colab_type": "code",
    "executionInfo": {
     "elapsed": 6990,
     "status": "ok",
     "timestamp": 1559062474305,
     "user": {
      "displayName": "Spencer Tibbitts",
      "photoUrl": "",
      "userId": "04799193853875039711"
     },
     "user_tz": 240
    },
    "id": "3-F_zv3mRVeC",
    "outputId": "bbbb738a-e8ad-4e9c-8c40-898540710bf8"
   },
   "outputs": [],
   "source": [
    "for col in ['Father_Wages','Mther_Wages','Net_worth_parents_investments','Parent_income_AGI','Parent_cash','Net_worth_parents_bus']:\n",
    "\n",
    "    sns.lmplot(data=data,y=col,x='MAXSATVerbalMath',size=5,hue='Admission_status',\n",
    "               scatter_kws={\"alpha\":0.2})\n",
    "    plt.ylim(np.nanpercentile(data[col],10),\n",
    "            np.nanpercentile(data[col],90))\n",
    "    \n",
    "    \n",
    "    sns.lmplot(fit_reg=True,data=data,y=col,x='ACTComposite',size=5, scatter_kws={\"alpha\":0.2},\n",
    "               hue='Admission_status')\n",
    "    plt.ylim(np.nanpercentile(data[col],10),\n",
    "            np.nanpercentile(data[col],90))"
   ]
  },
  {
   "cell_type": "markdown",
   "metadata": {
    "colab_type": "text",
    "id": "quy7XV2XWKGR"
   },
   "source": [
    "## Student Wages"
   ]
  },
  {
   "cell_type": "code",
   "execution_count": null,
   "metadata": {
    "colab": {
     "base_uri": "https://localhost:8080/",
     "height": 2129
    },
    "colab_type": "code",
    "executionInfo": {
     "elapsed": 3415,
     "status": "ok",
     "timestamp": 1559062601889,
     "user": {
      "displayName": "Spencer Tibbitts",
      "photoUrl": "",
      "userId": "04799193853875039711"
     },
     "user_tz": 240
    },
    "id": "jRmAx0buWH4L",
    "outputId": "ee5ec6f8-a3d3-4c39-c8f5-f94519ee6e09"
   },
   "outputs": [],
   "source": [
    "for col in ['Student_Wages','Student_income_AGI','Net_worth_students_investments']:\n",
    "\n",
    "    sns.lmplot(fit_reg=True,data=data[data['Enrolled']==80],y=col,x='MAXSATVerbalMath',size=5)\n",
    "    plt.ylim(np.nanpercentile(data[col],2.5),\n",
    "            np.nanpercentile(data[col],97.5))\n",
    "\n",
    "    sns.lmplot(fit_reg=True,data=data[data['Enrolled']==80],y=col,x='ACTComposite',size=5)\n",
    "    plt.ylim(np.nanpercentile(data[col],2.5),\n",
    "            np.nanpercentile(data[col],97.5))"
   ]
  },
  {
   "cell_type": "markdown",
   "metadata": {},
   "source": [
    "# Test scores by School of Science, Liberal Arts, Business"
   ]
  },
  {
   "cell_type": "code",
   "execution_count": null,
   "metadata": {},
   "outputs": [],
   "source": [
    "f, axes = plt.subplots(figsize=(10,6))\n",
    "\n",
    "sns.distplot(data[data['CollegeCode']=='SD']['MAXSATVerbalMath'].dropna(),\n",
    "             color='skyblue',label='School of Science',hist_kws={\"alpha\":0.5});\n",
    "\n",
    "sns.distplot(data[data['CollegeCode']=='AD']['MAXSATVerbalMath'].dropna(),\n",
    "             color='red',label='School of Liberal Arts',hist_kws={\"alpha\":0.4});\n",
    "\n",
    "sns.distplot(data[data['CollegeCode']=='BD']['MAXSATVerbalMath'].dropna(),\n",
    "             color='yellow',label='School of Business',hist_kws={\"alpha\":0.3});\n",
    "\n",
    "plt.legend(loc='best');"
   ]
  },
  {
   "cell_type": "markdown",
   "metadata": {},
   "source": [
    "## What percentage of students report test scores?"
   ]
  },
  {
   "cell_type": "code",
   "execution_count": null,
   "metadata": {},
   "outputs": [],
   "source": [
    "reported = []\n",
    "for dept in data['CollegeCode'].unique():\n",
    "    reported.append(100* (len(data[data['CollegeCode']==dept]['MAXSATVerbalMath'].dropna())+\n",
    "                    len(data[data['CollegeCode']==dept]['SAT_combined'].dropna())\n",
    "                    )/len(data[data['CollegeCode']==dept]['MAXSATVerbalMath']) )\n",
    "\n",
    "source = pd.DataFrame.from_dict({\"Department\":['School of Liberal Arts','School of Business',\n",
    "                                               'School of Science'],\n",
    "                       \"Percentage Reported\":reported})\n",
    "\n",
    "alt.Chart(source).mark_bar().encode(\n",
    "    x='Percentage Reported:Q',\n",
    "    y=\"Department:O\"\n",
    ").properties(height=300,width=200,title=\"SAT Reporting by Department\")"
   ]
  },
  {
   "cell_type": "code",
   "execution_count": null,
   "metadata": {},
   "outputs": [],
   "source": [
    "reported = []\n",
    "for dept in data['CollegeCode'].unique():\n",
    "    reported.append(100* (len(data[data['CollegeCode']==dept]['ACTComposite'].dropna())\n",
    "                    )/len(data[data['CollegeCode']==dept]['ACTComposite']) )\n",
    "\n",
    "source = pd.DataFrame.from_dict({\"Department\":['School of Liberal Arts','School of Business',\n",
    "                                               'School of Science'],\n",
    "                       \"Percentage Reported\":reported})\n",
    "\n",
    "alt.Chart(source).mark_bar().encode(\n",
    "    x='Percentage Reported:Q',\n",
    "    y=\"Department:O\"\n",
    ").properties(height=300,width=200,title=\"ACT Reporting by Department\")"
   ]
  }
 ],
 "metadata": {
  "colab": {
   "collapsed_sections": [
    "ptC8fi_9V8Z5"
   ],
   "name": "Test_Scores_v_Income.ipynb",
   "provenance": [],
   "version": "0.3.2"
  },
  "kernelspec": {
   "display_name": "Python 3",
   "language": "python",
   "name": "python3"
  },
  "language_info": {
   "codemirror_mode": {
    "name": "ipython",
    "version": 3
   },
   "file_extension": ".py",
   "mimetype": "text/x-python",
   "name": "python",
   "nbconvert_exporter": "python",
   "pygments_lexer": "ipython3",
   "version": "3.7.3"
  }
 },
 "nbformat": 4,
 "nbformat_minor": 4
}
