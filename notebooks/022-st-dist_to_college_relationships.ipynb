{
 "cells": [
  {
   "cell_type": "markdown",
   "metadata": {},
   "source": [
    "### Dist to College Relationships\n",
    "\n",
    "The goal of this notebook is to try and identify any relationships between distance to the school a student chooses, specifically their Academic Rating, and household income."
   ]
  },
  {
   "cell_type": "markdown",
   "metadata": {},
   "source": [
    "Import necessary libraries."
   ]
  },
  {
   "cell_type": "code",
   "execution_count": null,
   "metadata": {},
   "outputs": [],
   "source": [
    "import numpy as np\n",
    "import pandas as pd\n",
    "import sys\n",
    "\n",
    "import altair as alt\n",
    "import seaborn as sns\n",
    "import matplotlib.pyplot as plt\n",
    "import matplotlib.ticker as mtick\n",
    "\n",
    "import warnings\n",
    "warnings.filterwarnings('ignore')\n",
    "\n",
    "sys.path.insert(0,'../src/visualization/')\n",
    "import visualize as vis"
   ]
  },
  {
   "cell_type": "markdown",
   "metadata": {},
   "source": [
    "Read in the .csv file with HEOP and AMC 'noise' removed."
   ]
  },
  {
   "cell_type": "code",
   "execution_count": null,
   "metadata": {},
   "outputs": [],
   "source": [
    "df = pd.read_csv('../data/processed/CriticalPath_Data_EM_Confidential_lessNoise.csv').drop(columns='Unnamed: 0')"
   ]
  },
  {
   "cell_type": "markdown",
   "metadata": {},
   "source": [
    "Re-organize the `df['HD_Academic_Rating']` column."
   ]
  },
  {
   "cell_type": "code",
   "execution_count": null,
   "metadata": {},
   "outputs": [],
   "source": [
    "ratings_names = [rating for rating in df['HD_Academic_Rating'].unique() if ('AR' in str(rating) and 'X' not in str(rating))]\n",
    "ratings_names += ['ARX']\n",
    "ratings_numbers = [rating[2] for rating in df['HD_Academic_Rating'].unique() if ('AR' in str(rating) and 'X' not in str(rating))]\n",
    "ratings_numbers += ['0']\n",
    "\n",
    "df['HD_Academic_Rating_Numeric'] = df.HD_Academic_Rating.map(dict(zip(ratings_names,ratings_numbers))).astype(int,errors='ignore')\n",
    "df.HD_Academic_Rating = df.HD_Academic_Rating.map(dict(zip(ratings_names,ratings_names)))"
   ]
  },
  {
   "cell_type": "markdown",
   "metadata": {},
   "source": [
    "Create a data source for plotting distance to schools vs. income and academic rating."
   ]
  },
  {
   "cell_type": "code",
   "execution_count": null,
   "metadata": {},
   "outputs": [],
   "source": [
    "source = df[['HD_Academic_Rating','HD_Academic_Rating_Numeric','Dist_to_Siena',\n",
    "             'Dist_to_Ccbnm','Enrolled','Parent_income_AGI']]\n",
    "\n",
    "source['Distance_to_School'] = source['Enrolled'].map({True:1,False:np.nan})\n",
    "source['Distance_to_School'] = source['Distance_to_School'].fillna(source['Dist_to_Ccbnm'])\n",
    "source['Distance_to_School'] = source['Distance_to_School'].replace({1:np.nan})\n",
    "source['Distance_to_School'] = source['Distance_to_School'].fillna(source['Dist_to_Siena'])\n",
    "source['School Attended'] = source['Enrolled'].map({True:\"Siena\",False:\"Other\"})"
   ]
  },
  {
   "cell_type": "markdown",
   "metadata": {},
   "source": [
    "Stripplot of Academic Rating v. Distance to School"
   ]
  },
  {
   "cell_type": "code",
   "execution_count": null,
   "metadata": {},
   "outputs": [],
   "source": [
    "f, axes = plt.subplots(figsize=(12,6))\n",
    "\n",
    "sns.stripplot(data=source,y='HD_Academic_Rating',x='Distance_to_School',hue=\"School Attended\",\n",
    "            jitter=True,dodge=True,size=3);\n",
    "plt.xlim(0,3000);\n",
    "plt.xlabel(\"Distance to School (mi)\")\n",
    "plt.ylabel(\"Academic Rating\");"
   ]
  },
  {
   "cell_type": "markdown",
   "metadata": {},
   "source": [
    "Boxplot of above plot, excluding outliers."
   ]
  },
  {
   "cell_type": "code",
   "execution_count": null,
   "metadata": {},
   "outputs": [],
   "source": [
    "f, axes = plt.subplots(figsize=(12,6))\n",
    "\n",
    "sns.boxplot(data=source,x='Distance_to_School',y='HD_Academic_Rating',hue=\"School Attended\",showfliers=False,\n",
    "            order=['AR1','AR1B','AR2','AR3','AR4','AR5']);\n",
    "plt.xlabel(\"Distance to School (mi)\")\n",
    "plt.ylabel(\"Academic Rating\");"
   ]
  },
  {
   "cell_type": "markdown",
   "metadata": {},
   "source": [
    "Parent's income v. Distance to school."
   ]
  },
  {
   "cell_type": "code",
   "execution_count": null,
   "metadata": {},
   "outputs": [],
   "source": [
    "f, axes = plt.subplots(figsize=(12,6))\n",
    "\n",
    "sns.scatterplot(data=source,x='Parent_income_AGI',y='Distance_to_School',hue='School Attended',alpha=0.3);\n",
    "fmt = '$%.0f'\n",
    "tick = mtick.FormatStrFormatter(fmt)\n",
    "axes.xaxis.set_major_formatter(tick)\n",
    "plt.xlim(0,1000000);\n",
    "\n",
    "plt.ylabel(\"Distance to School (mi)\")\n",
    "plt.xlabel(\"Parents' Adjusted Gross Income\");"
   ]
  }
 ],
 "metadata": {
  "kernelspec": {
   "display_name": "Python 3",
   "language": "python",
   "name": "python3"
  },
  "language_info": {
   "codemirror_mode": {
    "name": "ipython",
    "version": 3
   },
   "file_extension": ".py",
   "mimetype": "text/x-python",
   "name": "python",
   "nbconvert_exporter": "python",
   "pygments_lexer": "ipython3",
   "version": "3.7.3"
  }
 },
 "nbformat": 4,
 "nbformat_minor": 2
}
