{
 "cells": [
  {
   "cell_type": "markdown",
   "metadata": {
    "colab_type": "text",
    "id": "L7nniCemQCCG"
   },
   "source": [
    "# Import Libs"
   ]
  },
  {
   "cell_type": "code",
   "execution_count": null,
   "metadata": {
    "colab": {},
    "colab_type": "code",
    "id": "_vZzV4q7Pn6K"
   },
   "outputs": [],
   "source": [
    "import numpy as np\n",
    "import pandas as pd\n",
    "import seaborn as sns\n",
    "# import altair as alt\n",
    "import matplotlib.pyplot as plt\n",
    "import warnings\n",
    "import folium\n",
    "warnings.filterwarnings('ignore')"
   ]
  },
  {
   "cell_type": "code",
   "execution_count": null,
   "metadata": {
    "colab": {
     "base_uri": "https://localhost:8080/",
     "height": 34
    },
    "colab_type": "code",
    "executionInfo": {
     "elapsed": 32078,
     "status": "ok",
     "timestamp": 1559067257396,
     "user": {
      "displayName": "Spencer Tibbitts",
      "photoUrl": "",
      "userId": "04799193853875039711"
     },
     "user_tz": 240
    },
    "id": "B3zEWSmtcnzF",
    "outputId": "a509d0bd-c229-4894-901f-1031e5cd505a"
   },
   "outputs": [],
   "source": [
    "file = '../data/raw/CriticalPath_Data_EM_Confidential.xlsx'\n",
    "\n",
    "data = pd.read_excel(file)"
   ]
  },
  {
   "cell_type": "markdown",
   "metadata": {
    "colab_type": "text",
    "id": "Vx5lRsY4QFRg"
   },
   "source": [
    "# Create ClusterMap of Data"
   ]
  },
  {
   "cell_type": "code",
   "execution_count": null,
   "metadata": {
    "colab": {},
    "colab_type": "code",
    "id": "kLhP_rijPtMQ"
   },
   "outputs": [],
   "source": [
    "M = data.isnull().astype(int)\n",
    "cols = M.std()==0\n",
    "shadow_matrix = M[list(M.columns[~cols])]\n",
    "\n",
    "clustergrid = sns.clustermap(shadow_matrix.corr(),figsize=(12,12),cmap='coolwarm');"
   ]
  },
  {
   "cell_type": "markdown",
   "metadata": {
    "colab_type": "text",
    "id": "ptC8fi_9V8Z5"
   },
   "source": [
    "# Evaluate Wages v. Test Scores"
   ]
  },
  {
   "cell_type": "markdown",
   "metadata": {
    "colab_type": "text",
    "id": "PUw4y_SKWEzU"
   },
   "source": [
    "## Parental Wages"
   ]
  },
  {
   "cell_type": "code",
   "execution_count": null,
   "metadata": {
    "colab": {
     "base_uri": "https://localhost:8080/",
     "height": 4229
    },
    "colab_type": "code",
    "executionInfo": {
     "elapsed": 6990,
     "status": "ok",
     "timestamp": 1559062474305,
     "user": {
      "displayName": "Spencer Tibbitts",
      "photoUrl": "",
      "userId": "04799193853875039711"
     },
     "user_tz": 240
    },
    "id": "3-F_zv3mRVeC",
    "outputId": "bbbb738a-e8ad-4e9c-8c40-898540710bf8"
   },
   "outputs": [],
   "source": [
    "for col in ['Father_Wages','Mther_Wages','Net_worth_parents_investments','Parent_income_AGI','Parent_cash','Net_worth_parents_bus']:\n",
    "\n",
    "  sns.lmplot(fit_reg=True,data=data[data['Enrolled']==80],y=col,x='MAXSATVerbalMath',size=5)\n",
    "  plt.ylim(np.nanpercentile(data[col],2.5),\n",
    "            np.nanpercentile(data[col],97.5))\n",
    "  \n",
    "  sns.lmplot(fit_reg=True,data=data[data['Enrolled']==80],y=col,x='ACTComposite',size=5)\n",
    "  plt.ylim(np.nanpercentile(data[col],2.5),\n",
    "            np.nanpercentile(data[col],97.5))"
   ]
  },
  {
   "cell_type": "markdown",
   "metadata": {
    "colab_type": "text",
    "id": "quy7XV2XWKGR"
   },
   "source": [
    "## Student Wages"
   ]
  },
  {
   "cell_type": "code",
   "execution_count": null,
   "metadata": {
    "colab": {
     "base_uri": "https://localhost:8080/",
     "height": 2129
    },
    "colab_type": "code",
    "executionInfo": {
     "elapsed": 3415,
     "status": "ok",
     "timestamp": 1559062601889,
     "user": {
      "displayName": "Spencer Tibbitts",
      "photoUrl": "",
      "userId": "04799193853875039711"
     },
     "user_tz": 240
    },
    "id": "jRmAx0buWH4L",
    "outputId": "ee5ec6f8-a3d3-4c39-c8f5-f94519ee6e09"
   },
   "outputs": [],
   "source": [
    "for col in ['Student_Wages','Student_income_AGI','Net_worth_students_investments']:\n",
    "\n",
    "  sns.lmplot(fit_reg=True,data=data[data['Enrolled']==80],y=col,x='MAXSATVerbalMath',size=5)\n",
    "  plt.ylim(np.nanpercentile(data[col],2.5),\n",
    "            np.nanpercentile(data[col],97.5))\n",
    "  \n",
    "  sns.lmplot(fit_reg=True,data=data[data['Enrolled']==80],y=col,x='ACTComposite',size=5)\n",
    "  plt.ylim(np.nanpercentile(data[col],2.5),\n",
    "            np.nanpercentile(data[col],97.5))"
   ]
  },
  {
   "cell_type": "markdown",
   "metadata": {
    "colab_type": "text",
    "id": "SMw47f7uj0d6"
   },
   "source": [
    "# Where else do People go???"
   ]
  },
  {
   "cell_type": "code",
   "execution_count": null,
   "metadata": {
    "colab": {
     "base_uri": "https://localhost:8080/",
     "height": 34
    },
    "colab_type": "code",
    "executionInfo": {
     "elapsed": 389,
     "status": "ok",
     "timestamp": 1559067306427,
     "user": {
      "displayName": "Spencer Tibbitts",
      "photoUrl": "",
      "userId": "04799193853875039711"
     },
     "user_tz": 240
    },
    "id": "TLRpGnpTj2U9",
    "outputId": "c366e0d6-3eec-46b7-88f6-2f60eef72a09"
   },
   "outputs": [],
   "source": [
    "data[~data['College_chosen_by_non-matrics'].isnull()].size/len(data.columns)"
   ]
  },
  {
   "cell_type": "code",
   "execution_count": null,
   "metadata": {
    "colab": {
     "base_uri": "https://localhost:8080/",
     "height": 34
    },
    "colab_type": "code",
    "executionInfo": {
     "elapsed": 390,
     "status": "ok",
     "timestamp": 1559067314125,
     "user": {
      "displayName": "Spencer Tibbitts",
      "photoUrl": "",
      "userId": "04799193853875039711"
     },
     "user_tz": 240
    },
    "id": "Yjc83ltKj5Jr",
    "outputId": "cc916c3a-a682-4dbe-cd07-63de75a467fe"
   },
   "outputs": [],
   "source": [
    "data['College_chosen_by_non-matrics'].max()"
   ]
  },
  {
   "cell_type": "markdown",
   "metadata": {
    "colab_type": "text",
    "id": "XW6EApxAlfCK"
   },
   "source": [
    "# Import [CEEB Codes](https://help.liaisonedu.com/WebAdMIT_Help_Center/Documents_and_Reference_Guides/Master_College_Code_List)"
   ]
  },
  {
   "cell_type": "markdown",
   "metadata": {
    "colab_type": "text",
    "id": "NazGwqbZt4wv"
   },
   "source": [
    "How many students report this number???"
   ]
  },
  {
   "cell_type": "code",
   "execution_count": null,
   "metadata": {
    "colab": {
     "base_uri": "https://localhost:8080/",
     "height": 34
    },
    "colab_type": "code",
    "executionInfo": {
     "elapsed": 307,
     "status": "ok",
     "timestamp": 1559068118068,
     "user": {
      "displayName": "Spencer Tibbitts",
      "photoUrl": "",
      "userId": "04799193853875039711"
     },
     "user_tz": 240
    },
    "id": "E5m6MQdVs4CS",
    "outputId": "acce08c9-ac59-4637-e841-09116229bf12"
   },
   "outputs": [],
   "source": [
    "len(data[~data['College_chosen_by_non-matrics'].isnull()])"
   ]
  },
  {
   "cell_type": "code",
   "execution_count": null,
   "metadata": {
    "colab": {},
    "colab_type": "code",
    "id": "zWtowgW6lI8K"
   },
   "outputs": [],
   "source": [
    "college_codes = path + 'collegeCEEBS.xlsx'\n",
    "college_codes = pd.read_excel(college_codes)"
   ]
  },
  {
   "cell_type": "code",
   "execution_count": null,
   "metadata": {
    "colab": {},
    "colab_type": "code",
    "id": "NUwZXayulzh_"
   },
   "outputs": [],
   "source": [
    "mapper = college_codes[~college_codes['CEEB Code'].isnull()][['Name']]\n",
    "mapper.index = college_codes[~college_codes['CEEB Code'].isnull()].index = college_codes[~college_codes['CEEB Code'].isnull()]['CEEB Code'].astype(float)\n",
    "mapper = mapper.to_dict()"
   ]
  },
  {
   "cell_type": "code",
   "execution_count": null,
   "metadata": {
    "colab": {},
    "colab_type": "code",
    "id": "ZmhDvEwhl8TA"
   },
   "outputs": [],
   "source": [
    "colleges_by_major = data[['College_chosen_by_non-matrics','Major','Unique_student_ID']]\n",
    "colleges_by_major['College_chosen_by_non-matrics'] = colleges_by_major['College_chosen_by_non-matrics'].map(mapper['Name'])\n",
    "colleges_by_major = colleges_by_major[~colleges_by_major['College_chosen_by_non-matrics'].isnull()]"
   ]
  },
  {
   "cell_type": "code",
   "execution_count": null,
   "metadata": {
    "colab": {},
    "colab_type": "code",
    "id": "m7UWha_iqpv2"
   },
   "outputs": [],
   "source": [
    "college_by_major = colleges_by_major.groupby([\"College_chosen_by_non-matrics\",\n",
    "                                              \"Major\"]).count().rename(columns={\"Unique_student_ID\":\"Num Students\"})\n",
    "college_by_major = college_by_major.reset_index()\n",
    "college_by_major[college_by_major['College_chosen_by_non-matrics']=='UNIVERSITY AT ALBANY']"
   ]
  },
  {
   "cell_type": "code",
   "execution_count": null,
   "metadata": {
    "colab": {
     "base_uri": "https://localhost:8080/",
     "height": 463
    },
    "colab_type": "code",
    "executionInfo": {
     "elapsed": 312,
     "status": "ok",
     "timestamp": 1559068043781,
     "user": {
      "displayName": "Spencer Tibbitts",
      "photoUrl": "",
      "userId": "04799193853875039711"
     },
     "user_tz": 240
    },
    "id": "dTxXj_qxmnl3",
    "outputId": "434ff1f6-a129-4a09-a503-40081000e3eb"
   },
   "outputs": [],
   "source": [
    "alt.Chart(college_by_major[college_by_major['College_chosen_by_non-matrics']=='UNIVERSITY AT ALBANY']).mark_bar().encode(\n",
    "    x='Num Students:Q',\n",
    "    y=alt.Y(\n",
    "        'Major:O',\n",
    "        sort = alt.EncodingSortField(\n",
    "                field='Num Students',\n",
    "                op = \"sum\",\n",
    "                order = \"descending\"\n",
    "        )\n",
    "    )\n",
    ").properties(height=400)"
   ]
  },
  {
   "cell_type": "code",
   "execution_count": null,
   "metadata": {
    "colab": {
     "base_uri": "https://localhost:8080/",
     "height": 34
    },
    "colab_type": "code",
    "executionInfo": {
     "elapsed": 420,
     "status": "ok",
     "timestamp": 1559068102651,
     "user": {
      "displayName": "Spencer Tibbitts",
      "photoUrl": "",
      "userId": "04799193853875039711"
     },
     "user_tz": 240
    },
    "id": "uWH6os23sYyP",
    "outputId": "61f51253-73f5-4657-8cce-0d71e9b1d88c"
   },
   "outputs": [],
   "source": [
    "len(data[~data['College_chosen_by_non-matrics'].isnull()])"
   ]
  },
  {
   "cell_type": "code",
   "execution_count": null,
   "metadata": {
    "colab": {},
    "colab_type": "code",
    "id": "V3TAPd1bs018"
   },
   "outputs": [],
   "source": []
  }
 ],
 "metadata": {
  "colab": {
   "name": "Test_Scores_v_Income.ipynb",
   "provenance": [],
   "version": "0.3.2"
  },
  "kernelspec": {
   "display_name": "Python 3",
   "language": "python",
   "name": "python3"
  },
  "language_info": {
   "codemirror_mode": {
    "name": "ipython",
    "version": 3
   },
   "file_extension": ".py",
   "mimetype": "text/x-python",
   "name": "python",
   "nbconvert_exporter": "python",
   "pygments_lexer": "ipython3",
   "version": "3.5.2"
  }
 },
 "nbformat": 4,
 "nbformat_minor": 1
}
