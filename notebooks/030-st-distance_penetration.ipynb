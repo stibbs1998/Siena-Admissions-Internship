{
 "cells": [
  {
   "cell_type": "markdown",
   "metadata": {},
   "source": [
    "### Distance Penetration\n",
    "\n",
    "Which schools have the best draw from distant areas???"
   ]
  },
  {
   "cell_type": "markdown",
   "metadata": {},
   "source": [
    "Import Libraries"
   ]
  },
  {
   "cell_type": "code",
   "execution_count": 1,
   "metadata": {},
   "outputs": [],
   "source": [
    "import numpy as np\n",
    "import pandas as pd\n",
    "import altair as alt\n",
    "import matplotlib.pyplot as plt\n",
    "import seaborn as sns\n",
    "alt.renderers.enable('notebook')\n",
    "\n",
    "import warnings\n",
    "warnings.filterwarnings('ignore')\n",
    "\n",
    "import sys\n",
    "sys.path.insert(0,'../src/visualization/')\n",
    "import visualize as vis\n",
    "\n",
    "# from tqdm import tqdm_notebook\n",
    "# tqdm_notebook().pandas()"
   ]
  },
  {
   "cell_type": "markdown",
   "metadata": {},
   "source": [
    "Assign each student a score based on their distance to the school, \n",
    "the freshman class size at said school, and the population of the county in which the school is in.\n",
    "\n",
    "$$\n",
    "S = Dist\\_to\\_Ccbnm \\frac{1}{Ccbnm\\_Fresh\\_Class} \\frac{1}{College\\_County\\_population} \\frac{1}{\\# Students\\_choosing\\_Ccbnm}\n",
    "$$\n"
   ]
  },
  {
   "cell_type": "code",
   "execution_count": 2,
   "metadata": {},
   "outputs": [],
   "source": [
    "df = pd.read_csv('../data/processed/CriticalPath_Data_EM_Confidential_lessNoise.csv').drop(columns='Unnamed: 0')\n",
    "\n",
    "siena_collegetown_pop = df.where(df.County_perm_res=='NY001')['County_perm_res_pop'].dropna().mean()\n",
    "\n",
    "df['College_chosen_by_non-matrics'] = df.apply(\n",
    "    lambda row: 'SIENA COLLEGE' if row['Enrolled'] else row['College_chosen_by_non-matrics'], axis=1\n",
    ")\n",
    "\n",
    "df['Dist_to_Ccbnm'] = df.apply(\n",
    "    lambda row: row['Dist_to_Siena'] if row['Enrolled'] else row['Dist_to_Ccbnm'],\n",
    "    axis=1\n",
    ")\n",
    "\n",
    "df['CollegeTown_pop'] = df.apply(\n",
    "    lambda row: siena_collegetown_pop if row['Enrolled'] else row['CollegeTown_pop'],\n",
    "    axis=1\n",
    ")\n",
    "\n",
    "df['Fresh_enroll'] = df.apply(\n",
    "    lambda row: 714 if row['Enrolled'] else row['Fresh_enroll'],\n",
    "    axis=1\n",
    ")\n",
    "\n",
    "df = df.rename(columns={\"College_chosen_by_non-matrics\":\"Ccbnm\"})"
   ]
  },
  {
   "cell_type": "code",
   "execution_count": 3,
   "metadata": {},
   "outputs": [],
   "source": [
    "df['Distance_Penetration_Score'] = df.Dist_to_Ccbnm / (df.Fresh_enroll * df.County_perm_res_pop) \n",
    "df['Distance_Penetration_Score_Siena'] = df.Dist_to_Siena / (df.Fresh_enroll * df.County_perm_res_pop) \n",
    "\n",
    "# Normalize the score:\n",
    "\n",
    "# df['Distance_Penetration_Score']=(df['Distance_Penetration_Score']-df['Distance_Penetration_Score'].mean())/df['Distance_Penetration_Score'].std()\n",
    "# df['Distance_Penetration_Score_Siena']=(df['Distance_Penetration_Score_Siena']-df['Distance_Penetration_Score_Siena'].mean())/df['Distance_Penetration_Score_Siena'].std()\n",
    "    \n",
    "distance_penetration = df[['Distance_Penetration_Score','Ccbnm']].groupby(['Ccbnm']).agg(['mean','count']).reset_index()\n",
    "distance_penetration_siena = df[['Distance_Penetration_Score_Siena','Ccbnm']].groupby(['Ccbnm']).agg(['mean','count']).reset_index()\n",
    "\n",
    "distance_penetration['Distance_Penetration_Score_Mean'] = distance_penetration[(\"Distance_Penetration_Score\",\"mean\")]\n",
    "distance_penetration['Distance_Penetration_Score_Count'] = distance_penetration[(\"Distance_Penetration_Score\",\"count\")]\n",
    "\n",
    "distance_penetration_siena['Distance_Penetration_Score_Mean_Siena'] = distance_penetration_siena[(\"Distance_Penetration_Score_Siena\",\"mean\")]\n",
    "distance_penetration_siena['Distance_Penetration_Score_Count_Siena'] = distance_penetration_siena[(\"Distance_Penetration_Score_Siena\",\"count\")]\n",
    "\n",
    "distance_penetration = distance_penetration.drop(columns=['Distance_Penetration_Score'])\n",
    "distance_penetration_siena = distance_penetration_siena.drop(columns=['Distance_Penetration_Score_Siena'])\n",
    "\n",
    "distance_penetration.columns = distance_penetration.columns.droplevel(1)\n",
    "distance_penetration_siena.columns = distance_penetration_siena.columns.droplevel(1)\n",
    "\n",
    "distance_penetration_siena = distance_penetration_siena.where(distance_penetration_siena.Distance_Penetration_Score_Count_Siena >= 15).dropna()\n",
    "distance_penetration_siena = distance_penetration_siena.where(distance_penetration_siena.Distance_Penetration_Score_Count_Siena >= 15).dropna()\n",
    "\n",
    "chart = alt.Chart(distance_penetration.where(distance_penetration.Distance_Penetration_Score_Count>50).dropna().sort_values(\"Distance_Penetration_Score_Mean\",ascending=False)[:50]).mark_bar(\n",
    "    ).encode(\n",
    "        y=alt.Y('Ccbnm:N', axis=alt.Axis(title=''),\n",
    "                sort=alt.EncodingSortField(\n",
    "                    field='Distance_Penetration_Score_Mean',\n",
    "                    op='sum',\n",
    "                    order='descending'\n",
    "                    )\n",
    "                ),\n",
    "        x=alt.X('Distance_Penetration_Score_Mean:Q',axis=alt.Axis(title='Score')),\n",
    "        color=alt.condition(\n",
    "        alt.datum.Ccbnm == 'SIENA COLLEGE',  # If the college is Siena this test returns True,\n",
    "        alt.value('gold'),     # which sets the bar gold.\n",
    "        alt.value('green')   # And if it's not true it sets the bar green.\n",
    "    )\n",
    "    ).properties(title='Distance Penetration Score: Freshmen Enrollment NOT Factored in (Min 15 Students in Range)')"
   ]
  },
  {
   "cell_type": "code",
   "execution_count": 4,
   "metadata": {},
   "outputs": [],
   "source": [
    "df['Distance_Penetration_Score'] = df.Dist_to_Ccbnm / ( df.County_perm_res_pop) \n",
    "df['Distance_Penetration_Score_Siena'] = df.Dist_to_Siena / (df.County_perm_res_pop) \n",
    "\n",
    "# Normalize the score:\n",
    "\n",
    "# df['Distance_Penetration_Score']=(df['Distance_Penetration_Score']-df['Distance_Penetration_Score'].mean())/df['Distance_Penetration_Score'].std()\n",
    "# df['Distance_Penetration_Score_Siena']=(df['Distance_Penetration_Score_Siena']-df['Distance_Penetration_Score_Siena'].mean())/df['Distance_Penetration_Score_Siena'].std()\n",
    "    \n",
    "distance_penetration = df[['Distance_Penetration_Score','Ccbnm']].groupby(['Ccbnm']).agg(['mean','count']).reset_index()\n",
    "distance_penetration_siena = df[['Distance_Penetration_Score_Siena','Ccbnm']].groupby(['Ccbnm']).agg(['mean','count']).reset_index()\n",
    "\n",
    "distance_penetration['Distance_Penetration_Score_Mean'] = distance_penetration[(\"Distance_Penetration_Score\",\"mean\")]\n",
    "distance_penetration['Distance_Penetration_Score_Count'] = distance_penetration[(\"Distance_Penetration_Score\",\"count\")]\n",
    "\n",
    "distance_penetration_siena['Distance_Penetration_Score_Mean_Siena'] = distance_penetration_siena[(\"Distance_Penetration_Score_Siena\",\"mean\")]\n",
    "distance_penetration_siena['Distance_Penetration_Score_Count_Siena'] = distance_penetration_siena[(\"Distance_Penetration_Score_Siena\",\"count\")]\n",
    "\n",
    "distance_penetration = distance_penetration.drop(columns=['Distance_Penetration_Score'])\n",
    "distance_penetration_siena = distance_penetration_siena.drop(columns=['Distance_Penetration_Score_Siena'])\n",
    "\n",
    "distance_penetration.columns = distance_penetration.columns.droplevel(1)\n",
    "distance_penetration_siena.columns = distance_penetration_siena.columns.droplevel(1)\n",
    "\n",
    "distance_penetration_siena = distance_penetration_siena.where(distance_penetration_siena.Distance_Penetration_Score_Count_Siena >= 15).dropna()\n",
    "distance_penetration_siena = distance_penetration_siena.where(distance_penetration_siena.Distance_Penetration_Score_Count_Siena >= 15).dropna()\n",
    "\n",
    "chart2 = alt.Chart(distance_penetration.where(distance_penetration.Distance_Penetration_Score_Count>50).dropna().sort_values(\"Distance_Penetration_Score_Mean\",ascending=False)[:30]).mark_bar(\n",
    "    ).encode(\n",
    "        y=alt.Y('Ccbnm:N', axis=alt.Axis(title=''),\n",
    "                sort=alt.EncodingSortField(\n",
    "                    field='Distance_Penetration_Score_Mean',\n",
    "                    op='sum',\n",
    "                    order='descending'\n",
    "                    )\n",
    "                ),\n",
    "        x=alt.X('Distance_Penetration_Score_Mean:Q',axis=alt.Axis(title='Score')),\n",
    "        color=alt.condition(\n",
    "        alt.datum.Ccbnm == 'SIENA COLLEGE',  # If the college is Siena this test returns True,\n",
    "        alt.value('gold'),     # which sets the bar gold.\n",
    "        alt.value('green')   # And if it's not true it sets the bar green.\n",
    "    )\n",
    "    ).properties(title='Distance Penetration Score: (Min 15 Students in Range)')"
   ]
  }
 ],
 "metadata": {
  "kernelspec": {
   "display_name": "Python 3",
   "language": "python",
   "name": "python3"
  },
  "language_info": {
   "codemirror_mode": {
    "name": "ipython",
    "version": 3
   },
   "file_extension": ".py",
   "mimetype": "text/x-python",
   "name": "python",
   "nbconvert_exporter": "python",
   "pygments_lexer": "ipython3",
   "version": "3.7.3"
  }
 },
 "nbformat": 4,
 "nbformat_minor": 4
}
