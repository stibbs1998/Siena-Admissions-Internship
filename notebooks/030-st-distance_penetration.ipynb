{
 "cells": [
  {
   "cell_type": "code",
   "execution_count": 1,
   "metadata": {},
   "outputs": [],
   "source": [
    "import numpy as np\n",
    "import pandas as pd\n",
    "import altair as alt"
   ]
  },
  {
   "cell_type": "code",
   "execution_count": 11,
   "metadata": {},
   "outputs": [],
   "source": [
    "path = '../data/external/'\n",
    "\n",
    "filename = 'ACS_17_5YR_B01003_with_ann.csv'\n",
    "\n",
    "data = pd.read_csv(path+filename,encoding='ISO-8859-1',header=1)"
   ]
  },
  {
   "cell_type": "code",
   "execution_count": 66,
   "metadata": {},
   "outputs": [],
   "source": [
    "data[['County','State']] = data.Geography.str.split(',',expand=True)\n",
    "data.County = np.array(data.County.str.split(' ',expand=True,n=1))[:,0]"
   ]
  },
  {
   "cell_type": "code",
   "execution_count": 69,
   "metadata": {},
   "outputs": [
    {
     "data": {
      "text/html": [
       "<div>\n",
       "<style scoped>\n",
       "    .dataframe tbody tr th:only-of-type {\n",
       "        vertical-align: middle;\n",
       "    }\n",
       "\n",
       "    .dataframe tbody tr th {\n",
       "        vertical-align: top;\n",
       "    }\n",
       "\n",
       "    .dataframe thead th {\n",
       "        text-align: right;\n",
       "    }\n",
       "</style>\n",
       "<table border=\"1\" class=\"dataframe\">\n",
       "  <thead>\n",
       "    <tr style=\"text-align: right;\">\n",
       "      <th></th>\n",
       "      <th>Id</th>\n",
       "      <th>Id2</th>\n",
       "      <th>Geography</th>\n",
       "      <th>Estimate; Total</th>\n",
       "      <th>Margin of Error; Total</th>\n",
       "      <th>County</th>\n",
       "      <th>State</th>\n",
       "    </tr>\n",
       "  </thead>\n",
       "  <tbody>\n",
       "    <tr>\n",
       "      <th>1828</th>\n",
       "      <td>0500000US36001</td>\n",
       "      <td>36001.0</td>\n",
       "      <td>Albany County, New York</td>\n",
       "      <td>308580.0</td>\n",
       "      <td>*****</td>\n",
       "      <td>Albany</td>\n",
       "      <td>New York</td>\n",
       "    </tr>\n",
       "    <tr>\n",
       "      <th>3119</th>\n",
       "      <td>0500000US56001</td>\n",
       "      <td>56001.0</td>\n",
       "      <td>Albany County, Wyoming</td>\n",
       "      <td>37944.0</td>\n",
       "      <td>*****</td>\n",
       "      <td>Albany</td>\n",
       "      <td>Wyoming</td>\n",
       "    </tr>\n",
       "  </tbody>\n",
       "</table>\n",
       "</div>"
      ],
      "text/plain": [
       "                  Id      Id2                Geography  Estimate; Total  \\\n",
       "1828  0500000US36001  36001.0  Albany County, New York         308580.0   \n",
       "3119  0500000US56001  56001.0   Albany County, Wyoming          37944.0   \n",
       "\n",
       "     Margin of Error; Total  County      State  \n",
       "1828                  *****  Albany   New York  \n",
       "3119                  *****  Albany    Wyoming  "
      ]
     },
     "execution_count": 69,
     "metadata": {},
     "output_type": "execute_result"
    }
   ],
   "source": [
    "data.where(data.County=='Albany').dropna()"
   ]
  }
 ],
 "metadata": {
  "kernelspec": {
   "display_name": "Python 3",
   "language": "python",
   "name": "python3"
  },
  "language_info": {
   "codemirror_mode": {
    "name": "ipython",
    "version": 3
   },
   "file_extension": ".py",
   "mimetype": "text/x-python",
   "name": "python",
   "nbconvert_exporter": "python",
   "pygments_lexer": "ipython3",
   "version": "3.7.3"
  }
 },
 "nbformat": 4,
 "nbformat_minor": 4
}
