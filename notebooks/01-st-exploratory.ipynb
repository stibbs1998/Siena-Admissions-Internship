{
 "cells": [
  {
   "cell_type": "markdown",
   "metadata": {},
   "source": [
    "### Exploratory Analysis\n",
    "\n",
    "This notebook was created to explore the Admissions dataset for the first time.  The goal was to create as many visualizations as possible in order to gain an understanding of the dataset.  Some of the code used to create visualizations can be found [here](https://github.com/stibbs1998/admissions_internship/blob/master/src/visualization/visualize.py)."
   ]
  },
  {
   "cell_type": "markdown",
   "metadata": {
    "colab_type": "text",
    "id": "5nK-Tc4KwB5u"
   },
   "source": [
    "Import necessary libraries."
   ]
  },
  {
   "cell_type": "code",
   "execution_count": null,
   "metadata": {
    "colab": {},
    "colab_type": "code",
    "id": "96_99_K7oy_p",
    "scrolled": true
   },
   "outputs": [],
   "source": [
    "import numpy as np\n",
    "import pandas as pd\n",
    "import seaborn as sns\n",
    "\n",
    "import matplotlib.pyplot as plt\n",
    "import warnings\n",
    "import folium\n",
    "import sys\n",
    "warnings.filterwarnings('ignore')\n",
    "\n",
    "sys.path.insert(0, '../src/visualization/')\n",
    "import visualize as vis\n",
    "\n",
    "import altair as alt\n",
    "# alt.renderers.enable('notebook')"
   ]
  },
  {
   "cell_type": "markdown",
   "metadata": {
    "colab_type": "text",
    "id": "eTUx2unkwFmC"
   },
   "source": [
    "Load in the .csv file as a DataFrame.  The original file was cleaned up using [this code](https://github.com/stibbs1998/admissions_internship/blob/master/src/data/001-st-clean_data.py), and in this notebook we are using the dataset cleaned only to the first order.  This meant removing Albany Med and HEOP applicants, as well as converting the *Enrolled* column from a list of type strings to type booleans."
   ]
  },
  {
   "cell_type": "code",
   "execution_count": null,
   "metadata": {
    "colab": {
     "base_uri": "https://localhost:8080/",
     "height": 287
    },
    "colab_type": "code",
    "executionInfo": {
     "elapsed": 84799,
     "status": "ok",
     "timestamp": 1559046959060,
     "user": {
      "displayName": "Spencer Tibbitts",
      "photoUrl": "",
      "userId": "04799193853875039711"
     },
     "user_tz": 240
    },
    "id": "k3wx44RQpcRD",
    "outputId": "7ac53c3c-1caa-4fd3-dfb2-598b5991e9be"
   },
   "outputs": [],
   "source": [
    "filename = '../data/processed/CriticalPath_Data_EM_Confidential_lessNoise.csv'\n",
    "df = pd.read_csv(filename).drop(columns=[\"Unnamed: 0\"])"
   ]
  },
  {
   "cell_type": "markdown",
   "metadata": {
    "colab_type": "text",
    "id": "4D_7BcOj1qTG"
   },
   "source": [
    "Create a Histogram and [Kernel Density Estimate](https://en.wikipedia.org/wiki/Kernel_density_estimation) (or KDE) of each student's High School GPA.\n",
    "\n",
    "* All applicants"
   ]
  },
  {
   "cell_type": "code",
   "execution_count": null,
   "metadata": {
    "colab": {
     "base_uri": "https://localhost:8080/",
     "height": 405
    },
    "colab_type": "code",
    "executionInfo": {
     "elapsed": 85946,
     "status": "ok",
     "timestamp": 1559046960336,
     "user": {
      "displayName": "Spencer Tibbitts",
      "photoUrl": "",
      "userId": "04799193853875039711"
     },
     "user_tz": 240
    },
    "id": "MiYob9pSz8KM",
    "outputId": "0ba59047-c481-4f68-839b-b08c3cf8bb84"
   },
   "outputs": [],
   "source": [
    "all_hs_gpa = df[~df['HS_GPA'].isnull()][(df['HS_GPA']>5)& (df['HS_GPA']<400)]\n",
    "\n",
    "# There are a couple of errors in the data set for students whose GPA's were sent in on a 0-4 scale\n",
    "# instead of a 0-100 scale, and a few GPA's greater than 500.  For the purpose of this notebook, we will\n",
    "# just ignore these points.\n",
    "\n",
    "vis.kde_w_mean(all_hs_gpa['HS_GPA'],20, \"# of Students\")\n",
    "\n",
    "plt.xlabel(\"High School GPA (out of 100)\")\n",
    "plt.title(\"KDE of High School GPA: All Applicants\");"
   ]
  },
  {
   "cell_type": "markdown",
   "metadata": {
    "colab_type": "text",
    "id": "LqxEYpRV27rP"
   },
   "source": [
    "* Students Enrolled"
   ]
  },
  {
   "cell_type": "code",
   "execution_count": null,
   "metadata": {
    "colab": {
     "base_uri": "https://localhost:8080/",
     "height": 405
    },
    "colab_type": "code",
    "executionInfo": {
     "elapsed": 85913,
     "status": "ok",
     "timestamp": 1559046960340,
     "user": {
      "displayName": "Spencer Tibbitts",
      "photoUrl": "",
      "userId": "04799193853875039711"
     },
     "user_tz": 240
    },
    "id": "RGxYKaQe26_Q",
    "outputId": "58fab245-90d6-4f2b-8f25-5598c4afb320"
   },
   "outputs": [],
   "source": [
    "vis.kde_w_mean(all_hs_gpa['HS_GPA'][all_hs_gpa['Enrolled']],20, \"# of Students\")\n",
    "\n",
    "plt.xlabel(\"High School GPA (out of 100)\")\n",
    "plt.title(\"KDE of High School GPA: Enrolled\");"
   ]
  },
  {
   "cell_type": "markdown",
   "metadata": {
    "colab_type": "text",
    "id": "LytyqtJg127s"
   },
   "source": [
    "Create a Histogram and KDE of each student's High School Percentile Ranking.\n",
    "\n",
    "\n",
    "* All applicants"
   ]
  },
  {
   "cell_type": "code",
   "execution_count": null,
   "metadata": {
    "colab": {
     "base_uri": "https://localhost:8080/",
     "height": 0
    },
    "colab_type": "code",
    "executionInfo": {
     "elapsed": 87218,
     "status": "ok",
     "timestamp": 1559046961700,
     "user": {
      "displayName": "Spencer Tibbitts",
      "photoUrl": "",
      "userId": "04799193853875039711"
     },
     "user_tz": 240
    },
    "id": "1xX1aXVHq3qn",
    "outputId": "27f7fc40-c260-4b9a-e2ec-6d0d97c4a8dd"
   },
   "outputs": [],
   "source": [
    "all_hs_percentile = df[~df['HS_Percentile_rank'].isnull()][df['HS_Percentile_rank']>=0]\n",
    "vis.kde_w_mean(all_hs_percentile['HS_Percentile_rank'],100, \"# of Students\")\n",
    "plt.xlabel(\"Percentile Rank in HS Class\")\n",
    "plt.title(\"Distribution of HS Percentile Rankings: All Applicants\");"
   ]
  },
  {
   "cell_type": "markdown",
   "metadata": {
    "colab_type": "text",
    "id": "_ruNuVdD5YiW"
   },
   "source": [
    "* Enrolled"
   ]
  },
  {
   "cell_type": "code",
   "execution_count": null,
   "metadata": {
    "colab": {
     "base_uri": "https://localhost:8080/",
     "height": 0
    },
    "colab_type": "code",
    "executionInfo": {
     "elapsed": 88236,
     "status": "ok",
     "timestamp": 1559046962759,
     "user": {
      "displayName": "Spencer Tibbitts",
      "photoUrl": "",
      "userId": "04799193853875039711"
     },
     "user_tz": 240
    },
    "id": "XfjWA4M25aMV",
    "outputId": "760608df-2e89-48d9-d62a-3a3141709452"
   },
   "outputs": [],
   "source": [
    "vis.kde_w_mean(all_hs_percentile['HS_Percentile_rank'][all_hs_percentile['Enrolled']],100, \"# of Students\")\n",
    "plt.xlabel(\"Percentile Rank in HS Class\")\n",
    "plt.title(\"Distribution of HS Percentile Rankings: Enrolled\");"
   ]
  },
  {
   "cell_type": "markdown",
   "metadata": {
    "colab_type": "text",
    "id": "_2Fvu8Lw_UMl"
   },
   "source": [
    "Create a Histogram and KDE of each student's High School Class Size.\n",
    "\n",
    "* All Applicants"
   ]
  },
  {
   "cell_type": "code",
   "execution_count": null,
   "metadata": {
    "colab": {
     "base_uri": "https://localhost:8080/",
     "height": 0
    },
    "colab_type": "code",
    "executionInfo": {
     "elapsed": 88771,
     "status": "ok",
     "timestamp": 1559046963322,
     "user": {
      "displayName": "Spencer Tibbitts",
      "photoUrl": "",
      "userId": "04799193853875039711"
     },
     "user_tz": 240
    },
    "id": "ORx5AhpmvbmK",
    "outputId": "54633db6-d476-4b1c-c836-8492ec8e5635"
   },
   "outputs": [],
   "source": [
    "hs_size = df[~df['HS_Class_size'].isnull()]\n",
    "vis.kde_w_mean(hs_size['HS_Class_size'],100, \"# of Students\")\n",
    "plt.title(\"Distribution of Class Sizes: All Applicants\");\n",
    "plt.xlim(0,1400);"
   ]
  },
  {
   "cell_type": "markdown",
   "metadata": {
    "colab_type": "text",
    "id": "RtDmhham6n9h"
   },
   "source": [
    "* Enrolled Students"
   ]
  },
  {
   "cell_type": "code",
   "execution_count": null,
   "metadata": {
    "colab": {
     "base_uri": "https://localhost:8080/",
     "height": 0
    },
    "colab_type": "code",
    "executionInfo": {
     "elapsed": 89764,
     "status": "ok",
     "timestamp": 1559046964330,
     "user": {
      "displayName": "Spencer Tibbitts",
      "photoUrl": "",
      "userId": "04799193853875039711"
     },
     "user_tz": 240
    },
    "id": "XInDfR2Y6oJ6",
    "outputId": "11f11d3e-1d21-43dd-d443-61ab93f94cde"
   },
   "outputs": [],
   "source": [
    "hs_size = df[~df['HS_Class_size'].isnull()]\n",
    "vis.kde_w_mean(hs_size['HS_Class_size'][hs_size['Admission_status']==80],100, \"# of Students\")\n",
    "plt.ylabel(\"Probability Density Function\")\n",
    "plt.title(\"Distribution of Class Sizes: Enrolled\");\n",
    "plt.xlim(0,1400);"
   ]
  },
  {
   "cell_type": "markdown",
   "metadata": {
    "colab_type": "text",
    "id": "lIWNN2DbBUH_"
   },
   "source": [
    "Create a Histogram and KDE of each student's ACT Scores\n",
    "\n",
    "* All Applicants"
   ]
  },
  {
   "cell_type": "code",
   "execution_count": null,
   "metadata": {
    "colab": {
     "base_uri": "https://localhost:8080/",
     "height": 0
    },
    "colab_type": "code",
    "executionInfo": {
     "elapsed": 90728,
     "status": "ok",
     "timestamp": 1559046965324,
     "user": {
      "displayName": "Spencer Tibbitts",
      "photoUrl": "",
      "userId": "04799193853875039711"
     },
     "user_tz": 240
    },
    "id": "76wBTuXUBCVD",
    "outputId": "6d53c6ca-5003-4aaf-b082-3627a8eb1f52"
   },
   "outputs": [],
   "source": [
    "act_scores = df[~df['ACTComposite'].isnull()]\n",
    "vis.kde_w_mean(act_scores['ACTComposite'],25,'# of Students')\n",
    "plt.title(\"Distribution of ACT Scores: All Applicants\");"
   ]
  },
  {
   "cell_type": "markdown",
   "metadata": {
    "colab_type": "text",
    "id": "uQZZTSdR7hKx"
   },
   "source": [
    "* Enrolled Students"
   ]
  },
  {
   "cell_type": "code",
   "execution_count": null,
   "metadata": {
    "colab": {
     "base_uri": "https://localhost:8080/",
     "height": 0
    },
    "colab_type": "code",
    "executionInfo": {
     "elapsed": 91100,
     "status": "ok",
     "timestamp": 1559046965713,
     "user": {
      "displayName": "Spencer Tibbitts",
      "photoUrl": "",
      "userId": "04799193853875039711"
     },
     "user_tz": 240
    },
    "id": "SIzTZyK97jhj",
    "outputId": "123e9331-dee4-4e43-f95d-37916c501a16"
   },
   "outputs": [],
   "source": [
    "vis.kde_w_mean(act_scores['ACTComposite'][act_scores['Enrolled']],20,'# of Students')\n",
    "plt.title(\"Distribution of ACT Scores: Enrolled\");"
   ]
  },
  {
   "cell_type": "markdown",
   "metadata": {
    "colab_type": "text",
    "id": "vTzR_18ICJsv"
   },
   "source": [
    "Create a Histogram and KDE of each student's SAT Scores\n",
    "\n",
    "* New SAT Format\n",
    "\n",
    "$\\to$ All Applicants"
   ]
  },
  {
   "cell_type": "code",
   "execution_count": null,
   "metadata": {
    "colab": {
     "base_uri": "https://localhost:8080/",
     "height": 0
    },
    "colab_type": "code",
    "executionInfo": {
     "elapsed": 92879,
     "status": "ok",
     "timestamp": 1559046967548,
     "user": {
      "displayName": "Spencer Tibbitts",
      "photoUrl": "",
      "userId": "04799193853875039711"
     },
     "user_tz": 240
    },
    "id": "lE2RSaN2CH7M",
    "outputId": "f16c6bfa-fe51-47e4-ce11-852aafa9757b"
   },
   "outputs": [],
   "source": [
    "for column in df.columns:\n",
    "    if \"NEW\" in column:\n",
    "        plt.figure()\n",
    "        vis.kde_w_mean(df[column][~df[column].isnull()], 20, \"# of Students\")\n",
    "        plt.title(f\"Distribution of {' '.join(column.split('_')) }: All Applicants\")"
   ]
  },
  {
   "cell_type": "markdown",
   "metadata": {
    "colab_type": "text",
    "id": "ouTxu0FcLohn"
   },
   "source": [
    "$\\to$ Enrolled Students"
   ]
  },
  {
   "cell_type": "code",
   "execution_count": null,
   "metadata": {
    "colab": {
     "base_uri": "https://localhost:8080/",
     "height": 0
    },
    "colab_type": "code",
    "executionInfo": {
     "elapsed": 94275,
     "status": "ok",
     "timestamp": 1559046968959,
     "user": {
      "displayName": "Spencer Tibbitts",
      "photoUrl": "",
      "userId": "04799193853875039711"
     },
     "user_tz": 240
    },
    "id": "qmVNG5msLknF",
    "outputId": "41633183-fc08-4918-e1b7-5ad191e5a407"
   },
   "outputs": [],
   "source": [
    "for column in df.columns:\n",
    "    if \"NEW\" in column:\n",
    "        plt.figure()\n",
    "        vis.kde_w_mean(df[column][(~df[column].isnull()) & (df['Enrolled'])], 20, \"# of Students\")\n",
    "        plt.title(f\"Distribution of {' '.join(column.split('_')) }: Enrolled\")"
   ]
  },
  {
   "cell_type": "markdown",
   "metadata": {
    "colab_type": "text",
    "id": "pzry0uu_DAXK"
   },
   "source": [
    "* Old SAT Format\n",
    "\n",
    "$\\to$ All Applicants"
   ]
  },
  {
   "cell_type": "code",
   "execution_count": null,
   "metadata": {
    "colab": {
     "base_uri": "https://localhost:8080/",
     "height": 0
    },
    "colab_type": "code",
    "executionInfo": {
     "elapsed": 97001,
     "status": "ok",
     "timestamp": 1559046971702,
     "user": {
      "displayName": "Spencer Tibbitts",
      "photoUrl": "",
      "userId": "04799193853875039711"
     },
     "user_tz": 240
    },
    "id": "Bm-2S8IYCbUh",
    "outputId": "3519bee0-d73b-44b9-d074-cb1957b9214c"
   },
   "outputs": [],
   "source": [
    "for column in df.columns:\n",
    "    if \"NEW\" not in column and \"SAT\" in column:\n",
    "        plt.figure()\n",
    "        vis.kde_w_mean(df[column][~df[column].isnull()], 20, \"# of Students\")\n",
    "        plt.title(f\"Distribution of {' '.join(column.split('_')) }: All Applicants\")"
   ]
  },
  {
   "cell_type": "markdown",
   "metadata": {},
   "source": [
    "$\\to$ Enrolled Students"
   ]
  },
  {
   "cell_type": "code",
   "execution_count": null,
   "metadata": {},
   "outputs": [],
   "source": [
    "for column in df.columns:\n",
    "    if \"NEW\" not in column and \"SAT\" in column:\n",
    "        plt.figure()\n",
    "        vis.kde_w_mean(df[column][(~df[column].isnull()) & df['Enrolled']], 20, \"# of Students\")\n",
    "        plt.title(f\"Distribution of {' '.join(column.split('_')) }: Enrolled\")"
   ]
  },
  {
   "cell_type": "markdown",
   "metadata": {
    "colab_type": "text",
    "id": "9U9K6uX4IgKk"
   },
   "source": [
    "Breakdown of Applications by Major on application. \n",
    "\n",
    "First, create a subset of the DataFrame to pull information from."
   ]
  },
  {
   "cell_type": "code",
   "execution_count": null,
   "metadata": {
    "colab": {
     "base_uri": "https://localhost:8080/",
     "height": 0
    },
    "colab_type": "code",
    "executionInfo": {
     "elapsed": 98731,
     "status": "ok",
     "timestamp": 1559046973446,
     "user": {
      "displayName": "Spencer Tibbitts",
      "photoUrl": "",
      "userId": "04799193853875039711"
     },
     "user_tz": 240
    },
    "id": "1AjslF6rHJkg",
    "outputId": "e046c158-c6dc-43dc-e7e6-a703101b6cd9"
   },
   "outputs": [],
   "source": [
    "num_majors_not_enrolled = []\n",
    "num_majors_enrolled = []\n",
    "\n",
    "for major in df['Major'].unique():\n",
    "    num_majors_not_enrolled.append(df.Major.str.count(major).sum())\n",
    "    num_majors_enrolled.append(df.Major[df['Enrolled']].str.count(major).sum())\n",
    "\n",
    "majorsDF = pd.DataFrame({\n",
    "    \"Major\": df.Major.unique(), \n",
    "    \"Enrolled\": num_majors_enrolled,\n",
    "    \"Applied\":  num_majors_not_enrolled})\n",
    "\n",
    "majorsDF['Percentage Enrolled'] = majorsDF['Enrolled'] / majorsDF['Applied']"
   ]
  },
  {
   "cell_type": "markdown",
   "metadata": {},
   "source": [
    "Use [Altair](https://altair-viz.github.io/) to create bar charts for number of students applied and students enrolled by major."
   ]
  },
  {
   "cell_type": "code",
   "execution_count": null,
   "metadata": {
    "colab": {
     "base_uri": "https://localhost:8080/",
     "height": 0
    },
    "colab_type": "code",
    "executionInfo": {
     "elapsed": 98731,
     "status": "ok",
     "timestamp": 1559046973446,
     "user": {
      "displayName": "Spencer Tibbitts",
      "photoUrl": "",
      "userId": "04799193853875039711"
     },
     "user_tz": 240
    },
    "id": "1AjslF6rHJkg",
    "outputId": "e046c158-c6dc-43dc-e7e6-a703101b6cd9"
   },
   "outputs": [],
   "source": [
    "enrolled_top15 = alt.Chart(majorsDF[:15]).mark_bar(color='gold').encode(\n",
    "    x=alt.X('Enrolled:Q',axis=alt.Axis(title='# Students Enrolled')),\n",
    "    y=alt.Y(\n",
    "        \"Major:O\",\n",
    "        sort=alt.EncodingSortField(\n",
    "          field = 'Enrolled',\n",
    "          op = 'sum',\n",
    "          order = 'descending'\n",
    "        )\n",
    "    )\n",
    ").properties(height=200,width=300,title='Enrollment by Major')\n",
    "\n",
    "applied_top15 = alt.Chart(majorsDF[:15]).mark_bar(color='green').encode(\n",
    "    x=alt.X('Applied:Q',axis=alt.Axis(title='# Students Applied')),\n",
    "    y=alt.Y(\n",
    "        \"Major:O\",\n",
    "        sort=alt.EncodingSortField(\n",
    "          field = 'Enrolled',\n",
    "          op = 'sum',\n",
    "          order = 'descending'\n",
    "        )\n",
    "    )\n",
    ").properties(height=200,width=300,title=\"Applications by Major\")\n",
    "\n",
    "percent_top15 = alt.Chart(majorsDF[:15]).mark_bar().encode(\n",
    "    x=alt.X('Percentage Enrolled:Q',axis=alt.Axis(format='%')),\n",
    "    y=alt.Y(\n",
    "        \"Major:O\",\n",
    "        sort=alt.EncodingSortField(\n",
    "            field=\"Applied\",\n",
    "            op=\"sum\",\n",
    "            order=\"descending\"\n",
    "        )\n",
    "    )\n",
    ").properties(height=200,width=300,title=\"Enrollment:Application Percentage\")\n",
    "\n",
    "(percent_top15 & (applied_top15|enrolled_top15))"
   ]
  },
  {
   "cell_type": "markdown",
   "metadata": {
    "colab_type": "text",
    "id": "UYflI36xoorG"
   },
   "source": [
    "Breakdown of Non-NYS applicants by State\n",
    "\n",
    "First, create a DataFrame to pull information from."
   ]
  },
  {
   "cell_type": "code",
   "execution_count": null,
   "metadata": {
    "colab": {},
    "colab_type": "code",
    "id": "FWKzlOLLnl41"
   },
   "outputs": [],
   "source": [
    "state_counts = []\n",
    "states = []\n",
    "athletes = []\n",
    "\n",
    "for state in df['State_perm_res'][df['International_student']=='US'].unique():\n",
    "    \n",
    "    if type(state)==str and state!='NY':\n",
    "        states.append(state)  \n",
    "        state_counts.append(df['State_perm_res'].str.count(state).sum())\n",
    "        athletes.append(\n",
    "            df['State_perm_res'][~df['Recruited_athlete'].isnull()].str.count(state).sum()\n",
    "        )\n",
    "    \n",
    "statesDF = pd.DataFrame({\"State\": states, \"# Students\":state_counts,\n",
    "                         \"# Athletes\": athletes})\n",
    "\n",
    "statesDF = statesDF.sort_values(\"# Students\",ascending = False).reset_index()\n",
    "statesDF['Non-Athletes'] = statesDF['# Students'] - statesDF['# Athletes']"
   ]
  },
  {
   "cell_type": "markdown",
   "metadata": {
    "colab_type": "text",
    "id": "vVLstEhzwq8f"
   },
   "source": [
    "Bar graph of the top 10 states by applications outside of NY."
   ]
  },
  {
   "cell_type": "code",
   "execution_count": null,
   "metadata": {
    "colab": {
     "base_uri": "https://localhost:8080/",
     "height": 0
    },
    "colab_type": "code",
    "executionInfo": {
     "elapsed": 99952,
     "status": "ok",
     "timestamp": 1559046974723,
     "user": {
      "displayName": "Spencer Tibbitts",
      "photoUrl": "",
      "userId": "04799193853875039711"
     },
     "user_tz": 240
    },
    "id": "3sOduspDpUmX",
    "outputId": "8b505f25-efd2-40dd-c83d-7310d4795357"
   },
   "outputs": [],
   "source": [
    "alt.Chart(statesDF.iloc[:10]).mark_bar().encode(\n",
    "    x='# Students:Q',\n",
    "    y=alt.Y(\n",
    "        \"State:O\", axis=alt.Axis(title=''),\n",
    "        sort=alt.EncodingSortField(\n",
    "            field=\"# Students\",\n",
    "            op=\"sum\",\n",
    "            order=\"descending\"\n",
    "        )\n",
    "    )\n",
    ").properties(height=300,title='Applications by State')"
   ]
  },
  {
   "cell_type": "markdown",
   "metadata": {
    "colab_type": "text",
    "id": "g0zTjvbzwss6"
   },
   "source": [
    "### [Choropleth Maps](https://en.wikipedia.org/wiki/Choropleth_map)\n",
    "\n",
    "First, a map of applicants by state (non-NYS residents)."
   ]
  },
  {
   "cell_type": "code",
   "execution_count": null,
   "metadata": {
    "colab": {
     "base_uri": "https://localhost:8080/",
     "height": 0
    },
    "colab_type": "code",
    "executionInfo": {
     "elapsed": 100696,
     "status": "ok",
     "timestamp": 1559046975487,
     "user": {
      "displayName": "Spencer Tibbitts",
      "photoUrl": "",
      "userId": "04799193853875039711"
     },
     "user_tz": 240
    },
    "id": "kmeonnqyqxUN",
    "outputId": "d95daa8b-bcc0-4691-d219-0642aa26eeda"
   },
   "outputs": [],
   "source": [
    "usa = '../data/processed/us-states.json'\n",
    "\n",
    "m = folium.Map(\n",
    "    location=[42.65, -73.75],\n",
    "    tiles='Mapbox Bright',\n",
    "    zoom_start=5\n",
    ")\n",
    "\n",
    "folium.Choropleth(\n",
    "    geo_data=usa,\n",
    "    nan_fill_opacity=0,\n",
    "    name='choropleth',\n",
    "    data=statesDF,\n",
    "    columns=['State', '# Students'],\n",
    "    key_on='feature.id',\n",
    "    fill_color='YlOrRd',\n",
    "    fill_opacity=0.7,\n",
    "    line_opacity=0.2,\n",
    "    legend_name='Admission by State',\n",
    "    highlight=True\n",
    ").add_to(m)\n",
    "\n",
    "folium.LayerControl().add_to(m)\n",
    "\n",
    "m"
   ]
  },
  {
   "cell_type": "markdown",
   "metadata": {
    "colab_type": "text",
    "id": "3nJ7Ai-Ab7ax"
   },
   "source": [
    "Since the majority of out-of-state applicants come from three states, suppress these states from the data as well."
   ]
  },
  {
   "cell_type": "code",
   "execution_count": null,
   "metadata": {
    "colab": {
     "base_uri": "https://localhost:8080/",
     "height": 0
    },
    "colab_type": "code",
    "executionInfo": {
     "elapsed": 100691,
     "status": "ok",
     "timestamp": 1559046975494,
     "user": {
      "displayName": "Spencer Tibbitts",
      "photoUrl": "",
      "userId": "04799193853875039711"
     },
     "user_tz": 240
    },
    "id": "5rQa-_e5Y2Q6",
    "outputId": "837c8cf9-d746-45c5-ef54-60308eb6b7d6"
   },
   "outputs": [],
   "source": [
    "m = folium.Map(\n",
    "    location=[42.65, -73.75],\n",
    "    tiles='Mapbox Bright',\n",
    "    zoom_start=5\n",
    ")\n",
    "\n",
    "folium.Choropleth(\n",
    "    geo_data=usa,\n",
    "    nan_fill_opacity=0,\n",
    "    name='choropleth',\n",
    "    data=statesDF.sort_values(\"# Students\",ascending=False).iloc[3:],\n",
    "    columns=['State', '# Students'],\n",
    "    key_on='feature.id',\n",
    "    fill_color='YlOrRd',\n",
    "    fill_opacity=0.7,\n",
    "    line_opacity=0.2,\n",
    "    legend_name='Applications by State',\n",
    "    highlight=True\n",
    ").add_to(m)\n",
    "\n",
    "folium.LayerControl().add_to(m)\n",
    "\n",
    "m"
   ]
  },
  {
   "cell_type": "markdown",
   "metadata": {
    "colab_type": "text",
    "id": "ckOLLZ68wv2r"
   },
   "source": [
    "Does the number of athletes recruited from out of state impact the data noticably?\n",
    "\n",
    "From the looks of this graph, there is little difference in popularity of nearby states, but not by a substantial margin."
   ]
  },
  {
   "cell_type": "code",
   "execution_count": null,
   "metadata": {
    "colab": {
     "base_uri": "https://localhost:8080/",
     "height": 0
    },
    "colab_type": "code",
    "executionInfo": {
     "elapsed": 101406,
     "status": "ok",
     "timestamp": 1559046976230,
     "user": {
      "displayName": "Spencer Tibbitts",
      "photoUrl": "",
      "userId": "04799193853875039711"
     },
     "user_tz": 240
    },
    "id": "HIDp40XG7cNy",
    "outputId": "797623a6-e57b-4380-d8ab-7bd08d58e6e0"
   },
   "outputs": [],
   "source": [
    "m = folium.Map(\n",
    "    location=[42.65, -73.75],\n",
    "    tiles='Mapbox Bright',\n",
    "    zoom_start=5\n",
    ")\n",
    "\n",
    "folium.Choropleth(\n",
    "    geo_data=usa,\n",
    "    nan_fill_opacity=0,\n",
    "    name='choropleth',\n",
    "    data=statesDF.sort_values(\"# Students\",ascending=False).iloc[3:],\n",
    "    columns=['State', 'Non-Athletes'],\n",
    "    key_on='feature.id',\n",
    "    fill_color='YlOrRd',\n",
    "    fill_opacity=0.7,\n",
    "    line_opacity=0.2,\n",
    "    legend_name='Admission by State',\n",
    "    highlight=True\n",
    ").add_to(m)\n",
    "\n",
    "folium.LayerControl().add_to(m)\n",
    "\n",
    "m"
   ]
  },
  {
   "cell_type": "markdown",
   "metadata": {
    "colab_type": "text",
    "id": "8PRnnnQEcngV"
   },
   "source": [
    "Breakdown of applicants by city of residence.\n",
    "\n",
    "First, create a DataFrame to pull information from."
   ]
  },
  {
   "cell_type": "code",
   "execution_count": null,
   "metadata": {
    "colab": {},
    "colab_type": "code",
    "id": "tDi8DkjLV7J6"
   },
   "outputs": [],
   "source": [
    "citiesDF = df[df['Enrolled']].groupby([\"City_perm_res\",\n",
    "  \"State_perm_res\"]).count().sort_values(\"Unique_student_ID\",ascending=False)[\n",
    "    ['Unique_student_ID']].rename(columns = {\"Unique_student_ID\":\"Enrolled\"})\n",
    "\n",
    "citiesDF = citiesDF.merge(\n",
    "    df.groupby([\"City_perm_res\",\"State_perm_res\"]).count().sort_values(\"Unique_student_ID\",\n",
    "    ascending=False)[['Unique_student_ID']].rename(columns = {\"Unique_student_ID\":\"Applied\"}),\n",
    "    left_index=True, right_index=True)\n",
    "\n",
    "citiesDF['Percent Enrolled'] = citiesDF['Enrolled']/citiesDF['Applied']\n",
    "\n",
    "citiesDF.reset_index(inplace=True)\n",
    "citiesDF = citiesDF.sort_values(\"Enrolled\",ascending=False)"
   ]
  },
  {
   "cell_type": "markdown",
   "metadata": {
    "colab_type": "text",
    "id": "SzkeE4ASC7gI"
   },
   "source": [
    "Barplot of the top ten cities by enrollment total.\n",
    "\n",
    "The top ten cities are **dominated** by the Capital Region."
   ]
  },
  {
   "cell_type": "code",
   "execution_count": null,
   "metadata": {
    "colab": {
     "base_uri": "https://localhost:8080/",
     "height": 0
    },
    "colab_type": "code",
    "executionInfo": {
     "elapsed": 101570,
     "status": "ok",
     "timestamp": 1559046976409,
     "user": {
      "displayName": "Spencer Tibbitts",
      "photoUrl": "",
      "userId": "04799193853875039711"
     },
     "user_tz": 240
    },
    "id": "mDposZ0D82Y4",
    "outputId": "1442c519-f63e-45d3-f9b4-b2e8dc9c130d"
   },
   "outputs": [],
   "source": [
    "alt.Chart(citiesDF.iloc[:10]).mark_bar().encode(\n",
    "    x=alt.X('Enrolled:Q', axis=alt.Axis(title='# Students Enrolled')),\n",
    "    y=alt.Y(\n",
    "        'City_perm_res:O', axis=alt.Axis(title=''),\n",
    "        sort = alt.EncodingSortField(\n",
    "                field='Enrolled',\n",
    "                op = \"sum\",\n",
    "                order = \"descending\"\n",
    "        )\n",
    "    )\n",
    ").properties(height=250,title=\"Enrollment Totals by City\")"
   ]
  },
  {
   "cell_type": "markdown",
   "metadata": {
    "colab_type": "text",
    "id": "XbvyY-2BDBCJ"
   },
   "source": [
    "Barplot of the top ten cities *outside* of NYS."
   ]
  },
  {
   "cell_type": "code",
   "execution_count": null,
   "metadata": {
    "colab": {
     "base_uri": "https://localhost:8080/",
     "height": 0
    },
    "colab_type": "code",
    "executionInfo": {
     "elapsed": 101557,
     "status": "ok",
     "timestamp": 1559046976411,
     "user": {
      "displayName": "Spencer Tibbitts",
      "photoUrl": "",
      "userId": "04799193853875039711"
     },
     "user_tz": 240
    },
    "id": "FhREti-o91wM",
    "outputId": "40e89540-9562-4dfe-b74f-4b7b9c0c6c39"
   },
   "outputs": [],
   "source": [
    "alt.Chart(citiesDF[citiesDF[\"State_perm_res\"]!='NY'][:10]).mark_bar().encode(\n",
    "    x=alt.X('Enrolled:Q',axis=alt.Axis(title='# Students Enrolled')),\n",
    "    y=alt.Y('City_perm_res:O',axis=alt.Axis(title=''),\n",
    "            sort = alt.EncodingSortField(\n",
    "                field='Enrolled',\n",
    "                op = \"sum\",\n",
    "                order = \"descending\"\n",
    "            )\n",
    "        )\n",
    ").properties(height=250,title='Enrollment by City (Non-NYS Residents)')"
   ]
  },
  {
   "cell_type": "markdown",
   "metadata": {
    "colab_type": "text",
    "id": "cSwCZAh2DvQH"
   },
   "source": [
    "What are the top 10 and bottom 10 cities by enrollment yield?\n",
    "\n",
    "(Assuming a minimum of 20 applicants from that city)"
   ]
  },
  {
   "cell_type": "code",
   "execution_count": null,
   "metadata": {
    "colab": {
     "base_uri": "https://localhost:8080/",
     "height": 0
    },
    "colab_type": "code",
    "executionInfo": {
     "elapsed": 101543,
     "status": "ok",
     "timestamp": 1559046976414,
     "user": {
      "displayName": "Spencer Tibbitts",
      "photoUrl": "",
      "userId": "04799193853875039711"
     },
     "user_tz": 240
    },
    "id": "4M6r6-aMC4pD",
    "outputId": "b1c2f573-6d72-42ed-c48d-0240ccc51da2"
   },
   "outputs": [],
   "source": [
    "bottom10cities = alt.Chart(citiesDF[citiesDF['Applied']>20].sort_values(\"Percent Enrolled\").iloc[:10]).mark_bar().encode(\n",
    "    x=alt.X('Percent Enrolled:Q', axis=alt.Axis(format='%')),\n",
    "    y=alt.Y(\n",
    "        'City_perm_res:O', axis=alt.Axis(title=''),\n",
    "        sort = alt.EncodingSortField(\n",
    "                field='Percent Enrolled',\n",
    "                op = \"sum\",\n",
    "                order = \"descending\"\n",
    "        )\n",
    "    )\n",
    ").properties(height=200,width=200,title=\"Worst Cities by Enrollment Yield\")\n",
    "\n",
    "top10cities = alt.Chart(citiesDF[citiesDF['Applied']>20].sort_values(\"Percent Enrolled\",ascending=False).iloc[:10]).mark_bar().encode(\n",
    "    x=alt.X('Percent Enrolled:Q', axis=alt.Axis(format='%')),\n",
    "    y=alt.Y(\n",
    "        'City_perm_res:O', axis=alt.Axis(title=''),\n",
    "        sort = alt.EncodingSortField(\n",
    "                field='Percent Enrolled',\n",
    "                op = \"sum\",\n",
    "                order = \"descending\"\n",
    "        )\n",
    "    )\n",
    ").properties(height=200,width=200,title=\"Best Cities by Enrollment Yield\")\n",
    "\n",
    "bottom10cities | top10cities"
   ]
  },
  {
   "cell_type": "markdown",
   "metadata": {
    "colab_type": "text",
    "id": "dveLiFSyTq1d"
   },
   "source": [
    "Scatter plot of # of applications vs. # of students enrolled by city."
   ]
  },
  {
   "cell_type": "code",
   "execution_count": null,
   "metadata": {
    "colab": {
     "base_uri": "https://localhost:8080/",
     "height": 0
    },
    "colab_type": "code",
    "executionInfo": {
     "elapsed": 102015,
     "status": "ok",
     "timestamp": 1559046976898,
     "user": {
      "displayName": "Spencer Tibbitts",
      "photoUrl": "",
      "userId": "04799193853875039711"
     },
     "user_tz": 240
    },
    "id": "ZCUiDMhrS-04",
    "outputId": "bc3095ab-eee3-42ca-f92e-2b2bd01b111c"
   },
   "outputs": [],
   "source": [
    "f, axes = plt.subplots(figsize=(10,6))\n",
    "sns.scatterplot(data = citiesDF, x=\"Applied\", y=\"Enrolled\");\n",
    "plt.title(\"Applied v. Attended\");"
   ]
  },
  {
   "cell_type": "markdown",
   "metadata": {
    "colab_type": "text",
    "id": "YDVZzprqKlN7"
   },
   "source": [
    "Breakdown of applicants by county of residence.\n",
    "\n",
    "First, create a DataFrame to pull information from."
   ]
  },
  {
   "cell_type": "code",
   "execution_count": null,
   "metadata": {
    "colab": {},
    "colab_type": "code",
    "id": "mop-uIqPHPEv"
   },
   "outputs": [],
   "source": [
    "countiesDF = df[df['Enrolled']].groupby([\"County_perm_res\",\n",
    "  \"State_perm_res\"]).count().sort_values(\"Unique_student_ID\",\n",
    "  ascending=False)[['Unique_student_ID']].rename(columns = {\"Unique_student_ID\":\"Enrolled\"})\n",
    "\n",
    "countiesDF = countiesDF.merge(\n",
    "    df.groupby([\"County_perm_res\",\"State_perm_res\"]).count().sort_values(\"Unique_student_ID\",\n",
    "    ascending=False)[['Unique_student_ID']].rename(columns = {\"Unique_student_ID\":\"Applied\"}),\n",
    "    left_index=True, right_index=True)\n",
    "\n",
    "countiesDF['Percent Enrolled'] = countiesDF['Enrolled']/countiesDF['Applied']\n",
    "countiesDF.reset_index(inplace=True)\n",
    "countiesDF = countiesDF.sort_values(\"Enrolled\",ascending=False)\n",
    "\n",
    "######################\n",
    "######################\n",
    "## convert county codes to names \n",
    "\n",
    "fips_codes = pd.read_csv('../data/processed/FIPS.csv')\n",
    "fips_codes.State + fips_codes.FIPS.astype(str)\n",
    "fips_codes['FIPS'] = (fips_codes['FIPS'] - np.floor(fips_codes['FIPS']/1000)*1000).astype(int).astype(str)\n",
    "fips_codes['FIPS'] = fips_codes['FIPS'].apply(lambda x: x.zfill(3))\n",
    "fips_codes['FIPS'] = fips_codes.State + fips_codes.FIPS\n",
    "\n",
    "mapper = fips_codes.set_index('FIPS')[['Name']].to_dict()['Name']\n",
    "countiesDF['County_perm_res'] = countiesDF['County_perm_res'].map(mapper)"
   ]
  },
  {
   "cell_type": "markdown",
   "metadata": {
    "colab_type": "text",
    "id": "CXeQTSquXyqP"
   },
   "source": [
    "Barplot of the top counties by enrollment."
   ]
  },
  {
   "cell_type": "code",
   "execution_count": null,
   "metadata": {
    "colab": {
     "base_uri": "https://localhost:8080/",
     "height": 0
    },
    "colab_type": "code",
    "executionInfo": {
     "elapsed": 102327,
     "status": "ok",
     "timestamp": 1559046977226,
     "user": {
      "displayName": "Spencer Tibbitts",
      "photoUrl": "",
      "userId": "04799193853875039711"
     },
     "user_tz": 240
    },
    "id": "tfSaEiHtX2Gh",
    "outputId": "bb2e8617-a547-4c1e-b885-841e6643aa4f"
   },
   "outputs": [],
   "source": [
    "alt.Chart(countiesDF.iloc[:10]).mark_bar().encode(\n",
    "    x=alt.X('Enrolled:Q', axis=alt.Axis(title='# Students Enrolled')),\n",
    "    y=alt.Y(\n",
    "        'County_perm_res:O', axis=alt.Axis(title=''),\n",
    "        sort = alt.EncodingSortField(\n",
    "                field='Enrolled',\n",
    "                op = \"sum\",\n",
    "                order = \"descending\"\n",
    "        )\n",
    "    )\n",
    ").properties(height=250,title=\"Enrollment Totals by County\")"
   ]
  },
  {
   "cell_type": "markdown",
   "metadata": {
    "colab_type": "text",
    "id": "EJ4M4MaOXXKC"
   },
   "source": [
    "Once again, this seems to be dominated by NYS residents, so lets supress NY and take a look at the best counties out of state."
   ]
  },
  {
   "cell_type": "code",
   "execution_count": null,
   "metadata": {
    "colab": {
     "base_uri": "https://localhost:8080/",
     "height": 0
    },
    "colab_type": "code",
    "executionInfo": {
     "elapsed": 102316,
     "status": "ok",
     "timestamp": 1559046977229,
     "user": {
      "displayName": "Spencer Tibbitts",
      "photoUrl": "",
      "userId": "04799193853875039711"
     },
     "user_tz": 240
    },
    "id": "fXmk-oC_XaoH",
    "outputId": "de718f23-b15f-450d-b1be-01a874cf3cf7"
   },
   "outputs": [],
   "source": [
    "alt.Chart(countiesDF[countiesDF['State_perm_res']!='NY'].iloc[:10]).mark_bar().encode(\n",
    "    x=alt.X('Enrolled:Q', axis=alt.Axis(title='# Students Enrolled')),\n",
    "    y=alt.Y(\n",
    "        'County_perm_res:O', axis=alt.Axis(title=''),\n",
    "        sort = alt.EncodingSortField(\n",
    "                field='Enrolled',\n",
    "                op = \"sum\",\n",
    "                order = \"descending\"\n",
    "        )\n",
    "    )\n",
    ").properties(height=250,title=\"Enrollment Totals by County\")"
   ]
  },
  {
   "cell_type": "markdown",
   "metadata": {
    "colab_type": "text",
    "id": "v-YjRd4hU78n"
   },
   "source": [
    "What are the top 10 and bottom 10 counties by enrollment yield?\n",
    "\n",
    "(Assuming a minimum of 20 applicants from that county)"
   ]
  },
  {
   "cell_type": "code",
   "execution_count": null,
   "metadata": {
    "colab": {
     "base_uri": "https://localhost:8080/",
     "height": 0
    },
    "colab_type": "code",
    "executionInfo": {
     "elapsed": 102439,
     "status": "ok",
     "timestamp": 1559046977365,
     "user": {
      "displayName": "Spencer Tibbitts",
      "photoUrl": "",
      "userId": "04799193853875039711"
     },
     "user_tz": 240
    },
    "id": "bYHfjWpcQotD",
    "outputId": "cba7ca31-0462-4766-a122-53fc87394b45"
   },
   "outputs": [],
   "source": [
    "bottom10counties = alt.Chart(countiesDF[countiesDF['Applied']>20].sort_values(\"Percent Enrolled\").iloc[:10]).mark_bar(color='green').encode(\n",
    "    x=alt.X('Percent Enrolled:Q', axis=alt.Axis(format='%')),\n",
    "    y=alt.Y(\n",
    "        'County_perm_res:O', axis=alt.Axis(title=''),\n",
    "        sort = alt.EncodingSortField(\n",
    "                field='Percent Enrolled',\n",
    "                op = \"sum\",\n",
    "                order = \"descending\"\n",
    "        )\n",
    "    )\n",
    ").properties(height=200,width=200,title=\"Worst Counties by Enrollment Yield\")\n",
    "\n",
    "top10counties = alt.Chart(countiesDF[countiesDF['Applied']>20].sort_values(\"Percent Enrolled\",ascending=False).iloc[:10]).mark_bar(color='gold').encode(\n",
    "    x=alt.X('Percent Enrolled:Q', axis=alt.Axis(format='%')),\n",
    "    y=alt.Y(\n",
    "        'County_perm_res:O', axis=alt.Axis(title=''),\n",
    "        sort = alt.EncodingSortField(\n",
    "                field='Percent Enrolled',\n",
    "                op = \"sum\",\n",
    "                order = \"descending\"\n",
    "        )\n",
    "    )\n",
    ").properties(height=200,width=200,title=\"Best Counties by Enrollment Yield\")\n",
    "\n",
    "bottom10counties | top10counties"
   ]
  },
  {
   "cell_type": "markdown",
   "metadata": {
    "colab_type": "text",
    "id": "KF70xM1GX_m8"
   },
   "source": [
    "Scatterplot of # of applications vs. # of students enrolled by county."
   ]
  },
  {
   "cell_type": "code",
   "execution_count": null,
   "metadata": {
    "colab": {
     "base_uri": "https://localhost:8080/",
     "height": 0
    },
    "colab_type": "code",
    "executionInfo": {
     "elapsed": 103049,
     "status": "ok",
     "timestamp": 1559046977991,
     "user": {
      "displayName": "Spencer Tibbitts",
      "photoUrl": "",
      "userId": "04799193853875039711"
     },
     "user_tz": 240
    },
    "id": "G3Ji2AupYBQr",
    "outputId": "7d1b56a7-b80e-4945-c5ec-a3319149e8e6"
   },
   "outputs": [],
   "source": [
    "f, axes = plt.subplots(figsize=(10,6))\n",
    "sns.scatterplot(data = countiesDF, x=\"Applied\", y=\"Enrolled\");\n",
    "plt.title(\"Applied v. Attended\");"
   ]
  },
  {
   "cell_type": "markdown",
   "metadata": {
    "colab_type": "text",
    "id": "0KDP6jPJmj5y"
   },
   "source": [
    "Create a DataFrame to analyze parents' financial status by race/ethnicity."
   ]
  },
  {
   "cell_type": "code",
   "execution_count": null,
   "metadata": {
    "colab": {},
    "colab_type": "code",
    "id": "pp_dAdSplu5F"
   },
   "outputs": [],
   "source": [
    "ethnicity_AGIDF = pd.merge(left=df[['Ethnicity','Parent_income_AGI']].groupby(\"Ethnicity\").mean(),\n",
    "  right=df[[\"Ethnicity\",\"Enrolled\",\"Unique_student_ID\"]].groupby(\"Ethnicity\").count(),\n",
    "          how='outer', left_index=True, right_index=True).rename(columns={\"Unique_student_ID\":\"TotApplicants\",\n",
    "                                                                         \"Parent_income_AGI\":\"AvgParent_income_AGI\"})\n",
    "ethnicity_AGIDF.reset_index(inplace=True)\n",
    "ethnicity_AGIDF = ethnicity_AGIDF.drop(7)"
   ]
  },
  {
   "cell_type": "markdown",
   "metadata": {
    "colab_type": "text",
    "id": "znOxW7INrqMe"
   },
   "source": [
    "Barplot of Parent's average adjusted gross income."
   ]
  },
  {
   "cell_type": "code",
   "execution_count": null,
   "metadata": {
    "colab": {
     "base_uri": "https://localhost:8080/",
     "height": 0
    },
    "colab_type": "code",
    "executionInfo": {
     "elapsed": 103100,
     "status": "ok",
     "timestamp": 1559046978063,
     "user": {
      "displayName": "Spencer Tibbitts",
      "photoUrl": "",
      "userId": "04799193853875039711"
     },
     "user_tz": 240
    },
    "id": "MrWhWDRRprcd",
    "outputId": "a3a377cd-979a-4ced-d888-f3fb762ce56b"
   },
   "outputs": [],
   "source": [
    "alt.Chart(ethnicity_AGIDF).mark_bar().encode(\n",
    "    x=alt.X('AvgParent_income_AGI:Q', axis=alt.Axis(format='$,k',title=\"Parents' AGI\",labelAngle=20)),\n",
    "    y=alt.Y(\n",
    "        'Ethnicity:O', axis=alt.Axis(title=''),\n",
    "        sort = alt.EncodingSortField(\n",
    "                field='AvgParent_income_AGI',\n",
    "                op = \"sum\",\n",
    "                order = \"descending\"\n",
    "        )\n",
    "    )\n",
    ").properties(height=200,width=300,title='Average AGI by Race/Ethnicity')"
   ]
  },
  {
   "cell_type": "markdown",
   "metadata": {},
   "source": [
    "Boxplot of parents AGI by race/ethnicity."
   ]
  },
  {
   "cell_type": "code",
   "execution_count": null,
   "metadata": {
    "colab": {
     "base_uri": "https://localhost:8080/",
     "height": 0
    },
    "colab_type": "code",
    "executionInfo": {
     "elapsed": 103464,
     "status": "ok",
     "timestamp": 1559046978442,
     "user": {
      "displayName": "Spencer Tibbitts",
      "photoUrl": "",
      "userId": "04799193853875039711"
     },
     "user_tz": 240
    },
    "id": "FWxQV_4lrKcQ",
    "outputId": "8b15378c-d0f4-4957-a9fd-06be850458b0"
   },
   "outputs": [],
   "source": [
    "import matplotlib.ticker as mtick\n",
    "\n",
    "f, axes = plt.subplots(figsize=(10,7))\n",
    "sns.boxplot(data=df[df['Ethnicity']!='Unknown'],y=\"Ethnicity\",x=\"Parent_income_AGI\")\n",
    "\n",
    "fmt = '${x:,.0f}'\n",
    "tick = mtick.StrMethodFormatter(fmt)\n",
    "\n",
    "axes.xaxis.set_major_formatter(tick) \n",
    "\n",
    "plt.xticks(rotation=-20)\n",
    "plt.xlim(0,500000);"
   ]
  }
 ],
 "metadata": {
  "colab": {
   "name": "Admissions_Critical_Path.ipynb",
   "provenance": [],
   "version": "0.3.2"
  },
  "kernelspec": {
   "display_name": "Python 3",
   "language": "python",
   "name": "python3"
  },
  "language_info": {
   "codemirror_mode": {
    "name": "ipython",
    "version": 3
   },
   "file_extension": ".py",
   "mimetype": "text/x-python",
   "name": "python",
   "nbconvert_exporter": "python",
   "pygments_lexer": "ipython3",
   "version": "3.7.3"
  }
 },
 "nbformat": 4,
 "nbformat_minor": 4
}
