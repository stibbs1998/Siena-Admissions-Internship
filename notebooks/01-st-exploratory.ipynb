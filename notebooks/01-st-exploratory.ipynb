{
 "cells": [
  {
   "cell_type": "markdown",
   "metadata": {
    "colab_type": "text",
    "id": "5nK-Tc4KwB5u"
   },
   "source": [
    "## Import Packages"
   ]
  },
  {
   "cell_type": "code",
   "execution_count": null,
   "metadata": {
    "colab": {},
    "colab_type": "code",
    "id": "96_99_K7oy_p",
    "scrolled": true
   },
   "outputs": [],
   "source": [
    "import numpy as np\n",
    "import pandas as pd\n",
    "import seaborn as sns\n",
    "import altair as alt\n",
    "import matplotlib.pyplot as plt\n",
    "import warnings\n",
    "import folium\n",
    "import sys\n",
    "warnings.filterwarnings('ignore')"
   ]
  },
  {
   "cell_type": "code",
   "execution_count": null,
   "metadata": {},
   "outputs": [],
   "source": [
    "sys.path.insert(0, '../src/visualization/')\n",
    "import visualize as vis"
   ]
  },
  {
   "cell_type": "markdown",
   "metadata": {
    "colab_type": "text",
    "id": "eTUx2unkwFmC"
   },
   "source": [
    "## Read in File"
   ]
  },
  {
   "cell_type": "code",
   "execution_count": null,
   "metadata": {
    "colab": {
     "base_uri": "https://localhost:8080/",
     "height": 287
    },
    "colab_type": "code",
    "executionInfo": {
     "elapsed": 84799,
     "status": "ok",
     "timestamp": 1559046959060,
     "user": {
      "displayName": "Spencer Tibbitts",
      "photoUrl": "",
      "userId": "04799193853875039711"
     },
     "user_tz": 240
    },
    "id": "k3wx44RQpcRD",
    "outputId": "7ac53c3c-1caa-4fd3-dfb2-598b5991e9be"
   },
   "outputs": [],
   "source": [
    "filename = '../data/processed/CriticalPath_Data_EM_Confidential_lessNoise.csv'\n",
    "\n",
    "data = pd.read_csv(filename).drop(columns=[\"Unnamed: 0\"])\n",
    "data.head()"
   ]
  },
  {
   "cell_type": "markdown",
   "metadata": {
    "colab_type": "text",
    "id": "4D_7BcOj1qTG"
   },
   "source": [
    "### KDE of High School GPA"
   ]
  },
  {
   "cell_type": "markdown",
   "metadata": {
    "colab_type": "text",
    "id": "h2pXhaCW4r4u"
   },
   "source": [
    "#### All Applicants"
   ]
  },
  {
   "cell_type": "code",
   "execution_count": null,
   "metadata": {
    "colab": {
     "base_uri": "https://localhost:8080/",
     "height": 405
    },
    "colab_type": "code",
    "executionInfo": {
     "elapsed": 85946,
     "status": "ok",
     "timestamp": 1559046960336,
     "user": {
      "displayName": "Spencer Tibbitts",
      "photoUrl": "",
      "userId": "04799193853875039711"
     },
     "user_tz": 240
    },
    "id": "MiYob9pSz8KM",
    "outputId": "0ba59047-c481-4f68-839b-b08c3cf8bb84"
   },
   "outputs": [],
   "source": [
    "# plt.figure(figsize=(10,6))\n",
    "all_hs_gpa = data[~data['HS_GPA'].isnull()][data['HS_GPA']>5][data['HS_GPA']<400]\n",
    "\n",
    "vis.kde_w_mean(all_hs_gpa['HS_GPA'],20, \"# of Students\")\n",
    "\n",
    "plt.xlabel(\"High School GPA (out of 100)\")\n",
    "plt.title(\"KDE of High School GPA: Applied\");"
   ]
  },
  {
   "cell_type": "markdown",
   "metadata": {
    "colab_type": "text",
    "id": "LqxEYpRV27rP"
   },
   "source": [
    "#### Enrolled"
   ]
  },
  {
   "cell_type": "code",
   "execution_count": null,
   "metadata": {
    "colab": {
     "base_uri": "https://localhost:8080/",
     "height": 405
    },
    "colab_type": "code",
    "executionInfo": {
     "elapsed": 85913,
     "status": "ok",
     "timestamp": 1559046960340,
     "user": {
      "displayName": "Spencer Tibbitts",
      "photoUrl": "",
      "userId": "04799193853875039711"
     },
     "user_tz": 240
    },
    "id": "RGxYKaQe26_Q",
    "outputId": "58fab245-90d6-4f2b-8f25-5598c4afb320"
   },
   "outputs": [],
   "source": [
    "vis.kde_w_mean(all_hs_gpa['HS_GPA'][all_hs_gpa['Admission_status']==80],20, \"# of Students\")\n",
    "\n",
    "plt.xlabel(\"High School GPA (out of 100)\")\n",
    "plt.title(\"KDE of High School GPA: Enrolled\");"
   ]
  },
  {
   "cell_type": "markdown",
   "metadata": {
    "colab_type": "text",
    "id": "LytyqtJg127s"
   },
   "source": [
    "### KDE of HS Percentile Rankings"
   ]
  },
  {
   "cell_type": "code",
   "execution_count": null,
   "metadata": {
    "colab": {
     "base_uri": "https://localhost:8080/",
     "height": 0
    },
    "colab_type": "code",
    "executionInfo": {
     "elapsed": 87218,
     "status": "ok",
     "timestamp": 1559046961700,
     "user": {
      "displayName": "Spencer Tibbitts",
      "photoUrl": "",
      "userId": "04799193853875039711"
     },
     "user_tz": 240
    },
    "id": "1xX1aXVHq3qn",
    "outputId": "27f7fc40-c260-4b9a-e2ec-6d0d97c4a8dd"
   },
   "outputs": [],
   "source": [
    "all_hs_percentile = data[~data['HS_Percentile_rank'].isnull()][data['HS_Percentile_rank']>=0]\n",
    "vis.kde_w_mean(all_hs_percentile['HS_Percentile_rank'],100, \"# of Students\")\n",
    "plt.xlabel(\"Percentile Rank in HS Class\")\n",
    "plt.title(\"Distribution of HS Percentile Rankings\");"
   ]
  },
  {
   "cell_type": "markdown",
   "metadata": {
    "colab_type": "text",
    "id": "_ruNuVdD5YiW"
   },
   "source": [
    "#### Enrolled"
   ]
  },
  {
   "cell_type": "code",
   "execution_count": null,
   "metadata": {
    "colab": {
     "base_uri": "https://localhost:8080/",
     "height": 0
    },
    "colab_type": "code",
    "executionInfo": {
     "elapsed": 88236,
     "status": "ok",
     "timestamp": 1559046962759,
     "user": {
      "displayName": "Spencer Tibbitts",
      "photoUrl": "",
      "userId": "04799193853875039711"
     },
     "user_tz": 240
    },
    "id": "XfjWA4M25aMV",
    "outputId": "760608df-2e89-48d9-d62a-3a3141709452"
   },
   "outputs": [],
   "source": [
    "vis.kde_w_mean(all_hs_percentile['HS_Percentile_rank'][all_hs_percentile['Admission_status']==80],100, \"# of Students\")\n",
    "plt.xlabel(\"Percentile Rank in HS Class\")\n",
    "plt.title(\"Distribution of HS Percentile Rankings\");"
   ]
  },
  {
   "cell_type": "markdown",
   "metadata": {
    "colab_type": "text",
    "id": "_2Fvu8Lw_UMl"
   },
   "source": [
    "### KDE of High School Class Size"
   ]
  },
  {
   "cell_type": "code",
   "execution_count": null,
   "metadata": {
    "colab": {
     "base_uri": "https://localhost:8080/",
     "height": 0
    },
    "colab_type": "code",
    "executionInfo": {
     "elapsed": 88771,
     "status": "ok",
     "timestamp": 1559046963322,
     "user": {
      "displayName": "Spencer Tibbitts",
      "photoUrl": "",
      "userId": "04799193853875039711"
     },
     "user_tz": 240
    },
    "id": "ORx5AhpmvbmK",
    "outputId": "54633db6-d476-4b1c-c836-8492ec8e5635"
   },
   "outputs": [],
   "source": [
    "hs_size = data[~data['HS_Class_size'].isnull()]\n",
    "vis.kde_w_mean(hs_size['HS_Class_size'],100, \"# of Students\")\n",
    "plt.ylabel(\"Probability Density Function\")\n",
    "plt.title(\"Distribution of Class Sizes: All Aplicants\");\n",
    "plt.xlim(0,1400);"
   ]
  },
  {
   "cell_type": "markdown",
   "metadata": {
    "colab_type": "text",
    "id": "RtDmhham6n9h"
   },
   "source": [
    "#### Enrolled"
   ]
  },
  {
   "cell_type": "code",
   "execution_count": null,
   "metadata": {
    "colab": {
     "base_uri": "https://localhost:8080/",
     "height": 0
    },
    "colab_type": "code",
    "executionInfo": {
     "elapsed": 89764,
     "status": "ok",
     "timestamp": 1559046964330,
     "user": {
      "displayName": "Spencer Tibbitts",
      "photoUrl": "",
      "userId": "04799193853875039711"
     },
     "user_tz": 240
    },
    "id": "XInDfR2Y6oJ6",
    "outputId": "11f11d3e-1d21-43dd-d443-61ab93f94cde"
   },
   "outputs": [],
   "source": [
    "hs_size = data[~data['HS_Class_size'].isnull()]\n",
    "vis.kde_w_mean(hs_size['HS_Class_size'][hs_size['Admission_status']==80],100, \"# of Students\")\n",
    "plt.ylabel(\"Probability Density Function\")\n",
    "plt.title(\"Distribution of Class Sizes: Enrolled\");\n",
    "plt.xlim(0,1400);"
   ]
  },
  {
   "cell_type": "markdown",
   "metadata": {
    "colab_type": "text",
    "id": "lIWNN2DbBUH_"
   },
   "source": [
    "### KDE of ACT Scores"
   ]
  },
  {
   "cell_type": "markdown",
   "metadata": {
    "colab_type": "text",
    "id": "b2_0ygi77e9R"
   },
   "source": [
    "#### Non-Enrolled"
   ]
  },
  {
   "cell_type": "code",
   "execution_count": null,
   "metadata": {
    "colab": {
     "base_uri": "https://localhost:8080/",
     "height": 0
    },
    "colab_type": "code",
    "executionInfo": {
     "elapsed": 90728,
     "status": "ok",
     "timestamp": 1559046965324,
     "user": {
      "displayName": "Spencer Tibbitts",
      "photoUrl": "",
      "userId": "04799193853875039711"
     },
     "user_tz": 240
    },
    "id": "76wBTuXUBCVD",
    "outputId": "6d53c6ca-5003-4aaf-b082-3627a8eb1f52"
   },
   "outputs": [],
   "source": [
    "act_scores = data[~data['ACTComposite'].isnull()]\n",
    "vis.kde_w_mean(act_scores['ACTComposite'][act_scores['Enrolled']==False],25,'# of Students')\n",
    "plt.title(\"Non-Enrolled\");"
   ]
  },
  {
   "cell_type": "markdown",
   "metadata": {
    "colab_type": "text",
    "id": "uQZZTSdR7hKx"
   },
   "source": [
    "#### Enrolled"
   ]
  },
  {
   "cell_type": "code",
   "execution_count": null,
   "metadata": {
    "colab": {
     "base_uri": "https://localhost:8080/",
     "height": 0
    },
    "colab_type": "code",
    "executionInfo": {
     "elapsed": 91100,
     "status": "ok",
     "timestamp": 1559046965713,
     "user": {
      "displayName": "Spencer Tibbitts",
      "photoUrl": "",
      "userId": "04799193853875039711"
     },
     "user_tz": 240
    },
    "id": "SIzTZyK97jhj",
    "outputId": "123e9331-dee4-4e43-f95d-37916c501a16"
   },
   "outputs": [],
   "source": [
    "vis.kde_w_mean(act_scores['ACTComposite'][act_scores['Admission_status']==80],20,'# of Students')\n",
    "plt.title(\"Enrolled\");"
   ]
  },
  {
   "cell_type": "markdown",
   "metadata": {
    "colab_type": "text",
    "id": "vTzR_18ICJsv"
   },
   "source": [
    "### KDEs of SAT Scores"
   ]
  },
  {
   "cell_type": "markdown",
   "metadata": {
    "colab_type": "text",
    "id": "vb3P5AHjCPVX"
   },
   "source": [
    "#### New Format"
   ]
  },
  {
   "cell_type": "code",
   "execution_count": null,
   "metadata": {
    "colab": {
     "base_uri": "https://localhost:8080/",
     "height": 0
    },
    "colab_type": "code",
    "executionInfo": {
     "elapsed": 92879,
     "status": "ok",
     "timestamp": 1559046967548,
     "user": {
      "displayName": "Spencer Tibbitts",
      "photoUrl": "",
      "userId": "04799193853875039711"
     },
     "user_tz": 240
    },
    "id": "lE2RSaN2CH7M",
    "outputId": "f16c6bfa-fe51-47e4-ce11-852aafa9757b"
   },
   "outputs": [],
   "source": [
    "for column in data.columns:\n",
    "    if \"NEW\" in column:\n",
    "        plt.figure()\n",
    "        vis.kde_w_mean(data[column][~data[column].isnull()], 20, \"# of Students\")"
   ]
  },
  {
   "cell_type": "markdown",
   "metadata": {
    "colab_type": "text",
    "id": "ouTxu0FcLohn"
   },
   "source": [
    "#### Enrolled"
   ]
  },
  {
   "cell_type": "code",
   "execution_count": null,
   "metadata": {
    "colab": {
     "base_uri": "https://localhost:8080/",
     "height": 0
    },
    "colab_type": "code",
    "executionInfo": {
     "elapsed": 94275,
     "status": "ok",
     "timestamp": 1559046968959,
     "user": {
      "displayName": "Spencer Tibbitts",
      "photoUrl": "",
      "userId": "04799193853875039711"
     },
     "user_tz": 240
    },
    "id": "qmVNG5msLknF",
    "outputId": "41633183-fc08-4918-e1b7-5ad191e5a407"
   },
   "outputs": [],
   "source": [
    "for column in data.columns:\n",
    "    if \"NEW\" in column:\n",
    "        plt.figure()\n",
    "        df = data[[column,'Enrolled']][~data[column].isnull()]\n",
    "        vis.kde_w_mean(df[column][~df['Enrolled'].isnull()], 20, \"# of Students\")"
   ]
  },
  {
   "cell_type": "markdown",
   "metadata": {
    "colab_type": "text",
    "id": "pzry0uu_DAXK"
   },
   "source": [
    "#### Old Format"
   ]
  },
  {
   "cell_type": "code",
   "execution_count": null,
   "metadata": {
    "colab": {
     "base_uri": "https://localhost:8080/",
     "height": 0
    },
    "colab_type": "code",
    "executionInfo": {
     "elapsed": 97001,
     "status": "ok",
     "timestamp": 1559046971702,
     "user": {
      "displayName": "Spencer Tibbitts",
      "photoUrl": "",
      "userId": "04799193853875039711"
     },
     "user_tz": 240
    },
    "id": "Bm-2S8IYCbUh",
    "outputId": "3519bee0-d73b-44b9-d074-cb1957b9214c"
   },
   "outputs": [],
   "source": [
    "for column in data.columns:\n",
    "    if \"NEW\" not in column and \"SAT\" in column:\n",
    "        plt.figure()\n",
    "        vis.kde_w_mean(data[column][~data[column].isnull()], 20, \"# of Students\")"
   ]
  },
  {
   "cell_type": "markdown",
   "metadata": {
    "colab_type": "text",
    "id": "9U9K6uX4IgKk"
   },
   "source": [
    "### Students Enrollment by Major "
   ]
  },
  {
   "cell_type": "code",
   "execution_count": null,
   "metadata": {
    "colab": {
     "base_uri": "https://localhost:8080/",
     "height": 0
    },
    "colab_type": "code",
    "executionInfo": {
     "elapsed": 98731,
     "status": "ok",
     "timestamp": 1559046973446,
     "user": {
      "displayName": "Spencer Tibbitts",
      "photoUrl": "",
      "userId": "04799193853875039711"
     },
     "user_tz": 240
    },
    "id": "1AjslF6rHJkg",
    "outputId": "e046c158-c6dc-43dc-e7e6-a703101b6cd9"
   },
   "outputs": [],
   "source": [
    "num_majors_applied = []\n",
    "num_majors_enrolled = []\n",
    "\n",
    "for major in data['Major'].unique():\n",
    "    num_majors_applied.append(data.Major.str.count(major).sum())\n",
    "    num_majors_enrolled.append(data.Major[data['Enrolled']].str.count(major).sum())\n",
    "\n",
    "majorsDF = pd.DataFrame({\"Major\": list(data.Major.unique()) + list(data.Major.unique()), \n",
    "                         \"Num Students\":list(num_majors_applied) + list(num_majors_enrolled),\n",
    "                         \"Enrolled\":  list(data.Major.unique() == 'false') + list(data.Major.unique() != 'false')})\n",
    "\n",
    "mapper = {True:\"Enrolled\", False:\"Applied\"}\n",
    "\n",
    "majorsDF['Enrolled'] = majorsDF['Enrolled'].map(mapper)\n",
    "\n",
    "enrolled = majorsDF['Num Students'][majorsDF['Enrolled']!='Applied']\n",
    "applied = majorsDF['Num Students'][majorsDF['Enrolled']=='Applied']\n",
    "\n",
    "percentage_enrolled = np.array(enrolled)/np.array(applied)\n",
    "majorsDF['Percentage Enrolled'] = [np.nan]*len(applied) + list(percentage_enrolled)\n",
    "\n",
    "\n",
    "\n",
    "alt.Chart(majorsDF).mark_bar().encode(\n",
    "    y='Num Students:Q',\n",
    "    color = \"Enrolled\",\n",
    "    x=alt.X(\n",
    "        \"Major:O\",\n",
    "        sort=alt.EncodingSortField(\n",
    "          field = 'Num Students',\n",
    "          op = 'sum',\n",
    "          order = 'descending'\n",
    "        )\n",
    "    )\n",
    ").properties(height=200)\n",
    "\n",
    "#### ERROR BARS"
   ]
  },
  {
   "cell_type": "markdown",
   "metadata": {
    "colab_type": "text",
    "id": "iE79btFUesWt"
   },
   "source": [
    "#### Percentage of Students Enrolled by Major"
   ]
  },
  {
   "cell_type": "code",
   "execution_count": null,
   "metadata": {
    "colab": {
     "base_uri": "https://localhost:8080/",
     "height": 0
    },
    "colab_type": "code",
    "executionInfo": {
     "elapsed": 98705,
     "status": "ok",
     "timestamp": 1559046973449,
     "user": {
      "displayName": "Spencer Tibbitts",
      "photoUrl": "",
      "userId": "04799193853875039711"
     },
     "user_tz": 240
    },
    "id": "hOltd6Fderre",
    "outputId": "9cd41a16-23da-4729-f5c0-7bd544ad6e7f"
   },
   "outputs": [],
   "source": [
    "alt.Chart(majorsDF).mark_bar().encode(\n",
    "    y='Percentage Enrolled:Q',\n",
    "    x=alt.X(\n",
    "        \"Major:O\",\n",
    "        sort=alt.EncodingSortField(\n",
    "            field=\"Percentage Enrolled\",\n",
    "            op=\"sum\",\n",
    "            order=\"descending\"\n",
    "        )\n",
    "    )\n",
    ").properties(height=200)"
   ]
  },
  {
   "cell_type": "markdown",
   "metadata": {
    "colab_type": "text",
    "id": "UYflI36xoorG"
   },
   "source": [
    "### By State (excluding NY)"
   ]
  },
  {
   "cell_type": "code",
   "execution_count": null,
   "metadata": {
    "colab": {},
    "colab_type": "code",
    "id": "FWKzlOLLnl41"
   },
   "outputs": [],
   "source": [
    "state_counts = []\n",
    "states = []\n",
    "\n",
    "for state in data['State_perm_res'][data['International_student']=='US'].unique():\n",
    "  \n",
    "  if type(state)==str and state!='NY':\n",
    "    \n",
    "    states.append(state)\n",
    "                   \n",
    "    state_counts.append(data['State_perm_res'].str.count(state).sum())\n",
    "    \n",
    "statesDF = pd.DataFrame({\"State\": states, \"Num Students\":state_counts})\n",
    "statesDF = statesDF.sort_values(\"Num Students\",ascending = False).reset_index()"
   ]
  },
  {
   "cell_type": "markdown",
   "metadata": {
    "colab_type": "text",
    "id": "vVLstEhzwq8f"
   },
   "source": [
    "#### Top Ten States outside of NY"
   ]
  },
  {
   "cell_type": "code",
   "execution_count": null,
   "metadata": {
    "colab": {
     "base_uri": "https://localhost:8080/",
     "height": 0
    },
    "colab_type": "code",
    "executionInfo": {
     "elapsed": 99952,
     "status": "ok",
     "timestamp": 1559046974723,
     "user": {
      "displayName": "Spencer Tibbitts",
      "photoUrl": "",
      "userId": "04799193853875039711"
     },
     "user_tz": 240
    },
    "id": "3sOduspDpUmX",
    "outputId": "8b505f25-efd2-40dd-c83d-7310d4795357"
   },
   "outputs": [],
   "source": [
    "alt.Chart(statesDF.iloc[:10]).mark_bar().encode(\n",
    "    x='Num Students:Q',\n",
    "    y=alt.Y(\n",
    "        \"State:O\",\n",
    "        sort=alt.EncodingSortField(\n",
    "            field=\"Num Students\",\n",
    "            op=\"sum\",\n",
    "            order=\"descending\"\n",
    "        )\n",
    "    )\n",
    ").properties(height=300)"
   ]
  },
  {
   "cell_type": "markdown",
   "metadata": {
    "colab_type": "text",
    "id": "g0zTjvbzwss6"
   },
   "source": [
    "#### Choropleth Map: All States excluding NY"
   ]
  },
  {
   "cell_type": "code",
   "execution_count": null,
   "metadata": {
    "colab": {
     "base_uri": "https://localhost:8080/",
     "height": 0
    },
    "colab_type": "code",
    "executionInfo": {
     "elapsed": 100696,
     "status": "ok",
     "timestamp": 1559046975487,
     "user": {
      "displayName": "Spencer Tibbitts",
      "photoUrl": "",
      "userId": "04799193853875039711"
     },
     "user_tz": 240
    },
    "id": "kmeonnqyqxUN",
    "outputId": "d95daa8b-bcc0-4691-d219-0642aa26eeda"
   },
   "outputs": [],
   "source": [
    "geo_data1 = '../data/processed/us-states.json'\n",
    "\n",
    "m = folium.Map(\n",
    "    location=[42.65, -73.75],\n",
    "    tiles='Mapbox Bright',\n",
    "    zoom_start=5\n",
    ")\n",
    "\n",
    "folium.Choropleth(\n",
    "    geo_data=geo_data1,\n",
    "    nan_fill_opacity=0,\n",
    "    name='choropleth',\n",
    "    data=statesDF,\n",
    "    columns=['State', 'Num Students'],\n",
    "    key_on='feature.id',\n",
    "    fill_color='YlOrRd',\n",
    "    fill_opacity=0.7,\n",
    "    line_opacity=0.2,\n",
    "    legend_name='Admission by State',\n",
    "    highlight=True\n",
    ").add_to(m)\n",
    "\n",
    "folium.LayerControl().add_to(m)\n",
    "\n",
    "m"
   ]
  },
  {
   "cell_type": "markdown",
   "metadata": {
    "colab_type": "text",
    "id": "3nJ7Ai-Ab7ax"
   },
   "source": [
    "#### Choropleth Map: Excluding NY, CT, MA, NJ"
   ]
  },
  {
   "cell_type": "code",
   "execution_count": null,
   "metadata": {
    "colab": {
     "base_uri": "https://localhost:8080/",
     "height": 0
    },
    "colab_type": "code",
    "executionInfo": {
     "elapsed": 100691,
     "status": "ok",
     "timestamp": 1559046975494,
     "user": {
      "displayName": "Spencer Tibbitts",
      "photoUrl": "",
      "userId": "04799193853875039711"
     },
     "user_tz": 240
    },
    "id": "5rQa-_e5Y2Q6",
    "outputId": "837c8cf9-d746-45c5-ef54-60308eb6b7d6"
   },
   "outputs": [],
   "source": [
    "geo_data1 = '../data/processed/us-states.json'\n",
    "\n",
    "m = folium.Map(\n",
    "    location=[32.65, -93.75],\n",
    "    tiles='Mapbox Bright',\n",
    "    zoom_start=5,\n",
    "    width='75%',\n",
    "    height='75%'\n",
    ")\n",
    "\n",
    "folium.Map()\n",
    "\n",
    "folium.Choropleth(\n",
    "    geo_data=geo_data1,\n",
    "    nan_fill_opacity=0,\n",
    "    name='choropleth',\n",
    "    data=statesDF.sort_values(\"Num Students\",ascending=False).iloc[3:],\n",
    "    columns=['State', 'Num Students'],\n",
    "    key_on='feature.id',\n",
    "    fill_color='YlOrRd',\n",
    "    fill_opacity=0.7,\n",
    "    line_opacity=0.2,\n",
    "    legend_name='Applications by State',\n",
    "    highlight=True\n",
    ").add_to(m)\n",
    "\n",
    "folium.LayerControl().add_to(m)\n",
    "\n",
    "m"
   ]
  },
  {
   "cell_type": "markdown",
   "metadata": {
    "colab_type": "text",
    "id": "ckOLLZ68wv2r"
   },
   "source": [
    "#### Choropleth Map: Non-Athletes, Excluding NY, CT, MA, NJ"
   ]
  },
  {
   "cell_type": "code",
   "execution_count": null,
   "metadata": {
    "colab": {},
    "colab_type": "code",
    "id": "zwwGTsCh6FzA"
   },
   "outputs": [],
   "source": [
    "slicer = pd.DataFrame({\"Athlete\":data['Recruited_athlete'].isnull(),\n",
    "                       'International_student':data['International_student']=='US', \n",
    "                       'In-State': data['State_perm_res']!='NY'})\n",
    "\n",
    "state_counts_non_athletes = []\n",
    "states_non_athletes = []\n",
    "\n",
    "for state in data['State_perm_res'].unique():\n",
    "  \n",
    "  if type(state)==str and  state !='NY' and state!='MA' and state!= 'NJ' and state != 'CT':\n",
    "    \n",
    "    states_non_athletes.append(state)\n",
    "                   \n",
    "    state_counts_non_athletes.append(data['State_perm_res'][slicer.all(axis='columns')].str.count(state).sum())\n",
    "    \n",
    "non_athlethesDF = pd.DataFrame({\"State\": states_non_athletes, \"Num Students\":state_counts_non_athletes})"
   ]
  },
  {
   "cell_type": "code",
   "execution_count": null,
   "metadata": {
    "colab": {
     "base_uri": "https://localhost:8080/",
     "height": 0
    },
    "colab_type": "code",
    "executionInfo": {
     "elapsed": 101406,
     "status": "ok",
     "timestamp": 1559046976230,
     "user": {
      "displayName": "Spencer Tibbitts",
      "photoUrl": "",
      "userId": "04799193853875039711"
     },
     "user_tz": 240
    },
    "id": "HIDp40XG7cNy",
    "outputId": "797623a6-e57b-4380-d8ab-7bd08d58e6e0"
   },
   "outputs": [],
   "source": [
    "geo_data1 = '../data/processed/us-states.json'\n",
    "\n",
    "m = folium.Map(\n",
    "    location=[42.65, -73.75],\n",
    "    tiles='Mapbox Bright',\n",
    "    zoom_start=5\n",
    ")\n",
    "\n",
    "folium.Choropleth(\n",
    "    geo_data=geo_data1,\n",
    "    nan_fill_opacity=0,\n",
    "    name='choropleth',\n",
    "    data=non_athlethesDF,\n",
    "    columns=['State', 'Num Students'],\n",
    "    key_on='feature.id',\n",
    "    fill_color='YlOrRd',\n",
    "    fill_opacity=0.7,\n",
    "    line_opacity=0.2,\n",
    "    legend_name='Admission by State',\n",
    "    highlight=True\n",
    ").add_to(m)\n",
    "\n",
    "folium.LayerControl().add_to(m)\n",
    "\n",
    "m"
   ]
  },
  {
   "cell_type": "markdown",
   "metadata": {
    "colab_type": "text",
    "id": "8PRnnnQEcngV"
   },
   "source": [
    "### By City"
   ]
  },
  {
   "cell_type": "code",
   "execution_count": null,
   "metadata": {
    "colab": {},
    "colab_type": "code",
    "id": "tDi8DkjLV7J6"
   },
   "outputs": [],
   "source": [
    "citiesDF = data[data['Enrolled']].groupby([\"City_perm_res\",\n",
    "  \"State_perm_res\"]).count().sort_values(\"Unique_student_ID\",\n",
    "  ascending=False)[['Unique_student_ID']].rename(columns = {\"Unique_student_ID\":\"Enrolled\"})\n",
    "\n",
    "citiesDF = citiesDF.merge(\n",
    "    data.groupby([\"City_perm_res\",\"State_perm_res\"]).count().sort_values(\"Unique_student_ID\",\n",
    "    ascending=False)[['Unique_student_ID']].rename(columns = {\"Unique_student_ID\":\"Applied\"}),\n",
    "    left_index=True, right_index=True)\n",
    "\n",
    "citiesDF['PercentEnrolled'] = citiesDF['Enrolled']/citiesDF['Applied'] * 100\n",
    "\n",
    "citiesDF.reset_index(inplace=True)\n",
    "citiesDF = citiesDF.sort_values(\"Enrolled\",ascending=False)"
   ]
  },
  {
   "cell_type": "markdown",
   "metadata": {
    "colab_type": "text",
    "id": "SzkeE4ASC7gI"
   },
   "source": [
    "#### Top Cities By Enrollment Total"
   ]
  },
  {
   "cell_type": "code",
   "execution_count": null,
   "metadata": {
    "colab": {
     "base_uri": "https://localhost:8080/",
     "height": 0
    },
    "colab_type": "code",
    "executionInfo": {
     "elapsed": 101570,
     "status": "ok",
     "timestamp": 1559046976409,
     "user": {
      "displayName": "Spencer Tibbitts",
      "photoUrl": "",
      "userId": "04799193853875039711"
     },
     "user_tz": 240
    },
    "id": "mDposZ0D82Y4",
    "outputId": "1442c519-f63e-45d3-f9b4-b2e8dc9c130d"
   },
   "outputs": [],
   "source": [
    "alt.Chart(citiesDF.iloc[:10]).mark_bar().encode(\n",
    "    x='Enrolled:Q',\n",
    "    y=alt.Y(\n",
    "        'City_perm_res:O',\n",
    "        sort = alt.EncodingSortField(\n",
    "                field='Enrolled',\n",
    "                op = \"sum\",\n",
    "                order = \"descending\"\n",
    "        )\n",
    "    )\n",
    ").properties(height=400)"
   ]
  },
  {
   "cell_type": "markdown",
   "metadata": {
    "colab_type": "text",
    "id": "XbvyY-2BDBCJ"
   },
   "source": [
    "#### Top Cities outside of NY by Enrollment"
   ]
  },
  {
   "cell_type": "code",
   "execution_count": null,
   "metadata": {
    "colab": {
     "base_uri": "https://localhost:8080/",
     "height": 0
    },
    "colab_type": "code",
    "executionInfo": {
     "elapsed": 101557,
     "status": "ok",
     "timestamp": 1559046976411,
     "user": {
      "displayName": "Spencer Tibbitts",
      "photoUrl": "",
      "userId": "04799193853875039711"
     },
     "user_tz": 240
    },
    "id": "FhREti-o91wM",
    "outputId": "40e89540-9562-4dfe-b74f-4b7b9c0c6c39"
   },
   "outputs": [],
   "source": [
    "alt.Chart(citiesDF[citiesDF[\"State_perm_res\"]!='NY'][:10]).mark_bar().encode(\n",
    "    x='Enrolled:Q',\n",
    "    y=alt.Y(\n",
    "        'City_perm_res:O',\n",
    "        sort = alt.EncodingSortField(\n",
    "                field='Enrolled',\n",
    "                op = \"sum\",\n",
    "                order = \"descending\"\n",
    "        )\n",
    "    )\n",
    ").properties(height=400)"
   ]
  },
  {
   "cell_type": "markdown",
   "metadata": {
    "colab_type": "text",
    "id": "cSwCZAh2DvQH"
   },
   "source": [
    "#### Top/Bottom 15 Cities by Enrollment Percentage (min 20 applied)"
   ]
  },
  {
   "cell_type": "code",
   "execution_count": null,
   "metadata": {
    "colab": {
     "base_uri": "https://localhost:8080/",
     "height": 0
    },
    "colab_type": "code",
    "executionInfo": {
     "elapsed": 101543,
     "status": "ok",
     "timestamp": 1559046976414,
     "user": {
      "displayName": "Spencer Tibbitts",
      "photoUrl": "",
      "userId": "04799193853875039711"
     },
     "user_tz": 240
    },
    "id": "4M6r6-aMC4pD",
    "outputId": "b1c2f573-6d72-42ed-c48d-0240ccc51da2"
   },
   "outputs": [],
   "source": [
    "top15_bottom15_enroll = pd.concat([citiesDF[citiesDF['Applied']>20].sort_values(\"PercentEnrolled\",ascending=False).iloc[:15],\n",
    "          citiesDF[citiesDF['Applied']>20].sort_values(\"PercentEnrolled\",ascending=False).iloc[-15:]])\n",
    "\n",
    "\n",
    "alt.Chart(top15_bottom15_enroll).mark_bar().encode(\n",
    "    x='PercentEnrolled:Q',\n",
    "    y=alt.Y(\n",
    "        'City_perm_res:O',\n",
    "        sort = alt.EncodingSortField(\n",
    "                field='PercentEnrolled',\n",
    "                op = \"sum\",\n",
    "                order = \"descending\"\n",
    "        )\n",
    "    )\n",
    ").properties(height=400)"
   ]
  },
  {
   "cell_type": "markdown",
   "metadata": {
    "colab_type": "text",
    "id": "dveLiFSyTq1d"
   },
   "source": [
    "### Applied v. Attended"
   ]
  },
  {
   "cell_type": "code",
   "execution_count": null,
   "metadata": {
    "colab": {
     "base_uri": "https://localhost:8080/",
     "height": 0
    },
    "colab_type": "code",
    "executionInfo": {
     "elapsed": 102015,
     "status": "ok",
     "timestamp": 1559046976898,
     "user": {
      "displayName": "Spencer Tibbitts",
      "photoUrl": "",
      "userId": "04799193853875039711"
     },
     "user_tz": 240
    },
    "id": "ZCUiDMhrS-04",
    "outputId": "bc3095ab-eee3-42ca-f92e-2b2bd01b111c"
   },
   "outputs": [],
   "source": [
    "f, axes = plt.subplots(figsize=(10,6))\n",
    "sns.scatterplot(data = citiesDF, x=\"Applied\", y=\"Enrolled\");\n",
    "plt.title(\"Applied v. Attended\");"
   ]
  },
  {
   "cell_type": "markdown",
   "metadata": {
    "colab_type": "text",
    "id": "YDVZzprqKlN7"
   },
   "source": [
    "### By County"
   ]
  },
  {
   "cell_type": "code",
   "execution_count": null,
   "metadata": {
    "colab": {},
    "colab_type": "code",
    "id": "mop-uIqPHPEv"
   },
   "outputs": [],
   "source": [
    "countiesDF = data[data['Enrolled']].groupby([\"County_perm_res\",\n",
    "  \"State_perm_res\"]).count().sort_values(\"Unique_student_ID\",\n",
    "  ascending=False)[['Unique_student_ID']].rename(columns = {\"Unique_student_ID\":\"Enrolled\"})\n",
    "\n",
    "countiesDF = countiesDF.merge(\n",
    "    data.groupby([\"County_perm_res\",\"State_perm_res\"]).count().sort_values(\"Unique_student_ID\",\n",
    "    ascending=False)[['Unique_student_ID']].rename(columns = {\"Unique_student_ID\":\"Applied\"}),\n",
    "    left_index=True, right_index=True)\n",
    "\n",
    "countiesDF['PercentEnrolled'] = countiesDF['Enrolled']/countiesDF['Applied'] * 100\n",
    "\n",
    "countiesDF.reset_index(inplace=True)\n",
    "countiesDF = countiesDF.sort_values(\"Enrolled\",ascending=False)\n",
    "\n",
    "\n",
    "## convert county codes to names \n",
    "\n",
    "fips_codes = pd.read_csv('../data/processed/FIPS.csv')\n",
    "fips_codes.State + fips_codes.FIPS.astype(str)\n",
    "fips_codes['FIPS'] = (fips_codes['FIPS'] - np.floor(fips_codes['FIPS']/1000)*1000).astype(int).astype(str)\n",
    "fips_codes['FIPS'] = fips_codes['FIPS'].apply(lambda x: x.zfill(3))\n",
    "fips_codes['FIPS'] = fips_codes.State + fips_codes.FIPS\n",
    "\n",
    "mapper = fips_codes.set_index('FIPS')[['Name']].to_dict()['Name']\n",
    "countiesDF['County_perm_res'] = countiesDF['County_perm_res'].map(mapper)"
   ]
  },
  {
   "cell_type": "markdown",
   "metadata": {
    "colab_type": "text",
    "id": "CXeQTSquXyqP"
   },
   "source": [
    "#### Top Counties by Enrollment Total"
   ]
  },
  {
   "cell_type": "code",
   "execution_count": null,
   "metadata": {
    "colab": {
     "base_uri": "https://localhost:8080/",
     "height": 0
    },
    "colab_type": "code",
    "executionInfo": {
     "elapsed": 102327,
     "status": "ok",
     "timestamp": 1559046977226,
     "user": {
      "displayName": "Spencer Tibbitts",
      "photoUrl": "",
      "userId": "04799193853875039711"
     },
     "user_tz": 240
    },
    "id": "tfSaEiHtX2Gh",
    "outputId": "bb2e8617-a547-4c1e-b885-841e6643aa4f"
   },
   "outputs": [],
   "source": [
    "alt.Chart(countiesDF.iloc[:10]).mark_bar().encode(\n",
    "    x='Enrolled:Q',\n",
    "    y=alt.Y(\n",
    "        'County_perm_res:O',\n",
    "        sort = alt.EncodingSortField(\n",
    "                field='Enrolled',\n",
    "                op = \"sum\",\n",
    "                order = \"descending\"\n",
    "        )\n",
    "    )\n",
    ").properties(height=400)"
   ]
  },
  {
   "cell_type": "markdown",
   "metadata": {
    "colab_type": "text",
    "id": "EJ4M4MaOXXKC"
   },
   "source": [
    "#### Top Counties outside of NY by Enrollment Total"
   ]
  },
  {
   "cell_type": "code",
   "execution_count": null,
   "metadata": {
    "colab": {
     "base_uri": "https://localhost:8080/",
     "height": 0
    },
    "colab_type": "code",
    "executionInfo": {
     "elapsed": 102316,
     "status": "ok",
     "timestamp": 1559046977229,
     "user": {
      "displayName": "Spencer Tibbitts",
      "photoUrl": "",
      "userId": "04799193853875039711"
     },
     "user_tz": 240
    },
    "id": "fXmk-oC_XaoH",
    "outputId": "de718f23-b15f-450d-b1be-01a874cf3cf7"
   },
   "outputs": [],
   "source": [
    "alt.Chart(countiesDF[countiesDF[\"State_perm_res\"]!='NY'][:10]).mark_bar().encode(\n",
    "    x='Enrolled:Q',\n",
    "    y=alt.Y(\n",
    "        'County_perm_res:O',\n",
    "        sort = alt.EncodingSortField(\n",
    "                field='Enrolled',\n",
    "                op = \"sum\",\n",
    "                order = \"descending\"\n",
    "        )\n",
    "    )\n",
    ").properties(height=400)"
   ]
  },
  {
   "cell_type": "markdown",
   "metadata": {
    "colab_type": "text",
    "id": "v-YjRd4hU78n"
   },
   "source": [
    "#### Top/Bottom 15 Counties by Enrollment Percentage (min 20 applicants)"
   ]
  },
  {
   "cell_type": "code",
   "execution_count": null,
   "metadata": {
    "colab": {
     "base_uri": "https://localhost:8080/",
     "height": 0
    },
    "colab_type": "code",
    "executionInfo": {
     "elapsed": 102439,
     "status": "ok",
     "timestamp": 1559046977365,
     "user": {
      "displayName": "Spencer Tibbitts",
      "photoUrl": "",
      "userId": "04799193853875039711"
     },
     "user_tz": 240
    },
    "id": "bYHfjWpcQotD",
    "outputId": "cba7ca31-0462-4766-a122-53fc87394b45"
   },
   "outputs": [],
   "source": [
    "top15_bottom15_enroll = pd.concat([countiesDF[countiesDF['Applied']>20].sort_values(\"PercentEnrolled\",ascending=False).iloc[:15],\n",
    "          countiesDF[countiesDF['Applied']>20].sort_values(\"PercentEnrolled\",ascending=False).iloc[-15:]])\n",
    "\n",
    "\n",
    "alt.Chart(top15_bottom15_enroll).mark_bar().encode(\n",
    "    x='PercentEnrolled:Q',\n",
    "    y=alt.Y(\n",
    "        'County_perm_res:O',\n",
    "        sort = alt.EncodingSortField(\n",
    "                field='PercentEnrolled',\n",
    "                op = \"sum\",\n",
    "                order = \"descending\"\n",
    "        )\n",
    "    )\n",
    ").properties(height=400)"
   ]
  },
  {
   "cell_type": "markdown",
   "metadata": {
    "colab_type": "text",
    "id": "KF70xM1GX_m8"
   },
   "source": [
    "#### Applied v. Enrolled"
   ]
  },
  {
   "cell_type": "code",
   "execution_count": null,
   "metadata": {
    "colab": {
     "base_uri": "https://localhost:8080/",
     "height": 0
    },
    "colab_type": "code",
    "executionInfo": {
     "elapsed": 103049,
     "status": "ok",
     "timestamp": 1559046977991,
     "user": {
      "displayName": "Spencer Tibbitts",
      "photoUrl": "",
      "userId": "04799193853875039711"
     },
     "user_tz": 240
    },
    "id": "G3Ji2AupYBQr",
    "outputId": "7d1b56a7-b80e-4945-c5ec-a3319149e8e6"
   },
   "outputs": [],
   "source": [
    "f, axes = plt.subplots(figsize=(10,6))\n",
    "sns.scatterplot(data = countiesDF, x=\"Applied\", y=\"Enrolled\");\n",
    "plt.title(\"Applied v. Attended\");"
   ]
  },
  {
   "cell_type": "code",
   "execution_count": null,
   "metadata": {
    "colab": {},
    "colab_type": "code",
    "id": "IcIEQZIVEpNQ"
   },
   "outputs": [],
   "source": [
    "# data.groupby(\"City_perm_res\").count()[['Unique_student_ID','Enrolled']].sort_values(\"Unique_student_ID\",ascending=False)"
   ]
  },
  {
   "cell_type": "markdown",
   "metadata": {
    "colab_type": "text",
    "id": "0KDP6jPJmj5y"
   },
   "source": [
    "### By Ethnicity, and Income"
   ]
  },
  {
   "cell_type": "code",
   "execution_count": null,
   "metadata": {
    "colab": {},
    "colab_type": "code",
    "id": "pp_dAdSplu5F"
   },
   "outputs": [],
   "source": [
    "ethnicity_AGIDF = pd.merge(left=data[['Ethnicity','Parent_income_AGI']].groupby(\"Ethnicity\").mean(),\n",
    "  right=data[[\"Ethnicity\",\"Enrolled\",\"Unique_student_ID\"]].groupby(\"Ethnicity\").count(),\n",
    "          how='outer', left_index=True, right_index=True).rename(columns={\"Unique_student_ID\":\"TotApplicants\",\n",
    "                                                                         \"Parent_income_AGI\":\"AvgParent_income_AGI\"})\n",
    "ethnicity_AGIDF.reset_index(inplace=True)\n",
    "ethnicity_AGIDF = ethnicity_AGIDF.drop(7)"
   ]
  },
  {
   "cell_type": "markdown",
   "metadata": {
    "colab_type": "text",
    "id": "znOxW7INrqMe"
   },
   "source": [
    "#### Race v. Family Income"
   ]
  },
  {
   "cell_type": "code",
   "execution_count": null,
   "metadata": {
    "colab": {
     "base_uri": "https://localhost:8080/",
     "height": 0
    },
    "colab_type": "code",
    "executionInfo": {
     "elapsed": 103100,
     "status": "ok",
     "timestamp": 1559046978063,
     "user": {
      "displayName": "Spencer Tibbitts",
      "photoUrl": "",
      "userId": "04799193853875039711"
     },
     "user_tz": 240
    },
    "id": "MrWhWDRRprcd",
    "outputId": "a3a377cd-979a-4ced-d888-f3fb762ce56b"
   },
   "outputs": [],
   "source": [
    "alt.Chart(ethnicity_AGIDF).mark_bar().encode(\n",
    "    x='AvgParent_income_AGI:Q',\n",
    "    y=alt.Y(\n",
    "        'Ethnicity:O',\n",
    "        sort = alt.EncodingSortField(\n",
    "                field='AvgParent_income_AGI',\n",
    "                op = \"sum\",\n",
    "                order = \"descending\"\n",
    "        )\n",
    "    )\n",
    ").properties(height=400)"
   ]
  },
  {
   "cell_type": "code",
   "execution_count": null,
   "metadata": {
    "colab": {
     "base_uri": "https://localhost:8080/",
     "height": 0
    },
    "colab_type": "code",
    "executionInfo": {
     "elapsed": 103464,
     "status": "ok",
     "timestamp": 1559046978442,
     "user": {
      "displayName": "Spencer Tibbitts",
      "photoUrl": "",
      "userId": "04799193853875039711"
     },
     "user_tz": 240
    },
    "id": "FWxQV_4lrKcQ",
    "outputId": "8b15378c-d0f4-4957-a9fd-06be850458b0"
   },
   "outputs": [],
   "source": [
    "f, axes = plt.subplots(figsize=(10,7))\n",
    "sns.boxplot(data=data[data['Ethnicity']!='Unknown'],y=\"Ethnicity\",x=\"Parent_income_AGI\")\n",
    "plt.xlim(0,500000);"
   ]
  }
 ],
 "metadata": {
  "colab": {
   "name": "Admissions_Critical_Path.ipynb",
   "provenance": [],
   "version": "0.3.2"
  },
  "kernelspec": {
   "display_name": "Python 3",
   "language": "python",
   "name": "python3"
  },
  "language_info": {
   "codemirror_mode": {
    "name": "ipython",
    "version": 3
   },
   "file_extension": ".py",
   "mimetype": "text/x-python",
   "name": "python",
   "nbconvert_exporter": "python",
   "pygments_lexer": "ipython3",
   "version": "3.7.3"
  }
 },
 "nbformat": 4,
 "nbformat_minor": 4
}
