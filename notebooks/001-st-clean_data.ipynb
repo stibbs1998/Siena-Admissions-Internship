{
 "cells": [
  {
   "cell_type": "code",
   "execution_count": 69,
   "metadata": {},
   "outputs": [],
   "source": [
    "import pandas as pd\n",
    "import numpy as np\n",
    "import warnings\n",
    "warnings.filterwarnings('ignore')"
   ]
  },
  {
   "cell_type": "markdown",
   "metadata": {},
   "source": [
    "There is accurate data for `df['College_chosen_by_non-matrics']` for the last three years only."
   ]
  },
  {
   "cell_type": "code",
   "execution_count": 70,
   "metadata": {},
   "outputs": [],
   "source": [
    "df = pd.read_csv(\"../data/raw/CriticalPath_Data_EM_Confidential.csv\")\n",
    "_2017 = pd.read_csv('../data/raw/201730_Fresh_Not_Enrolled_College_Choice.csv').set_index(\"SARADAP_PIDM\")\n",
    "_2018 = pd.read_csv('../data/raw/201830_Fresh_Not_Enrolled_College_Choice.csv').set_index(\"SARADAP_PIDM\")\n",
    "_2019 = pd.read_csv('../data/raw/201930_Fresh_Not_Enrolled_College_Choice.csv').rename(columns={\"PIDM\":\"SARADAP_PIDM\"}).set_index(\"SARADAP_PIDM\")\n",
    "\n",
    "last_three_years_df = pd.concat([_2017,_2018,_2019])\n",
    "mapper = last_three_years_df.to_dict()\n",
    "\n",
    "df = df.drop(columns='College_chosen_by_non-matrics')\n",
    "df['College_chosen_by_non-matrics'] = df['Unique_student_ID'].map(mapper['CollegeName'])"
   ]
  },
  {
   "cell_type": "code",
   "execution_count": 71,
   "metadata": {},
   "outputs": [],
   "source": [
    "df['Enrolled'] = df['Enrolled'].map({80:True})\n",
    "df['Enrolled'] = df['Enrolled'].fillna(False)\n",
    "\n",
    "df = df[(df['Application_Type']!='AM') & (df['Application_Type']!='HE')]"
   ]
  },
  {
   "cell_type": "markdown",
   "metadata": {},
   "source": [
    "Get info for `object` types"
   ]
  },
  {
   "cell_type": "code",
   "execution_count": 72,
   "metadata": {},
   "outputs": [],
   "source": [
    "# df.select_dtypes('object').info()"
   ]
  },
  {
   "cell_type": "markdown",
   "metadata": {},
   "source": [
    "Info for `int` and `floats`"
   ]
  },
  {
   "cell_type": "code",
   "execution_count": 73,
   "metadata": {},
   "outputs": [],
   "source": [
    "# df.select_dtypes([int,float]).info()"
   ]
  },
  {
   "cell_type": "markdown",
   "metadata": {},
   "source": [
    "## Columns to dump as said by Ned:\n",
    "* tuition_waiver...\n",
    "* outside_aid - not aquired till late in the process\n",
    "* athletic_based_inst_aid\n",
    "* internal_academic_rating\n",
    "* deposit date"
   ]
  },
  {
   "cell_type": "code",
   "execution_count": 74,
   "metadata": {},
   "outputs": [],
   "source": [
    "df = df.drop(columns=['Tuition_waivers_and_exchanges','Outside_aid','Athletic_based_inst_aid','Internal_Academic_rating'])"
   ]
  },
  {
   "cell_type": "markdown",
   "metadata": {},
   "source": [
    "### Some columns are y/n, but the n values are `NaN's`. Fix this.\n",
    "\n",
    "* 'Ints' columns\n",
    "* Test_optional\n",
    "* Legacy $\\to$ there are many codes, all of which mean that in some way they have family that have attended here before."
   ]
  },
  {
   "cell_type": "code",
   "execution_count": 75,
   "metadata": {},
   "outputs": [],
   "source": [
    "for col in df.columns.values:\n",
    "    if col.startswith(\"Ints\"):\n",
    "        df[col] = df[col].map(dict(zip(df[col].unique(), [0,1])))"
   ]
  },
  {
   "cell_type": "code",
   "execution_count": 76,
   "metadata": {},
   "outputs": [],
   "source": [
    "# for i,col in enumerate(df.columns.values):\n",
    "#     print(col,df.count().values[i])"
   ]
  },
  {
   "cell_type": "markdown",
   "metadata": {},
   "source": [
    "### Dump all columns with less than 3,000 values.  These are all noise/for enrolled students ONLY"
   ]
  },
  {
   "cell_type": "code",
   "execution_count": 77,
   "metadata": {},
   "outputs": [],
   "source": [
    "df = df[df.columns.values[df.count()>3000]]"
   ]
  },
  {
   "cell_type": "markdown",
   "metadata": {},
   "source": [
    "### One hot-encode commuter/residence students."
   ]
  },
  {
   "cell_type": "code",
   "execution_count": 78,
   "metadata": {},
   "outputs": [],
   "source": [
    "df['COMM'] = pd.get_dummies(df['Dorm_or_commuter_student'])['COMM']\n",
    "df['RESD'] = pd.get_dummies(df['Dorm_or_commuter_student'])['RESD']"
   ]
  },
  {
   "cell_type": "markdown",
   "metadata": {},
   "source": [
    "### One hot-encode School of Science/Business/Arts"
   ]
  },
  {
   "cell_type": "code",
   "execution_count": 79,
   "metadata": {},
   "outputs": [],
   "source": [
    "df[['AD','BD','SD']] = pd.get_dummies(df['CollegeCode'])"
   ]
  },
  {
   "cell_type": "markdown",
   "metadata": {},
   "source": [
    "### One hot-encode HD_Academic_Rating"
   ]
  },
  {
   "cell_type": "code",
   "execution_count": 80,
   "metadata": {},
   "outputs": [],
   "source": [
    "df[['AR1','AR1B','AR2','AR3','AR4','AR5']] = pd.get_dummies(df['HD_Academic_Rating']).drop(columns=['7','722','ARX'])"
   ]
  },
  {
   "cell_type": "markdown",
   "metadata": {},
   "source": [
    "### Make `Test_Optional` a bool type"
   ]
  },
  {
   "cell_type": "code",
   "execution_count": 86,
   "metadata": {},
   "outputs": [],
   "source": [
    "df['Test_Optional'] = df['Test_Optional'].map({'TOPT':True})\n",
    "df['Test_Optional'] = df['Test_Optional'].fillna(False)"
   ]
  },
  {
   "cell_type": "markdown",
   "metadata": {},
   "source": [
    "### Drop One hot-encoded columns (originals)"
   ]
  },
  {
   "cell_type": "code",
   "execution_count": 89,
   "metadata": {},
   "outputs": [],
   "source": [
    "df = df.drop(columns=['Dorm_or_commuter_student','CollegeCode','HD_Academic_Rating'])"
   ]
  },
  {
   "cell_type": "markdown",
   "metadata": {},
   "source": [
    "### These columns repeat information we know"
   ]
  },
  {
   "cell_type": "code",
   "execution_count": 100,
   "metadata": {},
   "outputs": [],
   "source": [
    "df =  df.drop(columns=['Admission_status','HS_Numeric_rank'])"
   ]
  },
  {
   "cell_type": "markdown",
   "metadata": {},
   "source": [
    "### Make legacy students a T/F"
   ]
  },
  {
   "cell_type": "code",
   "execution_count": 109,
   "metadata": {},
   "outputs": [],
   "source": [
    "df['Legacy'] = ~df['Legacy'].isnull().astype(int) + 2  # any legacy student is assigned a 1, otherwise a 0"
   ]
  },
  {
   "cell_type": "markdown",
   "metadata": {},
   "source": [
    "### One hot-encode Ethnicity"
   ]
  },
  {
   "cell_type": "code",
   "execution_count": 113,
   "metadata": {},
   "outputs": [],
   "source": [
    "df[df['Ethnicity'].unique()] = pd.get_dummies(df['Ethnicity'])"
   ]
  },
  {
   "cell_type": "code",
   "execution_count": 116,
   "metadata": {},
   "outputs": [],
   "source": [
    "df = df.drop(columns='Unknown').rename(columns={\"Multiple\":\"Multiple_races\"})"
   ]
  },
  {
   "cell_type": "code",
   "execution_count": 149,
   "metadata": {},
   "outputs": [],
   "source": [
    "# df.select_dtypes(exclude='object').info()"
   ]
  },
  {
   "cell_type": "markdown",
   "metadata": {},
   "source": [
    "### Write to file"
   ]
  },
  {
   "cell_type": "code",
   "execution_count": 147,
   "metadata": {},
   "outputs": [],
   "source": [
    "df.to_csv('../data/interim/Third_order_clean_confidential.csv')"
   ]
  }
 ],
 "metadata": {
  "kernelspec": {
   "display_name": "Python 3",
   "language": "python",
   "name": "python3"
  },
  "language_info": {
   "codemirror_mode": {
    "name": "ipython",
    "version": 3
   },
   "file_extension": ".py",
   "mimetype": "text/x-python",
   "name": "python",
   "nbconvert_exporter": "python",
   "pygments_lexer": "ipython3",
   "version": "3.7.3"
  }
 },
 "nbformat": 4,
 "nbformat_minor": 4
}
