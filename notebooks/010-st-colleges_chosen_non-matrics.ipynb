{
 "cells": [
  {
   "cell_type": "markdown",
   "metadata": {},
   "source": [
    "## Import Libraries and Load in Files"
   ]
  },
  {
   "cell_type": "code",
   "execution_count": null,
   "metadata": {},
   "outputs": [],
   "source": [
    "import numpy as np\n",
    "import pandas as pd\n",
    "import seaborn as sns\n",
    "import altair as alt\n",
    "import matplotlib.pyplot as plt\n",
    "import warnings\n",
    "import folium\n",
    "warnings.filterwarnings('ignore')"
   ]
  },
  {
   "cell_type": "code",
   "execution_count": null,
   "metadata": {},
   "outputs": [],
   "source": [
    "filename = '../data/processed/CriticalPath_Data_EM_Confidential_lessNoise.csv'\n",
    "\n",
    "data = pd.read_csv(filename)"
   ]
  },
  {
   "cell_type": "code",
   "execution_count": null,
   "metadata": {},
   "outputs": [],
   "source": [
    "filename =  '../data/processed/collegeCEEBS.xlsx'\n",
    "college_codes = pd.read_excel(filename)"
   ]
  },
  {
   "cell_type": "markdown",
   "metadata": {},
   "source": [
    "## Apply College Codes to data\n",
    "College CEEB Codes found [here](https://help.liaisonedu.com/WebAdMIT_Help_Center/Documents_and_Reference_Guides/Master_College_Code_List)\n"
   ]
  },
  {
   "cell_type": "code",
   "execution_count": null,
   "metadata": {},
   "outputs": [],
   "source": [
    "mapper = college_codes[~college_codes['CEEB Code'].isnull()][['Name']]\n",
    "mapper.index = college_codes[~college_codes['CEEB Code'].isnull()].index = college_codes[~college_codes['CEEB Code'].isnull()]['CEEB Code'].astype(float)\n",
    "mapper = mapper.to_dict()"
   ]
  },
  {
   "cell_type": "code",
   "execution_count": null,
   "metadata": {},
   "outputs": [],
   "source": [
    "college_by_major = data[['College_chosen_by_non-matrics','Major','Unique_student_ID']]\n",
    "college_by_major['College_chosen_by_non-matrics'] = college_by_major['College_chosen_by_non-matrics'].map(mapper['Name'])\n",
    "college_by_major = college_by_major[~college_by_major['College_chosen_by_non-matrics'].isnull()]\n",
    "\n",
    "college_by_major = college_by_major.groupby([\"College_chosen_by_non-matrics\",\n",
    "                                              \"Major\"]).count().rename(columns={\"Unique_student_ID\":\"Num Students\"})\n",
    "college_by_major = college_by_major.reset_index()"
   ]
  },
  {
   "cell_type": "markdown",
   "metadata": {},
   "source": [
    "## Breakdown of students choosing UAlbany over Siena by major"
   ]
  },
  {
   "cell_type": "code",
   "execution_count": null,
   "metadata": {},
   "outputs": [],
   "source": [
    "alt.Chart(college_by_major[college_by_major['College_chosen_by_non-matrics']=='UNIVERSITY AT ALBANY']).mark_bar().encode(\n",
    "    x='Num Students:Q',\n",
    "    y=alt.Y(\n",
    "        'Major:O',\n",
    "        sort = alt.EncodingSortField(\n",
    "                field='Num Students',\n",
    "                op = \"sum\",\n",
    "                order = \"descending\"\n",
    "        )\n",
    "    )\n",
    ").properties(height=400)"
   ]
  },
  {
   "cell_type": "markdown",
   "metadata": {},
   "source": [
    "## Top 30 Schools chosen by students over Siena College"
   ]
  },
  {
   "cell_type": "code",
   "execution_count": null,
   "metadata": {},
   "outputs": [],
   "source": [
    "alt.Chart(college_by_major.groupby(\"College_chosen_by_non-matrics\").sum().reset_index(\n",
    ").sort_values(\"Num Students\",ascending=False).iloc[:30]).mark_bar().encode(\n",
    "    x='Num Students:Q',\n",
    "    y=alt.Y(\n",
    "        'College_chosen_by_non-matrics:O',\n",
    "        sort = alt.EncodingSortField(\n",
    "                field='Num Students',\n",
    "                op = \"sum\",\n",
    "                order = \"descending\"\n",
    "        )\n",
    "    )\n",
    ").properties(height=400,width=400)"
   ]
  },
  {
   "cell_type": "markdown",
   "metadata": {},
   "source": [
    "## Breakdown of students going to other schools by major."
   ]
  },
  {
   "cell_type": "code",
   "execution_count": null,
   "metadata": {},
   "outputs": [],
   "source": [
    "alt.Chart(college_by_major.groupby(\"Major\").sum().reset_index(\n",
    ").sort_values(\"Num Students\",ascending=False).iloc[:30]).mark_bar().encode(\n",
    "    x='Num Students:Q',\n",
    "    y=alt.Y(\n",
    "        'Major:O',\n",
    "        sort = alt.EncodingSortField(\n",
    "                field='Num Students',\n",
    "                op = \"sum\",\n",
    "                order = \"descending\"\n",
    "        )\n",
    "    )\n",
    ").properties(height=400,width=400)"
   ]
  },
  {
   "cell_type": "markdown",
   "metadata": {},
   "source": [
    "## By intent to enroll in SOS, SOB, or SOA, where do students choose to go over Siena?"
   ]
  },
  {
   "cell_type": "code",
   "execution_count": null,
   "metadata": {},
   "outputs": [],
   "source": [
    "college_by_school = data[['College_chosen_by_non-matrics','CollegeCode','Unique_student_ID']]\n",
    "college_by_school['College_chosen_by_non-matrics'] = college_by_school['College_chosen_by_non-matrics'].map(mapper['Name'])\n",
    "college_by_school = college_by_school[~college_by_school['College_chosen_by_non-matrics'].isnull()]\n",
    "\n",
    "college_by_school = college_by_school.groupby([\"College_chosen_by_non-matrics\",\n",
    "                                              \"CollegeCode\"]).count().rename(columns={\"Unique_student_ID\":\"Num Students\"})\n",
    "college_by_school = college_by_school.reset_index().rename(columns={\"CollegeCode\":\"School\"})\n",
    "college_by_school['School'] = college_by_school['School'].map({\"AD\":\"School of Art\",\"BD\":\"School of Business\",\"SD\":\"School of Science\"})"
   ]
  },
  {
   "cell_type": "code",
   "execution_count": null,
   "metadata": {},
   "outputs": [],
   "source": [
    "num_colleges = 30\n",
    "height = 500\n",
    "width = 300\n",
    "\n",
    "top_choices = college_by_major.groupby(\"College_chosen_by_non-matrics\").sum().sort_values(\"Num Students\",\n",
    "                                                        ascending=False).iloc[:num_colleges].index.values\n",
    "\n",
    "bars = alt.Chart(college_by_school.set_index(\"College_chosen_by_non-matrics\").loc[top_choices].reset_index()).mark_bar().encode(\n",
    "    x=alt.X('Num Students:Q', stack='zero'),\n",
    "    y=alt.Y('College_chosen_by_non-matrics:O',axis=alt.Axis(title='')),\n",
    "    color=alt.Color('School')\n",
    ").properties(height=height,width=width,title=\"Colleges Chosen by intended School at Siena\")\n",
    "\n",
    "text = alt.Chart(college_by_school.set_index(\"College_chosen_by_non-matrics\").loc[top_choices].reset_index()).mark_text(\n",
    "    dx=-6, dy=3, color='white').encode(\n",
    "    x=alt.X('Num Students:Q', stack='zero'),\n",
    "    y=alt.Y('College_chosen_by_non-matrics:O'),\n",
    "    detail='School:O',\n",
    "    text=alt.Text('Num Students:Q', format='.0f')\n",
    ").properties(height=height,width=width)\n",
    "\n",
    "bars + text"
   ]
  },
  {
   "cell_type": "markdown",
   "metadata": {},
   "source": [
    "## How does this look by Major??"
   ]
  },
  {
   "cell_type": "code",
   "execution_count": null,
   "metadata": {},
   "outputs": [],
   "source": [
    "# num_colleges = 30\n",
    "\n",
    "# top_choices = college_by_major.groupby(\"College_chosen_by_non-matrics\").sum().sort_values(\"Num Students\",\n",
    "#                                                         ascending=False).iloc[:num_colleges].index.values\n",
    "\n",
    "# bars = alt.Chart(college_by_major.set_index(\"College_chosen_by_non-matrics\").loc[top_choices].reset_index()).mark_bar().encode(\n",
    "#     x=alt.X('Num Students:Q', stack='zero'),\n",
    "#     y=alt.Y('College_chosen_by_non-matrics:O'),\n",
    "#     color=alt.Color('Major')\n",
    "# )\n",
    "\n",
    "# bars"
   ]
  },
  {
   "cell_type": "markdown",
   "metadata": {},
   "source": [
    "## Where do undeclared liberal arts majors go??"
   ]
  },
  {
   "cell_type": "code",
   "execution_count": null,
   "metadata": {},
   "outputs": [],
   "source": [
    "alt.Chart(college_by_major[college_by_major['Major']=='UNAR'].groupby(\n",
    "    \"College_chosen_by_non-matrics\").sum().reset_index(\n",
    ").sort_values(\"Num Students\",ascending=False).iloc[:30]).mark_bar().encode(\n",
    "    x='Num Students:Q',\n",
    "    y=alt.Y(\n",
    "        'College_chosen_by_non-matrics:O',\n",
    "        sort = alt.EncodingSortField(\n",
    "                field='Num Students',\n",
    "                op = \"sum\",\n",
    "                order = \"descending\"\n",
    "        )\n",
    "    )\n",
    ").properties(height=400,width=400,title='Colleges Chosen by UNAR Majors')"
   ]
  },
  {
   "cell_type": "code",
   "execution_count": null,
   "metadata": {},
   "outputs": [],
   "source": []
  }
 ],
 "metadata": {
  "kernelspec": {
   "display_name": "Python 3",
   "language": "python",
   "name": "python3"
  },
  "language_info": {
   "codemirror_mode": {
    "name": "ipython",
    "version": 3
   },
   "file_extension": ".py",
   "mimetype": "text/x-python",
   "name": "python",
   "nbconvert_exporter": "python",
   "pygments_lexer": "ipython3",
   "version": "3.7.3"
  }
 },
 "nbformat": 4,
 "nbformat_minor": 4
}
