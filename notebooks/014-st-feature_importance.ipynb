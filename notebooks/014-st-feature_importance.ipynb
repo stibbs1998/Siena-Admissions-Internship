{
 "cells": [
  {
   "cell_type": "code",
   "execution_count": 2,
   "metadata": {},
   "outputs": [],
   "source": [
    "import numpy as np\n",
    "import seaborn as sns\n",
    "import matplotlib.pyplot as plt\n",
    "import pandas as pd\n",
    "import os\n",
    "import sys\n",
    "import xgboost as xgb\n",
    "import shap\n",
    "from sklearn.model_selection import train_test_split, GridSearchCV\n",
    "from sklearn.metrics import r2_score, auc, f1_score\n",
    "\n",
    "import warnings\n",
    "warnings.filterwarnings('ignore')\n",
    "\n",
    "sys.path.insert(0, '../src/visualization/')\n",
    "import visualize as vis"
   ]
  },
  {
   "cell_type": "code",
   "execution_count": 3,
   "metadata": {},
   "outputs": [],
   "source": [
    "df = pd.read_csv('../data/processed/CriticalPath_Data_EM_Confidential_lessNoise.csv').drop(columns=['Unnamed: 0'])"
   ]
  },
  {
   "cell_type": "markdown",
   "metadata": {},
   "source": [
    "## XGBoost Model to see which features most impact enrollment."
   ]
  },
  {
   "cell_type": "markdown",
   "metadata": {},
   "source": [
    "### Starting Parameters"
   ]
  },
  {
   "cell_type": "markdown",
   "metadata": {},
   "source": [
    "## Split into training and test data, and fit a regression model."
   ]
  },
  {
   "cell_type": "code",
   "execution_count": 4,
   "metadata": {},
   "outputs": [],
   "source": [
    "X = df.drop(columns=['Enrolled','Admission_status',\n",
    "                     'Unique_student_ID']).select_dtypes([float,bool,int]).fillna(-999)\n",
    "\n",
    "Y = df['Enrolled'].fillna(-999)\n",
    "\n",
    "\n",
    "X_train, X_test, y_train, y_test = train_test_split(X, Y)"
   ]
  },
  {
   "cell_type": "code",
   "execution_count": null,
   "metadata": {},
   "outputs": [],
   "source": [
    "model = xgb.XGBRegressor()\n",
    "model.fit(X_train, y_train)\n",
    "y_pred = model.predict(X_test)\n",
    "\n",
    "print( \"R2 Score: \", r2_score(y_test, y_pred) )"
   ]
  },
  {
   "cell_type": "markdown",
   "metadata": {},
   "source": [
    "## Try to find best parameters"
   ]
  },
  {
   "cell_type": "code",
   "execution_count": 10,
   "metadata": {},
   "outputs": [],
   "source": [
    "# #brute force scan for all parameters, here are the tricks\n",
    "# #usually max_depth is 6,7,8\n",
    "# #learning rate is around 0.05, but small changes may make big diff\n",
    "# #tuning min_child_weight subsample colsample_bytree can have \n",
    "# #much fun of fighting against overfit \n",
    "# #n_estimators is how many round of boosting\n",
    "# #finally, ensemble xgboost with multiple seeds may reduce variance\n",
    "\n",
    "# xgb_model = xgb.XGBRegressor()\n",
    "\n",
    "# parameters = {'nthread':[4], #when use hyperthread, xgboost may become slower\n",
    "#               'learning_rate': [.001, 0.05, .01], #so called `eta` value\n",
    "#               'max_depth': [2, 5, 10, 20],\n",
    "#               'min_child_weight': [11],\n",
    "#               'silent': [1],\n",
    "#               'subsample': [.2, .5, 0.8],\n",
    "#               'colsample_bytree': [.2, .5, 0.8],\n",
    "#               'n_estimators': [5, 50, 500], #number of trees, change it to 1000 for better results\n",
    "#               'missing':[-999],\n",
    "#               'seed': [42]}\n",
    "\n",
    "\n",
    "# clf = GridSearchCV(xgb_model, parameters, n_jobs=6, \n",
    "#                    cv=5, verbose=2, refit=True)"
   ]
  },
  {
   "cell_type": "code",
   "execution_count": 11,
   "metadata": {},
   "outputs": [],
   "source": [
    "# %%time\n",
    "# clf.fit(X_train, y_train)"
   ]
  },
  {
   "cell_type": "markdown",
   "metadata": {},
   "source": [
    "## Plot feature importance"
   ]
  },
  {
   "cell_type": "code",
   "execution_count": null,
   "metadata": {},
   "outputs": [],
   "source": [
    "print(model.feature_importances_)"
   ]
  },
  {
   "cell_type": "code",
   "execution_count": null,
   "metadata": {},
   "outputs": [],
   "source": [
    "vis.my_plot_importance(model,figsize=(6,10));\n",
    "plt.savefig(\"../reports/figures/feature_importance/feature_importance.png\")"
   ]
  },
  {
   "cell_type": "markdown",
   "metadata": {},
   "source": [
    "## Plot shapley values.\n",
    "* *An intuitive way to understand the Shapley value is the following illustration: The feature values enter a room in random order. All feature values in the room participate in the game (= contribute to the prediction). The Shapley value of a feature value is the average change in the prediction that the coalition already in the room receives when the feature value joins them.*\n",
    " \n",
    "* *The interpretation of the Shapley value is: Given the current set of feature values, the contribution of a feature value to the difference between the actual prediction and the mean prediction is the estimated Shapley value.*\n",
    "\n",
    "\n",
    "\n",
    "\n",
    "\n",
    "[cristophm.gihub.io](https://christophm.github.io/interpretable-ml-book/shapley.html):"
   ]
  },
  {
   "cell_type": "code",
   "execution_count": null,
   "metadata": {},
   "outputs": [],
   "source": [
    "shap.initjs()\n",
    "# explain the model's predictions using SHAP values\n",
    "explainer = shap.TreeExplainer(model)\n",
    "shap_values = explainer.shap_values(X)"
   ]
  },
  {
   "cell_type": "code",
   "execution_count": null,
   "metadata": {},
   "outputs": [],
   "source": [
    "sum_plot = shap.summary_plot(shap_values, X, max_display=10, show=False,\n",
    "                  plot_type='dot')\n",
    "plt.savefig(\"../reports/figures/feature_importance/shapley_summary.png\")"
   ]
  },
  {
   "cell_type": "markdown",
   "metadata": {},
   "source": [
    "## Plot this as a bar chart."
   ]
  },
  {
   "cell_type": "code",
   "execution_count": null,
   "metadata": {},
   "outputs": [],
   "source": [
    "shap.summary_plot(shap_values, X, max_display=10, show=False,\n",
    "                  plot_type='bar')\n",
    "plt.savefig(\"../reports/figures/feature_importance/shapley_summary_bar.png\")"
   ]
  },
  {
   "cell_type": "markdown",
   "metadata": {},
   "source": [
    "## Individual features.\n",
    "\n",
    "#### X axis is feature value\n",
    "#### Y axis is the associated shapley value (ouput impact)\n",
    "\n",
    "#### Red/Blue is a value of potential interaction effect"
   ]
  },
  {
   "cell_type": "code",
   "execution_count": null,
   "metadata": {},
   "outputs": [],
   "source": [
    "for feature in [\"Merit_based_inst_aid\",\"TotalWeight\",\n",
    "               \"Tuition_waivers_and_exchanges\",\"WeightatAcpt\", \n",
    "                \"Athletic_based_inst_aid\",\"HS_Percentile_rank\",\n",
    "                \"Loan_need_based\",\"State_grants\",\n",
    "               \"College_chosen_by_non-matrics\",\"HSCEEB\"]:\n",
    "    \n",
    "#     print(feature)\n",
    "    plt.figure()\n",
    "    shap.dependence_plot(feature, shap_values, X,show=False)\n",
    "    plt.savefig(\"../reports/figures/feature_importance/individual_feature-%s.png\" % feature)    "
   ]
  }
 ],
 "metadata": {
  "kernelspec": {
   "display_name": "Python 3",
   "language": "python",
   "name": "python3"
  },
  "language_info": {
   "codemirror_mode": {
    "name": "ipython",
    "version": 3
   },
   "file_extension": ".py",
   "mimetype": "text/x-python",
   "name": "python",
   "nbconvert_exporter": "python",
   "pygments_lexer": "ipython3",
   "version": "3.7.3"
  }
 },
 "nbformat": 4,
 "nbformat_minor": 4
}
