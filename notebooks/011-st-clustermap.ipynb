{
 "cells": [
  {
   "cell_type": "markdown",
   "metadata": {},
   "source": [
    "## Import libraries"
   ]
  },
  {
   "cell_type": "code",
   "execution_count": null,
   "metadata": {},
   "outputs": [],
   "source": [
    "import numpy as np\n",
    "import pandas as pd\n",
    "import seaborn as sns\n",
    "import altair as alt\n",
    "alt.renderers.enable('notebook')\n",
    "\n",
    "import matplotlib.pyplot as plt\n",
    "import warnings\n",
    "import folium\n",
    "warnings.filterwarnings('ignore')"
   ]
  },
  {
   "cell_type": "code",
   "execution_count": null,
   "metadata": {},
   "outputs": [],
   "source": [
    "filename = '../data/processed/CriticalPath_Data_EM_Confidential_lessNoise.csv'\n",
    "\n",
    "df = pd.read_csv(filename).drop(columns=['Unnamed: 0'])\n",
    "# df['Enrolled'] = df['Enrolled'].map({80:True})\n",
    "# df['Enrolled'] = df['Enrolled'].fillna(False)"
   ]
  },
  {
   "cell_type": "markdown",
   "metadata": {},
   "source": [
    "## Create a clustermap from the Shadow Matrix"
   ]
  },
  {
   "cell_type": "code",
   "execution_count": null,
   "metadata": {},
   "outputs": [],
   "source": [
    "M = df.isnull().astype(int)\n",
    "cols = M.std()==0\n",
    "shadow_matrix = M[list(M.columns[~cols])]\n",
    "\n",
    "clustergrid = sns.clustermap(shadow_matrix.corr(),figsize=(7,7),cmap='coolwarm');"
   ]
  },
  {
   "cell_type": "markdown",
   "metadata": {},
   "source": [
    "## Do this by year\n",
    "This appears to have little to no effect."
   ]
  },
  {
   "cell_type": "code",
   "execution_count": null,
   "metadata": {},
   "outputs": [],
   "source": [
    "for year in [201930,201830,201730,201630]:\n",
    "        \n",
    "    M = df[df['Year_of_entry']==year].isnull().astype(int)\n",
    "    cols = M.std()==0\n",
    "    shadow_matrix = M[list(M.columns[~cols])]\n",
    "\n",
    "    f, axes = plt.subplots(figsize=(10,6))\n",
    "    \n",
    "    plt.title(year)\n",
    "    clustergrid = sns.heatmap(shadow_matrix.corr(),cmap='coolwarm');\n",
    "    "
   ]
  },
  {
   "cell_type": "markdown",
   "metadata": {},
   "source": [
    "# Create a Clustermap of the actual data."
   ]
  },
  {
   "cell_type": "code",
   "execution_count": null,
   "metadata": {},
   "outputs": [],
   "source": [
    "M = df.select_dtypes([int,float,bool])\n",
    "M = M.fillna(-999)\n",
    "clustergrid = sns.clustermap(M.corr(),figsize=(14,14),cmap='coolwarm');"
   ]
  }
 ],
 "metadata": {
  "kernelspec": {
   "display_name": "Python 3",
   "language": "python",
   "name": "python3"
  },
  "language_info": {
   "codemirror_mode": {
    "name": "ipython",
    "version": 3
   },
   "file_extension": ".py",
   "mimetype": "text/x-python",
   "name": "python",
   "nbconvert_exporter": "python",
   "pygments_lexer": "ipython3",
   "version": "3.7.3"
  }
 },
 "nbformat": 4,
 "nbformat_minor": 4
}
