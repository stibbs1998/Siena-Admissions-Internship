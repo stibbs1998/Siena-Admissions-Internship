{
 "cells": [
  {
   "cell_type": "markdown",
   "metadata": {},
   "source": [
    "### Clustermap\n",
    "\n",
    "In this file, we are trying to establish an idea of how data is entered.  More specifically, we want to see if there is any correlation between missing/present data values between variables.  While some of these relationships are obvious (i.e. if `SAT_reading` is present, so is `SAT_math`) there might be others we wouldn't have thought of otherwise."
   ]
  },
  {
   "cell_type": "markdown",
   "metadata": {},
   "source": [
    "Import necessary libraries."
   ]
  },
  {
   "cell_type": "code",
   "execution_count": null,
   "metadata": {},
   "outputs": [],
   "source": [
    "import numpy as np\n",
    "import pandas as pd\n",
    "import seaborn as sns\n",
    "import altair as alt\n",
    "# alt.renderers.enable('notebook')\n",
    "\n",
    "import matplotlib.pyplot as plt\n",
    "import warnings\n",
    "import folium\n",
    "warnings.filterwarnings('ignore')"
   ]
  },
  {
   "cell_type": "markdown",
   "metadata": {},
   "source": [
    "Read in the .csv file as a DataFrame."
   ]
  },
  {
   "cell_type": "code",
   "execution_count": null,
   "metadata": {},
   "outputs": [],
   "source": [
    "filename = '../data/processed/CriticalPath_Data_EM_Confidential_lessNoise.csv'\n",
    "\n",
    "df = pd.read_csv(filename).drop(columns=['Unnamed: 0'])"
   ]
  },
  {
   "cell_type": "markdown",
   "metadata": {},
   "source": [
    "First, we construct the shadow matrix (`M`) of the data.  That is, we construct a matrix with the same dimensions as the orginal data set made up of only 1's and 0's.  We place a 0 where there is a missing entry in the data, and place 1's everywhere else.\n",
    "\n",
    "From there, we only take on the columns that have a standard deviation $\\neq$ 0, in order to compute the correlation matrix.  We can use `sns.clustermap()` to plot an organized heatmap of the data in order to highlight areas of high and low correlation."
   ]
  },
  {
   "cell_type": "code",
   "execution_count": null,
   "metadata": {},
   "outputs": [],
   "source": [
    "M = df.isnull().astype(int)\n",
    "cols = M.std()==0\n",
    "shadow_matrix = M[list(M.columns[~cols])]\n",
    "\n",
    "clustergrid = sns.clustermap(shadow_matrix.corr(),figsize=(7,7),cmap='coolwarm');"
   ]
  },
  {
   "cell_type": "markdown",
   "metadata": {},
   "source": [
    "We can then do this year-by-year as well.  This appears to have little to no effect on the resulting matrix."
   ]
  },
  {
   "cell_type": "code",
   "execution_count": null,
   "metadata": {},
   "outputs": [],
   "source": [
    "for year in [201930,201830,201730,201630]:\n",
    "        \n",
    "    M = df[df['Year_of_entry']==year].isnull().astype(int)\n",
    "    cols = M.std()==0\n",
    "    shadow_matrix = M[list(M.columns[~cols])]\n",
    "\n",
    "    f, axes = plt.subplots(figsize=(10,6))\n",
    "    \n",
    "    plt.title(year)\n",
    "    clustergrid = sns.heatmap(shadow_matrix.corr(),cmap='coolwarm');"
   ]
  },
  {
   "cell_type": "markdown",
   "metadata": {},
   "source": [
    "We can also do this with the actual dataset, and see if there exists a relationship between the actual data values.  In theory, this should map up pretty closely with the coorelation matrix generated from the shadow matrix, since if data is entered together they are most likely related."
   ]
  },
  {
   "cell_type": "code",
   "execution_count": null,
   "metadata": {},
   "outputs": [],
   "source": [
    "M = df.select_dtypes(exclude=['object']) # all numeric\n",
    "M = M.fillna(-999)\n",
    "clustergrid = sns.clustermap(M.corr(),figsize=(14,14),cmap='coolwarm');"
   ]
  }
 ],
 "metadata": {
  "kernelspec": {
   "display_name": "Python 3",
   "language": "python",
   "name": "python3"
  },
  "language_info": {
   "codemirror_mode": {
    "name": "ipython",
    "version": 3
   },
   "file_extension": ".py",
   "mimetype": "text/x-python",
   "name": "python",
   "nbconvert_exporter": "python",
   "pygments_lexer": "ipython3",
   "version": "3.7.3"
  }
 },
 "nbformat": 4,
 "nbformat_minor": 4
}
