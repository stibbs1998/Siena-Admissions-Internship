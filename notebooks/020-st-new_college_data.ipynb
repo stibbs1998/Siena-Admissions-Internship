{
 "cells": [
  {
   "cell_type": "markdown",
   "metadata": {},
   "source": [
    "##  This file contains info for the other schools students attend besides Siena College in the last **3** years"
   ]
  },
  {
   "cell_type": "code",
   "execution_count": null,
   "metadata": {},
   "outputs": [],
   "source": [
    "import numpy as np\n",
    "import seaborn as sns\n",
    "import matplotlib.pyplot as plt\n",
    "import pandas as pd\n",
    "import os\n",
    "import sys\n",
    "import xgboost as xgb\n",
    "import shap\n",
    "import altair as alt\n",
    "from sklearn.model_selection import train_test_split, GridSearchCV\n",
    "from sklearn.metrics import r2_score, auc, f1_score, explained_variance_score\n",
    "\n",
    "\n",
    "import warnings\n",
    "warnings.filterwarnings('ignore')\n",
    "\n",
    "sys.path.insert(0, '../src/visualization/')\n",
    "import visualize as vis"
   ]
  },
  {
   "cell_type": "markdown",
   "metadata": {},
   "source": [
    "### Load college code converters and insert them into the data frame."
   ]
  },
  {
   "cell_type": "code",
   "execution_count": null,
   "metadata": {},
   "outputs": [],
   "source": [
    "df = pd.read_csv('../data/processed/CriticalPath_Data_EM_Confidential_lessNoise.csv').drop(columns='Unnamed: 0')\n",
    "\n",
    "_2017 = pd.read_csv('../data/raw/201730_Fresh_Not_Enrolled_College_Choice.csv').set_index(\"SARADAP_PIDM\")\n",
    "_2018 = pd.read_csv('../data/raw/201830_Fresh_Not_Enrolled_College_Choice.csv').set_index(\"SARADAP_PIDM\")\n",
    "_2019 = pd.read_csv('../data/raw/201930_Fresh_Not_Enrolled_College_Choice.csv').rename(columns={\"PIDM\":\"SARADAP_PIDM\"}).set_index(\"SARADAP_PIDM\")\n",
    "\n",
    "last_three_years_df = pd.concat([_2017,_2018,_2019])\n",
    "mapper = last_three_years_df.to_dict()\n",
    "\n",
    "df = df.drop(columns='College_chosen_by_non-matrics')\n",
    "df['College_chosen_by_non-matrics'] = df['Unique_student_ID'].map(mapper['CollegeName'])"
   ]
  },
  {
   "cell_type": "markdown",
   "metadata": {},
   "source": [
    "### Visualizations"
   ]
  },
  {
   "cell_type": "code",
   "execution_count": null,
   "metadata": {},
   "outputs": [],
   "source": [
    "college_by_major = df[['College_chosen_by_non-matrics','Major','Unique_student_ID']]\n",
    "college_by_major = college_by_major[~college_by_major['College_chosen_by_non-matrics'].isnull()]\n",
    "\n",
    "college_by_major = college_by_major.groupby([\"College_chosen_by_non-matrics\",\n",
    "                                              \"Major\"]).count().rename(columns={\"Unique_student_ID\":\"Num Students\"})\n",
    "college_by_major = college_by_major.reset_index()"
   ]
  },
  {
   "cell_type": "markdown",
   "metadata": {},
   "source": [
    "### Breakdown of kids who choose UAlbany over Siena by Major"
   ]
  },
  {
   "cell_type": "code",
   "execution_count": null,
   "metadata": {},
   "outputs": [],
   "source": [
    "alt.Chart(college_by_major[college_by_major['College_chosen_by_non-matrics']=='SUNY UNIVERSITY AT ALBANY']).mark_bar().encode(\n",
    "    x='Num Students:Q',\n",
    "    y=alt.Y(\n",
    "        'Major:O',\n",
    "        sort = alt.EncodingSortField(\n",
    "                field='Num Students',\n",
    "                op = \"sum\",\n",
    "                order = \"descending\"\n",
    "        )\n",
    "    )\n",
    ").properties(height=400,title='Applicants who go to UAlbany instead of Siena: Last 3 Years')"
   ]
  },
  {
   "cell_type": "markdown",
   "metadata": {},
   "source": [
    "### Kids who go to other schools by major."
   ]
  },
  {
   "cell_type": "code",
   "execution_count": null,
   "metadata": {},
   "outputs": [],
   "source": [
    "alt.Chart(college_by_major.groupby(\"Major\").sum().reset_index(\n",
    ").sort_values(\"Num Students\",ascending=False).iloc[:30]).mark_bar().encode(\n",
    "    x='Num Students:Q',\n",
    "    y=alt.Y(\n",
    "        'Major:O',\n",
    "        sort = alt.EncodingSortField(\n",
    "                field='Num Students',\n",
    "                op = \"sum\",\n",
    "                order = \"descending\"\n",
    "        )\n",
    "    )\n",
    ").properties(height=400,width=400,title=\"By major, what is the breakdown of applicants who don't attend Siena? (Last 3 Years)\")"
   ]
  },
  {
   "cell_type": "markdown",
   "metadata": {},
   "source": [
    "### Breakdown of Collges applicants choose over Siena, by School of Science/Business/Liberal Arts"
   ]
  },
  {
   "cell_type": "code",
   "execution_count": null,
   "metadata": {},
   "outputs": [],
   "source": [
    "college_by_school = df[['College_chosen_by_non-matrics','CollegeCode','Unique_student_ID']]\n",
    "college_by_school = college_by_school[~college_by_school['College_chosen_by_non-matrics'].isnull()]\n",
    "\n",
    "college_by_school = college_by_school.groupby([\"College_chosen_by_non-matrics\",\n",
    "                                              \"CollegeCode\"]).count().rename(columns={\"Unique_student_ID\":\"Num Students\"})\n",
    "college_by_school = college_by_school.reset_index().rename(columns={\"CollegeCode\":\"School\"})\n",
    "college_by_school['School'] = college_by_school['School'].map({\"AD\":\"School of Art\",\"BD\":\"School of Business\",\"SD\":\"School of Science\"})"
   ]
  },
  {
   "cell_type": "code",
   "execution_count": null,
   "metadata": {},
   "outputs": [],
   "source": [
    "num_colleges = 30\n",
    "height = 600\n",
    "width = 600\n",
    "\n",
    "top_choices = college_by_major.groupby(\"College_chosen_by_non-matrics\").sum().sort_values(\"Num Students\",\n",
    "                                                        ascending=False).iloc[:num_colleges].index.values\n",
    "\n",
    "bars = alt.Chart(college_by_school.set_index(\"College_chosen_by_non-matrics\").loc[top_choices].reset_index()).mark_bar().encode(\n",
    "    x=alt.X('Num Students:Q', stack='zero'),\n",
    "    y=alt.Y('College_chosen_by_non-matrics:O',axis=alt.Axis(title=''),\n",
    "           sort=alt.EncodingSortField(\n",
    "            field=\"yield\",  # The field to use for the sort\n",
    "            op=\"sum\",  # The operation to run on the field prior to sorting\n",
    "            order=\"ascending\"  # The order to sort in\n",
    "        )),\n",
    "    color=alt.Color('School')\n",
    ").properties(height=height,width=width,title=\"Colleges Chosen by intended School at Siena: Last 3 Years\")\n",
    "\n",
    "text = alt.Chart(college_by_school.set_index(\"College_chosen_by_non-matrics\").loc[top_choices].reset_index()).mark_text(\n",
    "    dx=-10, dy=3, color='white').encode(\n",
    "    x=alt.X('Num Students:Q', stack='zero'),\n",
    "    y=alt.Y('College_chosen_by_non-matrics:O',sort=alt.EncodingSortField(\n",
    "            field=\"yield\",  # The field to use for the sort\n",
    "            op=\"sum\",  # The operation to run on the field prior to sorting\n",
    "            order=\"ascending\"  # The order to sort in\n",
    "        )),\n",
    "    detail='School:O',\n",
    "    text=alt.Text('Num Students:Q', format='.0f')\n",
    ").properties(height=height,width=width)\n",
    "\n",
    "bars + text"
   ]
  },
  {
   "cell_type": "markdown",
   "metadata": {},
   "source": [
    "### Where do Undeclared Liberal Arts Majors Go??"
   ]
  },
  {
   "cell_type": "code",
   "execution_count": null,
   "metadata": {},
   "outputs": [],
   "source": [
    "alt.Chart(college_by_major[college_by_major['Major']=='UNAR'].groupby(\n",
    "    \"College_chosen_by_non-matrics\").sum().reset_index(\n",
    ").sort_values(\"Num Students\",ascending=False).iloc[:30]).mark_bar().encode(\n",
    "    x='Num Students:Q',\n",
    "    y=alt.Y(\n",
    "        'College_chosen_by_non-matrics:O',\n",
    "        sort = alt.EncodingSortField(\n",
    "                field='Num Students',\n",
    "                op = \"sum\",\n",
    "                order = \"descending\"\n",
    "        )\n",
    "    )\n",
    ").properties(height=400,width=400,title='Colleges Chosen by Undeclared Arts Majors: Last 3 Years').configure_mark(\n",
    "   opacity=0.5,color='blue')"
   ]
  }
 ],
 "metadata": {
  "kernelspec": {
   "display_name": "Python 3",
   "language": "python",
   "name": "python3"
  },
  "language_info": {
   "codemirror_mode": {
    "name": "ipython",
    "version": 3
   },
   "file_extension": ".py",
   "mimetype": "text/x-python",
   "name": "python",
   "nbconvert_exporter": "python",
   "pygments_lexer": "ipython3",
   "version": "3.7.3"
  }
 },
 "nbformat": 4,
 "nbformat_minor": 4
}
