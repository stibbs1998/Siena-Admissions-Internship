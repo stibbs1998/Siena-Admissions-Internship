{
 "cells": [
  {
   "cell_type": "markdown",
   "metadata": {},
   "source": [
    "### Colleges Chosen by Non-Matrics\n",
    "\n",
    "This notebook was created to explore the new data for where accepted students decide to go in favor of Siena.  The bulk of the plots in this notebook were generated using [Altair](https://altair-viz.github.io/)."
   ]
  },
  {
   "cell_type": "markdown",
   "metadata": {},
   "source": [
    "Import necessary libraries."
   ]
  },
  {
   "cell_type": "code",
   "execution_count": null,
   "metadata": {
    "scrolled": true
   },
   "outputs": [],
   "source": [
    "import numpy as np\n",
    "import seaborn as sns\n",
    "import matplotlib.pyplot as plt\n",
    "import pandas as pd\n",
    "import pickle as pkl\n",
    "import os\n",
    "import sys\n",
    "import altair as alt\n",
    "alt.renderers.enable('notebook')\n",
    "\n",
    "from vega_datasets import data\n",
    "\n",
    "import warnings\n",
    "warnings.filterwarnings('ignore')\n",
    "\n",
    "sys.path.insert(0, '../src/visualization/')\n",
    "import visualize as vis"
   ]
  },
  {
   "cell_type": "markdown",
   "metadata": {},
   "source": [
    "Load in all of the .csv files as DataFrames.  Then, we concatenate the three DataFrames of college data into one, and map this data to `df['College_chosen_by_non-matrics']`."
   ]
  },
  {
   "cell_type": "code",
   "execution_count": null,
   "metadata": {},
   "outputs": [],
   "source": [
    "df = pd.read_csv('../data/processed/CriticalPath_Data_EM_Confidential_lessNoise.csv').drop(columns='Unnamed: 0')"
   ]
  },
  {
   "cell_type": "markdown",
   "metadata": {},
   "source": [
    "Create a DataFrame that groups students by the college they chose over Siena, as well as what major these students were."
   ]
  },
  {
   "cell_type": "code",
   "execution_count": null,
   "metadata": {},
   "outputs": [],
   "source": [
    "college_by_major = df.groupby([\"College_chosen_by_non-matrics\",\n",
    "                                              \"Major\"]).count().rename(columns={\"Unique_student_ID\":\"# Students\"})\n",
    "college_by_major = college_by_major.reset_index()"
   ]
  },
  {
   "cell_type": "markdown",
   "metadata": {},
   "source": [
    "Create a barplot showing the breakdown of students that chose UAlbany over Siena College."
   ]
  },
  {
   "cell_type": "code",
   "execution_count": null,
   "metadata": {},
   "outputs": [],
   "source": [
    "alt.Chart(college_by_major[college_by_major['College_chosen_by_non-matrics']=='SUNY UNIVERSITY AT ALBANY'].iloc[:15]).mark_bar().encode(\n",
    "    x='# Students:Q',\n",
    "    y=alt.Y(\n",
    "        'Major:O',\n",
    "        sort = alt.EncodingSortField(\n",
    "                field='# Students',\n",
    "                op = \"sum\",\n",
    "                order = \"descending\"\n",
    "        )\n",
    "    )\n",
    ").properties(height=200,width=300,title='Applicants who go to UAlbany instead of Siena: Last 3 Years')"
   ]
  },
  {
   "cell_type": "markdown",
   "metadata": {},
   "source": [
    "All students who were accepted to Siena, but chose another college, broken down by major.  It seems to look like this barplot matches up well with the applicants by major barplot on [01-st-exploratory.ipynb](https://github.com/stibbs1998/admissions_internship/blob/master/notebooks/01-st-exploratory.ipynb)."
   ]
  },
  {
   "cell_type": "code",
   "execution_count": null,
   "metadata": {},
   "outputs": [],
   "source": [
    "alt.Chart(college_by_major.groupby(\"Major\").sum().reset_index(\n",
    ").sort_values(\"# Students\",ascending=False).iloc[:30]).mark_bar().encode(\n",
    "    x='# Students:Q',\n",
    "    y=alt.Y(\n",
    "        'Major:O',\n",
    "        sort = alt.EncodingSortField(\n",
    "                field='# Students:Q',\n",
    "                op = \"sum\",\n",
    "                order = \"descending\"\n",
    "        )\n",
    "    )\n",
    ").properties(height=400,width=400,title=\"Applicants Who Don't Attend Siena by Major (Last 3 Years)\")"
   ]
  },
  {
   "cell_type": "markdown",
   "metadata": {},
   "source": [
    "Create a DataFrame to breakdown applicants by their `'CollegeCode'`.  That is, are they applying to the School of Science, Business, or Liberal Arts."
   ]
  },
  {
   "cell_type": "code",
   "execution_count": null,
   "metadata": {},
   "outputs": [],
   "source": [
    "college_by_school = df[~df['College_chosen_by_non-matrics'].isnull()]\n",
    "\n",
    "college_by_school = college_by_school.groupby([\"College_chosen_by_non-matrics\",\n",
    "                                              \"CollegeCode\"]).count().rename(columns={\"Unique_student_ID\":\"# Students\"})\n",
    "college_by_school = college_by_school.reset_index().rename(columns={\"CollegeCode\":\"School\"})\n",
    "college_by_school['School'] = college_by_school['School'].map({\"AD\":\"School of Art\",\"BD\":\"School of Business\",\"SD\":\"School of Science\"})"
   ]
  },
  {
   "cell_type": "markdown",
   "metadata": {},
   "source": [
    "Create a barplot of the top thirty colleges by the total students who chose to go there over Siena.  Further break this down by the number who applied to the School of Science, Business, and Liberal Arts."
   ]
  },
  {
   "cell_type": "code",
   "execution_count": null,
   "metadata": {},
   "outputs": [],
   "source": [
    "num_colleges = 30\n",
    "height = 500\n",
    "width = 500\n",
    "\n",
    "top_choices = college_by_school.groupby(\"College_chosen_by_non-matrics\").sum().sort_values(\"# Students\",\n",
    "                                                        ascending=False).iloc[:num_colleges].index.values\n",
    "\n",
    "_source = college_by_school.set_index(\"College_chosen_by_non-matrics\").loc[top_choices].reset_index()\n",
    "\n",
    "def popular_college_by_school(source,title):\n",
    "\n",
    "    bars = alt.Chart(source).mark_bar().encode(\n",
    "        x=alt.X('# Students:Q', stack='zero'),\n",
    "        y=alt.Y('College_chosen_by_non-matrics:O',axis=alt.Axis(title=''),\n",
    "               sort=alt.EncodingSortField(\n",
    "                field=\"yield\",  # The field to use for the sort\n",
    "                op=\"sum\",  # The operation to run on the field prior to sorting\n",
    "                order=\"ascending\"  # The order to sort in\n",
    "            )),\n",
    "        color=alt.Color('School')\n",
    "    ).properties(height=height,width=width,title=title)\n",
    "\n",
    "    text = alt.Chart(source).mark_text(\n",
    "        dx=-10, dy=3, color='white').encode(\n",
    "        x=alt.X('# Students:Q', stack='zero'),\n",
    "        y=alt.Y('College_chosen_by_non-matrics:O',sort=alt.EncodingSortField(\n",
    "                field=\"yield\",  # The field to use for the sort\n",
    "                op=\"sum\",  # The operation to run on the field prior to sorting\n",
    "                order=\"ascending\"  # The order to sort in\n",
    "            )),\n",
    "        detail='School:O',\n",
    "        text=alt.Text('# Students:Q', format='.0f')\n",
    "    ).properties(height=height,width=width)\n",
    "\n",
    "    return bars + text\n",
    "\n",
    "popular_college_by_school(_source,title='College Breakdown by Department: Last Three Years')"
   ]
  },
  {
   "cell_type": "markdown",
   "metadata": {},
   "source": [
    "Barplot of where undeclared liberal arts majors go."
   ]
  },
  {
   "cell_type": "code",
   "execution_count": null,
   "metadata": {},
   "outputs": [],
   "source": [
    "alt.Chart(college_by_major[college_by_major['Major']=='UNAR'].groupby(\n",
    "    \"College_chosen_by_non-matrics\").sum().reset_index(\n",
    ").sort_values(\"# Students\",ascending=False).iloc[:30]).mark_bar().encode(\n",
    "    x='# Students:Q',\n",
    "    y=alt.Y(\n",
    "        'College_chosen_by_non-matrics:O',\n",
    "        sort = alt.EncodingSortField(\n",
    "                field='# Students',\n",
    "                op = \"sum\",\n",
    "                order = \"descending\"\n",
    "        )\n",
    "    )\n",
    ").properties(height=400,width=400,title='Colleges Chosen by Undeclared Arts Majors: Last 3 Years').configure_mark(\n",
    "   opacity=0.5,color='blue')"
   ]
  },
  {
   "cell_type": "markdown",
   "metadata": {},
   "source": [
    "We can even look at each individual major to find where other students tend to go. \n",
    "\n",
    "Below we define a function that takes in a major and returns the cooresponding barplot."
   ]
  },
  {
   "cell_type": "code",
   "execution_count": null,
   "metadata": {},
   "outputs": [],
   "source": [
    "def major_breakdown(major,n=20,col='blue'):\n",
    "    return alt.Chart(college_by_major.groupby([\"College_chosen_by_non-matrics\",\"Major\"]).sum().reset_index(\n",
    "    ).sort_values(\"# Students\",ascending=False)[college_by_major['Major']== major][:n]).mark_bar(color=col).encode(\n",
    "        x='# Students:Q',\n",
    "        y=alt.Y(\n",
    "            'College_chosen_by_non-matrics:O',axis=alt.Axis(title=''),\n",
    "            sort = alt.EncodingSortField(\n",
    "                    field='# Students',\n",
    "                    op = \"sum\",\n",
    "                    order = \"descending\"\n",
    "            )\n",
    "        )\n",
    "    ).properties(height=300,width=200,title=f\"Where else do {major} Majors go?\")"
   ]
  },
  {
   "cell_type": "markdown",
   "metadata": {},
   "source": [
    "Side-by-side barplots of where both Physics and Business majors decide to attend over Siena Collge."
   ]
  },
  {
   "cell_type": "code",
   "execution_count": null,
   "metadata": {},
   "outputs": [],
   "source": [
    "major_breakdown('PHYS',n=10,col='green') | major_breakdown('BUSI',n=10,col='gold')"
   ]
  },
  {
   "cell_type": "markdown",
   "metadata": {},
   "source": [
    "Is there a way to find the average distance from someone's house to the school they go to????\n",
    "\n",
    "Using the [Haversine Formula](https://en.wikipedia.org/wiki/Haversine_formula), we can calculate the distance from one point to another in kilometers.  This is done in the source code found [here]\n",
    "\n",
    "Haversine Formula:  $$ d =  3,958.8 mi \\cdot c$$ \n",
    "$$ c = 2 \\cdot atan^2( \\sqrt{a}, \\sqrt{1-a} ) $$ \n",
    "$$ a = sin^2 (\\Delta \\phi /2) + cos\\phi_1 \\cdot cos\\phi_2 \\cdot sin^2(\\Delta \\lambda /2) $$\n",
    "* $d$ is the distance from A $\\to$ B\n",
    "* $\\phi$ is the latitude (North/South)\n",
    "* $\\lambda$ is the longitude (East/West)"
   ]
  },
  {
   "cell_type": "markdown",
   "metadata": {},
   "source": [
    "What is the median distance to Siena College of students broken down by admission status??"
   ]
  },
  {
   "cell_type": "code",
   "execution_count": null,
   "metadata": {},
   "outputs": [],
   "source": [
    "alt.Chart(df.groupby(\"Admission_status\").median().reset_index() ).mark_bar().encode(\n",
    "    x=alt.X('Dist_to_Siena:Q',axis=alt.Axis(title='Distance to Siena (mi)')),\n",
    "    y=alt.Y(\n",
    "        'Admission_status:O', title='Admission Status',\n",
    "        sort = alt.EncodingSortField(\n",
    "                field='Dist_to_Siena',\n",
    "                op = \"sum\",\n",
    "                order = \"descending\",\n",
    "        )\n",
    "    ),\n",
    "    color='Admission_status:O'\n",
    ").properties(height=300,width=300,title=\"Median Distance to Siena College\").configure_mark() "
   ]
  },
  {
   "cell_type": "markdown",
   "metadata": {},
   "source": [
    "Create a layered, normalized histogram of distance to Siena by admission status."
   ]
  },
  {
   "cell_type": "code",
   "execution_count": null,
   "metadata": {},
   "outputs": [],
   "source": [
    "f, axes = plt.subplots(figsize=(10,6))\n",
    "mile_limit = 500\n",
    "bins = 50\n",
    "\n",
    "sns.distplot(df[(df['Admission_status']=='Applied') & df['Dist_to_Siena'].le(mile_limit)]['Dist_to_Siena'],\n",
    "             color='skyblue',label='Applied',hist_kws={\"alpha\":0.5},bins=bins);\n",
    "sns.distplot(df[(df['Admission_status']=='Accepted') & df['Dist_to_Siena'].le(mile_limit)]['Dist_to_Siena'],\n",
    "             color='red',label='Accepted',hist_kws={\"alpha\":0.4}, bins=bins);\n",
    "sns.distplot(df[(df['Admission_status']=='Enrolled') & df['Dist_to_Siena'].le(mile_limit)]['Dist_to_Siena'],\n",
    "             color='gold',label='Enrolled',hist_kws={\"alpha\":0.3}, bins=bins);\n",
    "\n",
    "plt.legend(loc='best');\n",
    "plt.ylabel('Kernel Density Estimate')\n",
    "plt.xlabel(\"Distance to Siena College (mi)\")\n",
    "plt.title('Distance to Siena by Admission Status');"
   ]
  },
  {
   "cell_type": "markdown",
   "metadata": {},
   "source": [
    "For the 20 most popular colleges selected by accepted applicants to Siena, how does distance from Siena vs the distance to other colleges affect their popularity?\n",
    "\n",
    "Using [this](https://altair-viz.github.io/gallery/selection_histogram.html) as the boilerplate for the code, we are able to select ***ANY*** range of distance to Siena College, and generate the barplot for attendance at school this far away."
   ]
  },
  {
   "cell_type": "code",
   "execution_count": null,
   "metadata": {},
   "outputs": [],
   "source": [
    "top_choices = df.groupby(\"College_chosen_by_non-matrics\").sum().sort_values(\"Unique_student_ID\",\n",
    "                                                        ascending=False).iloc[:20].index.values\n",
    "\n",
    "source = df.set_index(\"College_chosen_by_non-matrics\").loc[top_choices].reset_index()\n",
    "source = source[(source['Dist_to_Siena']<500)&(source['Dist_to_Ccbnm']<1000)]\n",
    "source['index'] = source.index\n",
    "source['Year_of_entry'] = (source['Year_of_entry']-30)/100\n",
    "\n",
    "brush = alt.selection(type='interval')\n",
    "\n",
    "points = alt.Chart(source).mark_point().encode(\n",
    "    y=alt.Y('Dist_to_Ccbnm:Q',axis=alt.Axis(title='Distance to College Attended (mi)')),\n",
    "    x=alt.X('Dist_to_Siena:Q',axis=alt.Axis(title='Distance to Siena (mi)')),\n",
    "    color=alt.condition(brush, 'CollegeCode:N', alt.value('lightgray'))\n",
    ").add_selection(\n",
    "    brush\n",
    ").properties(height=800,width=800)\n",
    "\n",
    "bars = alt.Chart(source).mark_bar().encode(\n",
    "    y=alt.Y('College_chosen_by_non-matrics:N',sort=alt.EncodingSortField(\n",
    "            field=\"College_chosen_by_non-matrics:Q\", \n",
    "            op=\"count\",\n",
    "            order=\"descending\")\n",
    "        ),\n",
    "    color='CollegeCode:N',\n",
    "    x=alt.X('count(College_chosen_by_non-matrics):Q')\n",
    ").transform_filter(\n",
    "    brush\n",
    ").properties(height=800,width=800)\n",
    "\n",
    "text = alt.Chart(source).mark_text(\n",
    "        dx=-10, dy=3, color='white').encode(\n",
    "        x=alt.X('count(College_chosen_by_non-matrics):Q', stack='zero',title='# Students'),\n",
    "        y=alt.Y('College_chosen_by_non-matrics:N', axis=alt.Axis(title=''),\n",
    "               sort=alt.EncodingSortField(\n",
    "                    field=\"College_chosen_by_non-matrics:Q\", \n",
    "                    op=\"count\",\n",
    "                    order=\"descending\")),\n",
    "        detail='CollegeCode:O',\n",
    "        text=alt.Text('count(CollegeCode):Q', format='.0f')\n",
    ").transform_filter(\n",
    "    brush\n",
    ").properties(height=800,width=800)\n",
    "\n",
    "(points | (bars+text)).save('../reports/Dist2Siena_Ccbnm.html')"
   ]
  },
  {
   "cell_type": "markdown",
   "metadata": {},
   "source": [
    "Now lets look at the distribution of distances another way.  Let's have the ability to mouse over any college, and obtain a histogram detailing the distribution of distance to Siena."
   ]
  },
  {
   "cell_type": "code",
   "execution_count": null,
   "metadata": {
    "scrolled": false
   },
   "outputs": [],
   "source": [
    "alt.data_transformers.enable('json')\n",
    "\n",
    "selector = alt.selection_single(empty='all', fields=['College_chosen_by_non-matrics'])\n",
    "\n",
    "states = alt.topo_feature(data.us_10m.url, feature='states')\n",
    "\n",
    "source = df.dropna(subset=['ccbnm_for_dist'])\n",
    "\n",
    "base = alt.Chart(source).properties(\n",
    "    width=800,\n",
    "    height=800\n",
    ").add_selection(selector)\n",
    "\n",
    "\n",
    "background = alt.Chart(states).mark_geoshape(\n",
    "    fill='lightgray',\n",
    "    stroke='white'\n",
    ").properties(title=\"Colleges Chosen by Non-Matrics\",\n",
    "    width=800,\n",
    "    height=800\n",
    ").project('albersUsa')\n",
    "\n",
    "points = base.mark_circle(size=20,color='steelblue').encode(\n",
    "    longitude='ccbnm_long:Q',\n",
    "    latitude='ccbnm_lat:Q',\n",
    "    tooltip=['College_chosen_by_non-matrics','ccbnm_lat','ccbnm_long']\n",
    ").add_selection(\n",
    "    selector\n",
    ")\n",
    "\n",
    "hists = base.mark_bar(opacity=0.5, thickness=100).encode(\n",
    "    x=alt.X('Dist_to_Ccbnm', axis=alt.Axis(title='Distance to College (mi)'),\n",
    "            bin=alt.Bin(step=50)),\n",
    "    y=alt.Y('count()', axis=alt.Axis(title='Number of Students'),\n",
    "            stack=None)\n",
    ").transform_filter(\n",
    "    selector\n",
    ").properties(width=800,height=800)\n",
    "\n",
    "((background + points) | hists).save('../reports/College_Map_Histogram.html')"
   ]
  }
 ],
 "metadata": {
  "kernelspec": {
   "display_name": "Python 3",
   "language": "python",
   "name": "python3"
  },
  "language_info": {
   "codemirror_mode": {
    "name": "ipython",
    "version": 3
   },
   "file_extension": ".py",
   "mimetype": "text/x-python",
   "name": "python",
   "nbconvert_exporter": "python",
   "pygments_lexer": "ipython3",
   "version": "3.7.3"
  }
 },
 "nbformat": 4,
 "nbformat_minor": 4
}
