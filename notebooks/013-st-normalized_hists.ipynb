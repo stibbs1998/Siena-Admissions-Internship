{
 "cells": [
  {
   "cell_type": "code",
   "execution_count": null,
   "metadata": {},
   "outputs": [],
   "source": [
    "import numpy as np\n",
    "import matplotlib.pyplot as plt\n",
    "import seaborn as sns\n",
    "import pandas as pd\n",
    "import sys\n",
    "import os\n",
    "import altair as alt\n",
    "import warnings\n",
    "warnings.filterwarnings('ignore')\n",
    "\n",
    "sys.path.insert(0, '../src/visualization/')\n",
    "import visualize as vis"
   ]
  },
  {
   "cell_type": "markdown",
   "metadata": {},
   "source": [
    "## Create 3 histograms for all categories, separated as follows:\n",
    "* Enrolled\n",
    "* Accepted - not enrolled\n",
    "* All Applied"
   ]
  },
  {
   "cell_type": "code",
   "execution_count": null,
   "metadata": {},
   "outputs": [],
   "source": [
    "df = pd.read_csv('../data/processed/CriticalPath_Data_EM_Confidential_lessNoise.csv').drop(\n",
    "    columns=['Unnamed: 0'])"
   ]
  },
  {
   "cell_type": "code",
   "execution_count": null,
   "metadata": {},
   "outputs": [],
   "source": [
    "df_accepted_not_enrolled = df[df['Admission_status']==70]\n",
    "df_enrolled = df[df['Admission_status']==80]\n",
    "# df_applied = df"
   ]
  },
  {
   "cell_type": "code",
   "execution_count": null,
   "metadata": {},
   "outputs": [],
   "source": [
    "def applied_accept_enroll_hist(col,bins):\n",
    "\n",
    "    f, axes = plt.subplots(figsize=(10,6))\n",
    "\n",
    "    sns.distplot(df_enrolled[col].dropna(),color='skyblue',label=\"Enrolled\",bins=bins);\n",
    "    sns.distplot(df_accepted_not_enrolled[col].dropna(),color='red',label=\"Accepted - not Enrolled\",\n",
    "                bins = bins)\n",
    "    sns.distplot(df[col].dropna(),color='green',label=\"Applied\",\n",
    "                bins = bins)\n",
    "\n",
    "    plt.ylabel(\"Kernel Density Estimate\")\n",
    "    plt.legend(loc='best')\n",
    "    plt.title(col)\n",
    "    plt.xticks(rotation=90);"
   ]
  },
  {
   "cell_type": "code",
   "execution_count": null,
   "metadata": {},
   "outputs": [],
   "source": [
    "for col in df.select_dtypes([float,int]).columns.values:\n",
    "    applied_accept_enroll_hist(col,20)"
   ]
  }
 ],
 "metadata": {
  "kernelspec": {
   "display_name": "Python 3",
   "language": "python",
   "name": "python3"
  },
  "language_info": {
   "codemirror_mode": {
    "name": "ipython",
    "version": 3
   },
   "file_extension": ".py",
   "mimetype": "text/x-python",
   "name": "python",
   "nbconvert_exporter": "python",
   "pygments_lexer": "ipython3",
   "version": "3.7.3"
  }
 },
 "nbformat": 4,
 "nbformat_minor": 4
}
